{
 "cells": [
  {
   "cell_type": "code",
   "execution_count": 25,
   "metadata": {},
   "outputs": [],
   "source": [
    "import pandas as pd\n",
    "import numpy as np\n",
    "import xgboost as xgb\n",
    "from sklearn.ensemble import RandomForestRegressor\n",
    "from sklearn.model_selection import cross_val_score,ShuffleSplit, RandomizedSearchCV,cross_val_predict,cross_validate,GridSearchCV\n",
    "from sklearn.metrics import mean_squared_error,r2_score\n",
    "import scipy\n",
    "import matplotlib.pyplot as plt\n",
    "import seaborn as sns"
   ]
  },
  {
   "cell_type": "code",
   "execution_count": 3,
   "metadata": {},
   "outputs": [],
   "source": [
    "X_train_scaled = pd.read_csv('/home/kolade/repos/house-prediction/dataset/train_scaled.csv')\n",
    "X_test_scaled  = pd.read_csv('/home/kolade/repos/house-prediction/dataset/test_scaled.csv')\n",
    "X_train = pd.read_csv('/home/kolade/repos/house-prediction/dataset/train.csv')\n",
    "X_test = pd.read_csv('/home/kolade/repos/house-prediction/dataset/test.csv')"
   ]
  },
  {
   "cell_type": "code",
   "execution_count": 4,
   "metadata": {},
   "outputs": [
    {
     "data": {
      "text/plain": [
       "((1241, 85), (219, 85), (1241, 85), (219, 85))"
      ]
     },
     "execution_count": 4,
     "metadata": {},
     "output_type": "execute_result"
    }
   ],
   "source": [
    "X_train_scaled.shape, X_test_scaled.shape, X_train.shape, X_test.shape"
   ]
  },
  {
   "cell_type": "code",
   "execution_count": 5,
   "metadata": {},
   "outputs": [],
   "source": [
    "y_train_scaled, y_test_scaled = X_train_scaled[['SalePrice']], X_test_scaled[['SalePrice']]\n",
    "y_train, y_test = X_train[['SalePrice']], X_test[['SalePrice']]"
   ]
  },
  {
   "cell_type": "code",
   "execution_count": 6,
   "metadata": {},
   "outputs": [
    {
     "data": {
      "text/plain": [
       "((1241, 1), (219, 1), (1241, 1), (219, 1))"
      ]
     },
     "execution_count": 6,
     "metadata": {},
     "output_type": "execute_result"
    }
   ],
   "source": [
    "y_train_scaled.shape, y_test_scaled.shape, y_train.shape, y_test.shape"
   ]
  },
  {
   "cell_type": "code",
   "execution_count": 7,
   "metadata": {},
   "outputs": [],
   "source": [
    "X_train_scaled.drop(['Id','SalePrice'], axis =1, inplace=True)\n",
    "X_train.drop(['Id','SalePrice'], axis =1, inplace=True)\n",
    "X_test.drop(['Id','SalePrice'], axis =1, inplace=True)\n",
    "X_test_scaled.drop(['Id','SalePrice'], axis =1, inplace=True)"
   ]
  },
  {
   "cell_type": "markdown",
   "metadata": {},
   "source": [
    "# Theory testing "
   ]
  },
  {
   "cell_type": "markdown",
   "metadata": {},
   "source": [
    "**Two different engineered datasets were loaded, scaled and unscaled dataset. In this section a test is carried out to verify that both scaled and unscaled datasets have no effect on non-parametric models, this is done by fitting two separate tree models on one for each dataset. The metrics of both models are compared**."
   ]
  },
  {
   "cell_type": "code",
   "execution_count": 8,
   "metadata": {},
   "outputs": [],
   "source": [
    "# setting cross-validation split\n",
    "cv = ShuffleSplit(n_splits=10,random_state=42)"
   ]
  },
  {
   "cell_type": "code",
   "execution_count": 9,
   "metadata": {},
   "outputs": [],
   "source": [
    "# random forest for scaled dataset \n",
    "rf_scaled =RandomForestRegressor(random_state=42)"
   ]
  },
  {
   "cell_type": "code",
   "execution_count": 10,
   "metadata": {},
   "outputs": [],
   "source": [
    "# random forest for unscaled datset \n",
    "rf = RandomForestRegressor(random_state=42)"
   ]
  },
  {
   "cell_type": "code",
   "execution_count": 11,
   "metadata": {},
   "outputs": [],
   "source": [
    "# xgboost regressors for scaled  dataset\n",
    "xgb_scaled = xgb.XGBRegressor(random_state=42)\n",
    "# xgboost regressors for unscaled  dataset\n",
    "xgb_rgr = xgb.XGBRegressor(random_state=42)"
   ]
  },
  {
   "cell_type": "code",
   "execution_count": 12,
   "metadata": {},
   "outputs": [],
   "source": [
    "def display_scores(scores):\n",
    "        \"\"\"Computes mean and standard deviation of scores from cross-validation\"\"\"\n",
    "        print(\"Mean:\", scores.mean())\n",
    "        print(\"Standard deviation:\", scores.std())"
   ]
  },
  {
   "cell_type": "code",
   "execution_count": 13,
   "metadata": {
    "collapsed": true
   },
   "outputs": [
    {
     "name": "stderr",
     "output_type": "stream",
     "text": [
      "/home/kolade/anaconda3/lib/python3.7/site-packages/sklearn/ensemble/forest.py:245: FutureWarning: The default value of n_estimators will change from 10 in version 0.20 to 100 in 0.22.\n",
      "  \"10 in version 0.20 to 100 in 0.22.\", FutureWarning)\n",
      "/home/kolade/anaconda3/lib/python3.7/site-packages/sklearn/model_selection/_validation.py:514: DataConversionWarning: A column-vector y was passed when a 1d array was expected. Please change the shape of y to (n_samples,), for example using ravel().\n",
      "  estimator.fit(X_train, y_train, **fit_params)\n",
      "/home/kolade/anaconda3/lib/python3.7/site-packages/sklearn/ensemble/forest.py:245: FutureWarning: The default value of n_estimators will change from 10 in version 0.20 to 100 in 0.22.\n",
      "  \"10 in version 0.20 to 100 in 0.22.\", FutureWarning)\n",
      "/home/kolade/anaconda3/lib/python3.7/site-packages/sklearn/model_selection/_validation.py:514: DataConversionWarning: A column-vector y was passed when a 1d array was expected. Please change the shape of y to (n_samples,), for example using ravel().\n",
      "  estimator.fit(X_train, y_train, **fit_params)\n",
      "/home/kolade/anaconda3/lib/python3.7/site-packages/sklearn/ensemble/forest.py:245: FutureWarning: The default value of n_estimators will change from 10 in version 0.20 to 100 in 0.22.\n",
      "  \"10 in version 0.20 to 100 in 0.22.\", FutureWarning)\n",
      "/home/kolade/anaconda3/lib/python3.7/site-packages/sklearn/model_selection/_validation.py:514: DataConversionWarning: A column-vector y was passed when a 1d array was expected. Please change the shape of y to (n_samples,), for example using ravel().\n",
      "  estimator.fit(X_train, y_train, **fit_params)\n",
      "/home/kolade/anaconda3/lib/python3.7/site-packages/sklearn/ensemble/forest.py:245: FutureWarning: The default value of n_estimators will change from 10 in version 0.20 to 100 in 0.22.\n",
      "  \"10 in version 0.20 to 100 in 0.22.\", FutureWarning)\n",
      "/home/kolade/anaconda3/lib/python3.7/site-packages/sklearn/model_selection/_validation.py:514: DataConversionWarning: A column-vector y was passed when a 1d array was expected. Please change the shape of y to (n_samples,), for example using ravel().\n",
      "  estimator.fit(X_train, y_train, **fit_params)\n",
      "/home/kolade/anaconda3/lib/python3.7/site-packages/sklearn/ensemble/forest.py:245: FutureWarning: The default value of n_estimators will change from 10 in version 0.20 to 100 in 0.22.\n",
      "  \"10 in version 0.20 to 100 in 0.22.\", FutureWarning)\n",
      "/home/kolade/anaconda3/lib/python3.7/site-packages/sklearn/model_selection/_validation.py:514: DataConversionWarning: A column-vector y was passed when a 1d array was expected. Please change the shape of y to (n_samples,), for example using ravel().\n",
      "  estimator.fit(X_train, y_train, **fit_params)\n",
      "/home/kolade/anaconda3/lib/python3.7/site-packages/sklearn/ensemble/forest.py:245: FutureWarning: The default value of n_estimators will change from 10 in version 0.20 to 100 in 0.22.\n",
      "  \"10 in version 0.20 to 100 in 0.22.\", FutureWarning)\n",
      "/home/kolade/anaconda3/lib/python3.7/site-packages/sklearn/model_selection/_validation.py:514: DataConversionWarning: A column-vector y was passed when a 1d array was expected. Please change the shape of y to (n_samples,), for example using ravel().\n",
      "  estimator.fit(X_train, y_train, **fit_params)\n",
      "/home/kolade/anaconda3/lib/python3.7/site-packages/sklearn/ensemble/forest.py:245: FutureWarning: The default value of n_estimators will change from 10 in version 0.20 to 100 in 0.22.\n",
      "  \"10 in version 0.20 to 100 in 0.22.\", FutureWarning)\n",
      "/home/kolade/anaconda3/lib/python3.7/site-packages/sklearn/model_selection/_validation.py:514: DataConversionWarning: A column-vector y was passed when a 1d array was expected. Please change the shape of y to (n_samples,), for example using ravel().\n",
      "  estimator.fit(X_train, y_train, **fit_params)\n",
      "/home/kolade/anaconda3/lib/python3.7/site-packages/sklearn/ensemble/forest.py:245: FutureWarning: The default value of n_estimators will change from 10 in version 0.20 to 100 in 0.22.\n",
      "  \"10 in version 0.20 to 100 in 0.22.\", FutureWarning)\n",
      "/home/kolade/anaconda3/lib/python3.7/site-packages/sklearn/model_selection/_validation.py:514: DataConversionWarning: A column-vector y was passed when a 1d array was expected. Please change the shape of y to (n_samples,), for example using ravel().\n",
      "  estimator.fit(X_train, y_train, **fit_params)\n",
      "/home/kolade/anaconda3/lib/python3.7/site-packages/sklearn/ensemble/forest.py:245: FutureWarning: The default value of n_estimators will change from 10 in version 0.20 to 100 in 0.22.\n",
      "  \"10 in version 0.20 to 100 in 0.22.\", FutureWarning)\n",
      "/home/kolade/anaconda3/lib/python3.7/site-packages/sklearn/model_selection/_validation.py:514: DataConversionWarning: A column-vector y was passed when a 1d array was expected. Please change the shape of y to (n_samples,), for example using ravel().\n",
      "  estimator.fit(X_train, y_train, **fit_params)\n",
      "/home/kolade/anaconda3/lib/python3.7/site-packages/sklearn/ensemble/forest.py:245: FutureWarning: The default value of n_estimators will change from 10 in version 0.20 to 100 in 0.22.\n",
      "  \"10 in version 0.20 to 100 in 0.22.\", FutureWarning)\n",
      "/home/kolade/anaconda3/lib/python3.7/site-packages/sklearn/model_selection/_validation.py:514: DataConversionWarning: A column-vector y was passed when a 1d array was expected. Please change the shape of y to (n_samples,), for example using ravel().\n",
      "  estimator.fit(X_train, y_train, **fit_params)\n"
     ]
    }
   ],
   "source": [
    "# test with random forest on scaled data\n",
    "scores_scaled = cross_val_score(rf_scaled, X_train_scaled.values, y_train_scaled.values,cv= cv, scoring='neg_mean_squared_error')"
   ]
  },
  {
   "cell_type": "code",
   "execution_count": 14,
   "metadata": {},
   "outputs": [
    {
     "name": "stdout",
     "output_type": "stream",
     "text": [
      "Mean: 30307.00083972894\n",
      "Standard deviation: 5093.564434687883\n"
     ]
    }
   ],
   "source": [
    "#rmse scores for random forest using scaled data\n",
    "scaled_rmse =  np.sqrt(-scores_scaled)\n",
    "display_scores(scaled_rmse)"
   ]
  },
  {
   "cell_type": "code",
   "execution_count": 15,
   "metadata": {
    "collapsed": true
   },
   "outputs": [
    {
     "name": "stderr",
     "output_type": "stream",
     "text": [
      "/home/kolade/anaconda3/lib/python3.7/site-packages/sklearn/ensemble/forest.py:245: FutureWarning: The default value of n_estimators will change from 10 in version 0.20 to 100 in 0.22.\n",
      "  \"10 in version 0.20 to 100 in 0.22.\", FutureWarning)\n",
      "/home/kolade/anaconda3/lib/python3.7/site-packages/sklearn/model_selection/_validation.py:514: DataConversionWarning: A column-vector y was passed when a 1d array was expected. Please change the shape of y to (n_samples,), for example using ravel().\n",
      "  estimator.fit(X_train, y_train, **fit_params)\n",
      "/home/kolade/anaconda3/lib/python3.7/site-packages/sklearn/ensemble/forest.py:245: FutureWarning: The default value of n_estimators will change from 10 in version 0.20 to 100 in 0.22.\n",
      "  \"10 in version 0.20 to 100 in 0.22.\", FutureWarning)\n",
      "/home/kolade/anaconda3/lib/python3.7/site-packages/sklearn/model_selection/_validation.py:514: DataConversionWarning: A column-vector y was passed when a 1d array was expected. Please change the shape of y to (n_samples,), for example using ravel().\n",
      "  estimator.fit(X_train, y_train, **fit_params)\n",
      "/home/kolade/anaconda3/lib/python3.7/site-packages/sklearn/ensemble/forest.py:245: FutureWarning: The default value of n_estimators will change from 10 in version 0.20 to 100 in 0.22.\n",
      "  \"10 in version 0.20 to 100 in 0.22.\", FutureWarning)\n",
      "/home/kolade/anaconda3/lib/python3.7/site-packages/sklearn/model_selection/_validation.py:514: DataConversionWarning: A column-vector y was passed when a 1d array was expected. Please change the shape of y to (n_samples,), for example using ravel().\n",
      "  estimator.fit(X_train, y_train, **fit_params)\n",
      "/home/kolade/anaconda3/lib/python3.7/site-packages/sklearn/ensemble/forest.py:245: FutureWarning: The default value of n_estimators will change from 10 in version 0.20 to 100 in 0.22.\n",
      "  \"10 in version 0.20 to 100 in 0.22.\", FutureWarning)\n",
      "/home/kolade/anaconda3/lib/python3.7/site-packages/sklearn/model_selection/_validation.py:514: DataConversionWarning: A column-vector y was passed when a 1d array was expected. Please change the shape of y to (n_samples,), for example using ravel().\n",
      "  estimator.fit(X_train, y_train, **fit_params)\n",
      "/home/kolade/anaconda3/lib/python3.7/site-packages/sklearn/ensemble/forest.py:245: FutureWarning: The default value of n_estimators will change from 10 in version 0.20 to 100 in 0.22.\n",
      "  \"10 in version 0.20 to 100 in 0.22.\", FutureWarning)\n",
      "/home/kolade/anaconda3/lib/python3.7/site-packages/sklearn/model_selection/_validation.py:514: DataConversionWarning: A column-vector y was passed when a 1d array was expected. Please change the shape of y to (n_samples,), for example using ravel().\n",
      "  estimator.fit(X_train, y_train, **fit_params)\n",
      "/home/kolade/anaconda3/lib/python3.7/site-packages/sklearn/ensemble/forest.py:245: FutureWarning: The default value of n_estimators will change from 10 in version 0.20 to 100 in 0.22.\n",
      "  \"10 in version 0.20 to 100 in 0.22.\", FutureWarning)\n",
      "/home/kolade/anaconda3/lib/python3.7/site-packages/sklearn/model_selection/_validation.py:514: DataConversionWarning: A column-vector y was passed when a 1d array was expected. Please change the shape of y to (n_samples,), for example using ravel().\n",
      "  estimator.fit(X_train, y_train, **fit_params)\n",
      "/home/kolade/anaconda3/lib/python3.7/site-packages/sklearn/ensemble/forest.py:245: FutureWarning: The default value of n_estimators will change from 10 in version 0.20 to 100 in 0.22.\n",
      "  \"10 in version 0.20 to 100 in 0.22.\", FutureWarning)\n",
      "/home/kolade/anaconda3/lib/python3.7/site-packages/sklearn/model_selection/_validation.py:514: DataConversionWarning: A column-vector y was passed when a 1d array was expected. Please change the shape of y to (n_samples,), for example using ravel().\n",
      "  estimator.fit(X_train, y_train, **fit_params)\n",
      "/home/kolade/anaconda3/lib/python3.7/site-packages/sklearn/ensemble/forest.py:245: FutureWarning: The default value of n_estimators will change from 10 in version 0.20 to 100 in 0.22.\n",
      "  \"10 in version 0.20 to 100 in 0.22.\", FutureWarning)\n",
      "/home/kolade/anaconda3/lib/python3.7/site-packages/sklearn/model_selection/_validation.py:514: DataConversionWarning: A column-vector y was passed when a 1d array was expected. Please change the shape of y to (n_samples,), for example using ravel().\n",
      "  estimator.fit(X_train, y_train, **fit_params)\n",
      "/home/kolade/anaconda3/lib/python3.7/site-packages/sklearn/ensemble/forest.py:245: FutureWarning: The default value of n_estimators will change from 10 in version 0.20 to 100 in 0.22.\n",
      "  \"10 in version 0.20 to 100 in 0.22.\", FutureWarning)\n",
      "/home/kolade/anaconda3/lib/python3.7/site-packages/sklearn/model_selection/_validation.py:514: DataConversionWarning: A column-vector y was passed when a 1d array was expected. Please change the shape of y to (n_samples,), for example using ravel().\n",
      "  estimator.fit(X_train, y_train, **fit_params)\n",
      "/home/kolade/anaconda3/lib/python3.7/site-packages/sklearn/ensemble/forest.py:245: FutureWarning: The default value of n_estimators will change from 10 in version 0.20 to 100 in 0.22.\n",
      "  \"10 in version 0.20 to 100 in 0.22.\", FutureWarning)\n",
      "/home/kolade/anaconda3/lib/python3.7/site-packages/sklearn/model_selection/_validation.py:514: DataConversionWarning: A column-vector y was passed when a 1d array was expected. Please change the shape of y to (n_samples,), for example using ravel().\n",
      "  estimator.fit(X_train, y_train, **fit_params)\n"
     ]
    }
   ],
   "source": [
    "# test using cross validation on random forest with unscaled data\n",
    "scores = cross_val_score(rf, X_train.values, y_train.values, cv= cv, scoring='neg_mean_squared_error')"
   ]
  },
  {
   "cell_type": "code",
   "execution_count": 16,
   "metadata": {},
   "outputs": [
    {
     "name": "stdout",
     "output_type": "stream",
     "text": [
      "Mean: 30288.529229635285\n",
      "Standard deviation: 5040.698105633478\n"
     ]
    }
   ],
   "source": [
    "#rmse scores for random forest using unscaled data\n",
    "rmse =  np.sqrt(-scores)\n",
    "display_scores(rmse)"
   ]
  },
  {
   "cell_type": "code",
   "execution_count": 17,
   "metadata": {},
   "outputs": [],
   "source": [
    "# test with xgboost on unscaled data\n",
    "scores_xgb_scaled = cross_val_score(xgb_scaled, X_train_scaled.values, y_train_scaled.values,cv= cv,\\\n",
    "                                    scoring='neg_mean_squared_error', n_jobs=-1)"
   ]
  },
  {
   "cell_type": "code",
   "execution_count": 18,
   "metadata": {},
   "outputs": [
    {
     "name": "stdout",
     "output_type": "stream",
     "text": [
      "Mean: 27389.66536506894\n",
      "Standard deviation: 6358.702624181508\n"
     ]
    }
   ],
   "source": [
    "# rmse scores on scaled data\n",
    "rmse =  np.sqrt(-scores_xgb_scaled)\n",
    "display_scores(rmse)"
   ]
  },
  {
   "cell_type": "code",
   "execution_count": 19,
   "metadata": {},
   "outputs": [],
   "source": [
    "#test with xgboost on scaled data\n",
    "scores_xgb = cross_val_score(xgb_rgr, X_train, y_train.values,cv= cv,\\\n",
    "                             scoring='neg_mean_squared_error', n_jobs=-1,)"
   ]
  },
  {
   "cell_type": "code",
   "execution_count": 20,
   "metadata": {},
   "outputs": [
    {
     "name": "stdout",
     "output_type": "stream",
     "text": [
      "Mean: 27338.45823755151\n",
      "Standard deviation: 6390.529823652247\n"
     ]
    }
   ],
   "source": [
    "#rmse scores with xgboost with unscaled data \n",
    "rmse =  np.sqrt(-scores_xgb)\n",
    "display_scores(rmse)"
   ]
  },
  {
   "cell_type": "markdown",
   "metadata": {},
   "source": [
    "from the scores above:\n",
    "- mean rmse random forest on scaled data = 30307.00083972894\n",
    "- mean rmse random forest on unscaled data = 30288.529229635285\n",
    "- mean rmse Xgboost on unscaled data = 27389.66536506894\n",
    "- mean rmse Xgboost on scaled data = 27338.45823755151\n",
    "\n",
    "These scores shows that our non-parametric models aren't affected by the scale of the data"
   ]
  },
  {
   "cell_type": "markdown",
   "metadata": {},
   "source": [
    "# Feature Selection - Model-based"
   ]
  },
  {
   "cell_type": "markdown",
   "metadata": {},
   "source": [
    "After training on both scaled and unscaled engineered dataset it is noted that, scaling the features does not really have an effect \n",
    "on the parametric model employed. Therefore Model selection and building is carried out on the unscaled dataset.\n",
    "\n",
    "The dataset after featuring engineering has 83 features which would not make deployment easy, hence the need for feature selection\n",
    "\n",
    "The Feature selection process is done with a model based approach. "
   ]
  },
  {
   "cell_type": "code",
   "execution_count": 21,
   "metadata": {},
   "outputs": [],
   "source": [
    "# Parameter distribution for random search\n",
    "parameter_grid ={\n",
    "    'max_depth' :[3,5,7,11],\n",
    "    'learning_rate': scipy.stats.uniform(0.01, 0.1),\n",
    "    'n_estimators' :[50,100,200,300],\n",
    "    'colsample_bytree' :[0.7,0.8,0.9],\n",
    "     'subsample':[0.7,0.8,0.9],\n",
    "    'gamma' :[0,0.5,1],\n",
    "}"
   ]
  },
  {
   "cell_type": "code",
   "execution_count": 253,
   "metadata": {},
   "outputs": [],
   "source": [
    "#xgboost regression for feature selection\n",
    "xgb_rgr = xgb.XGBRegressor(random_state=42, objective='reg:squarederror')"
   ]
  },
  {
   "cell_type": "code",
   "execution_count": 254,
   "metadata": {},
   "outputs": [],
   "source": [
    "#random search cv with 100 iterations\n",
    "rs_cv = RandomizedSearchCV(xgb_rgr,param_distributions=parameter_grid,scoring='neg_mean_squared_error', cv= cv,\\\n",
    "                      n_iter=100, verbose=5)"
   ]
  },
  {
   "cell_type": "code",
   "execution_count": 255,
   "metadata": {
    "collapsed": true
   },
   "outputs": [
    {
     "name": "stdout",
     "output_type": "stream",
     "text": [
      "Fitting 10 folds for each of 100 candidates, totalling 1000 fits\n",
      "[CV] colsample_bytree=0.7, gamma=1, learning_rate=0.0917024992111335, max_depth=7, n_estimators=100, reg_alpha=1, subsample=0.9 \n"
     ]
    },
    {
     "name": "stderr",
     "output_type": "stream",
     "text": [
      "[Parallel(n_jobs=1)]: Using backend SequentialBackend with 1 concurrent workers.\n"
     ]
    },
    {
     "name": "stdout",
     "output_type": "stream",
     "text": [
      "[CV]  colsample_bytree=0.7, gamma=1, learning_rate=0.0917024992111335, max_depth=7, n_estimators=100, reg_alpha=1, subsample=0.9, score=-1163855772.737, total=   0.6s\n",
      "[CV] colsample_bytree=0.7, gamma=1, learning_rate=0.0917024992111335, max_depth=7, n_estimators=100, reg_alpha=1, subsample=0.9 \n"
     ]
    },
    {
     "name": "stderr",
     "output_type": "stream",
     "text": [
      "[Parallel(n_jobs=1)]: Done   1 out of   1 | elapsed:    0.6s remaining:    0.0s\n"
     ]
    },
    {
     "name": "stdout",
     "output_type": "stream",
     "text": [
      "[CV]  colsample_bytree=0.7, gamma=1, learning_rate=0.0917024992111335, max_depth=7, n_estimators=100, reg_alpha=1, subsample=0.9, score=-1561407046.379, total=   0.6s\n",
      "[CV] colsample_bytree=0.7, gamma=1, learning_rate=0.0917024992111335, max_depth=7, n_estimators=100, reg_alpha=1, subsample=0.9 \n"
     ]
    },
    {
     "name": "stderr",
     "output_type": "stream",
     "text": [
      "[Parallel(n_jobs=1)]: Done   2 out of   2 | elapsed:    1.2s remaining:    0.0s\n"
     ]
    },
    {
     "name": "stdout",
     "output_type": "stream",
     "text": [
      "[CV]  colsample_bytree=0.7, gamma=1, learning_rate=0.0917024992111335, max_depth=7, n_estimators=100, reg_alpha=1, subsample=0.9, score=-779822163.998, total=   0.6s\n",
      "[CV] colsample_bytree=0.7, gamma=1, learning_rate=0.0917024992111335, max_depth=7, n_estimators=100, reg_alpha=1, subsample=0.9 \n"
     ]
    },
    {
     "name": "stderr",
     "output_type": "stream",
     "text": [
      "[Parallel(n_jobs=1)]: Done   3 out of   3 | elapsed:    1.8s remaining:    0.0s\n"
     ]
    },
    {
     "name": "stdout",
     "output_type": "stream",
     "text": [
      "[CV]  colsample_bytree=0.7, gamma=1, learning_rate=0.0917024992111335, max_depth=7, n_estimators=100, reg_alpha=1, subsample=0.9, score=-499740497.922, total=   0.6s\n",
      "[CV] colsample_bytree=0.7, gamma=1, learning_rate=0.0917024992111335, max_depth=7, n_estimators=100, reg_alpha=1, subsample=0.9 \n"
     ]
    },
    {
     "name": "stderr",
     "output_type": "stream",
     "text": [
      "[Parallel(n_jobs=1)]: Done   4 out of   4 | elapsed:    2.4s remaining:    0.0s\n"
     ]
    },
    {
     "name": "stdout",
     "output_type": "stream",
     "text": [
      "[CV]  colsample_bytree=0.7, gamma=1, learning_rate=0.0917024992111335, max_depth=7, n_estimators=100, reg_alpha=1, subsample=0.9, score=-425321334.978, total=   0.6s\n",
      "[CV] colsample_bytree=0.7, gamma=1, learning_rate=0.0917024992111335, max_depth=7, n_estimators=100, reg_alpha=1, subsample=0.9 \n",
      "[CV]  colsample_bytree=0.7, gamma=1, learning_rate=0.0917024992111335, max_depth=7, n_estimators=100, reg_alpha=1, subsample=0.9, score=-545331903.263, total=   0.6s\n",
      "[CV] colsample_bytree=0.7, gamma=1, learning_rate=0.0917024992111335, max_depth=7, n_estimators=100, reg_alpha=1, subsample=0.9 \n",
      "[CV]  colsample_bytree=0.7, gamma=1, learning_rate=0.0917024992111335, max_depth=7, n_estimators=100, reg_alpha=1, subsample=0.9, score=-721641352.502, total=   0.6s\n",
      "[CV] colsample_bytree=0.7, gamma=1, learning_rate=0.0917024992111335, max_depth=7, n_estimators=100, reg_alpha=1, subsample=0.9 \n",
      "[CV]  colsample_bytree=0.7, gamma=1, learning_rate=0.0917024992111335, max_depth=7, n_estimators=100, reg_alpha=1, subsample=0.9, score=-1109096284.247, total=   0.6s\n",
      "[CV] colsample_bytree=0.7, gamma=1, learning_rate=0.0917024992111335, max_depth=7, n_estimators=100, reg_alpha=1, subsample=0.9 \n",
      "[CV]  colsample_bytree=0.7, gamma=1, learning_rate=0.0917024992111335, max_depth=7, n_estimators=100, reg_alpha=1, subsample=0.9, score=-464858615.911, total=   0.6s\n",
      "[CV] colsample_bytree=0.7, gamma=1, learning_rate=0.0917024992111335, max_depth=7, n_estimators=100, reg_alpha=1, subsample=0.9 \n",
      "[CV]  colsample_bytree=0.7, gamma=1, learning_rate=0.0917024992111335, max_depth=7, n_estimators=100, reg_alpha=1, subsample=0.9, score=-561991595.524, total=   0.6s\n",
      "[CV] colsample_bytree=0.8, gamma=0, learning_rate=0.07627154223781962, max_depth=11, n_estimators=200, reg_alpha=1, subsample=0.8 \n",
      "[CV]  colsample_bytree=0.8, gamma=0, learning_rate=0.07627154223781962, max_depth=11, n_estimators=200, reg_alpha=1, subsample=0.8, score=-1075897572.345, total=   2.2s\n",
      "[CV] colsample_bytree=0.8, gamma=0, learning_rate=0.07627154223781962, max_depth=11, n_estimators=200, reg_alpha=1, subsample=0.8 \n",
      "[CV]  colsample_bytree=0.8, gamma=0, learning_rate=0.07627154223781962, max_depth=11, n_estimators=200, reg_alpha=1, subsample=0.8, score=-1203304842.915, total=   2.2s\n",
      "[CV] colsample_bytree=0.8, gamma=0, learning_rate=0.07627154223781962, max_depth=11, n_estimators=200, reg_alpha=1, subsample=0.8 \n",
      "[CV]  colsample_bytree=0.8, gamma=0, learning_rate=0.07627154223781962, max_depth=11, n_estimators=200, reg_alpha=1, subsample=0.8, score=-727074756.103, total=   2.1s\n",
      "[CV] colsample_bytree=0.8, gamma=0, learning_rate=0.07627154223781962, max_depth=11, n_estimators=200, reg_alpha=1, subsample=0.8 \n",
      "[CV]  colsample_bytree=0.8, gamma=0, learning_rate=0.07627154223781962, max_depth=11, n_estimators=200, reg_alpha=1, subsample=0.8, score=-534110976.520, total=   2.2s\n",
      "[CV] colsample_bytree=0.8, gamma=0, learning_rate=0.07627154223781962, max_depth=11, n_estimators=200, reg_alpha=1, subsample=0.8 \n",
      "[CV]  colsample_bytree=0.8, gamma=0, learning_rate=0.07627154223781962, max_depth=11, n_estimators=200, reg_alpha=1, subsample=0.8, score=-474720579.801, total=   2.2s\n",
      "[CV] colsample_bytree=0.8, gamma=0, learning_rate=0.07627154223781962, max_depth=11, n_estimators=200, reg_alpha=1, subsample=0.8 \n",
      "[CV]  colsample_bytree=0.8, gamma=0, learning_rate=0.07627154223781962, max_depth=11, n_estimators=200, reg_alpha=1, subsample=0.8, score=-511864316.265, total=   2.2s\n",
      "[CV] colsample_bytree=0.8, gamma=0, learning_rate=0.07627154223781962, max_depth=11, n_estimators=200, reg_alpha=1, subsample=0.8 \n",
      "[CV]  colsample_bytree=0.8, gamma=0, learning_rate=0.07627154223781962, max_depth=11, n_estimators=200, reg_alpha=1, subsample=0.8, score=-745169721.822, total=   2.2s\n",
      "[CV] colsample_bytree=0.8, gamma=0, learning_rate=0.07627154223781962, max_depth=11, n_estimators=200, reg_alpha=1, subsample=0.8 \n",
      "[CV]  colsample_bytree=0.8, gamma=0, learning_rate=0.07627154223781962, max_depth=11, n_estimators=200, reg_alpha=1, subsample=0.8, score=-1177785278.615, total=   2.2s\n",
      "[CV] colsample_bytree=0.8, gamma=0, learning_rate=0.07627154223781962, max_depth=11, n_estimators=200, reg_alpha=1, subsample=0.8 \n",
      "[CV]  colsample_bytree=0.8, gamma=0, learning_rate=0.07627154223781962, max_depth=11, n_estimators=200, reg_alpha=1, subsample=0.8, score=-534081584.467, total=   2.2s\n",
      "[CV] colsample_bytree=0.8, gamma=0, learning_rate=0.07627154223781962, max_depth=11, n_estimators=200, reg_alpha=1, subsample=0.8 \n",
      "[CV]  colsample_bytree=0.8, gamma=0, learning_rate=0.07627154223781962, max_depth=11, n_estimators=200, reg_alpha=1, subsample=0.8, score=-617799068.298, total=   2.2s\n",
      "[CV] colsample_bytree=0.9, gamma=0, learning_rate=0.08423534080401565, max_depth=11, n_estimators=50, reg_alpha=0.5, subsample=0.9 \n",
      "[CV]  colsample_bytree=0.9, gamma=0, learning_rate=0.08423534080401565, max_depth=11, n_estimators=50, reg_alpha=0.5, subsample=0.9, score=-1343739101.521, total=   0.5s\n",
      "[CV] colsample_bytree=0.9, gamma=0, learning_rate=0.08423534080401565, max_depth=11, n_estimators=50, reg_alpha=0.5, subsample=0.9 \n",
      "[CV]  colsample_bytree=0.9, gamma=0, learning_rate=0.08423534080401565, max_depth=11, n_estimators=50, reg_alpha=0.5, subsample=0.9, score=-2238392364.061, total=   0.6s\n",
      "[CV] colsample_bytree=0.9, gamma=0, learning_rate=0.08423534080401565, max_depth=11, n_estimators=50, reg_alpha=0.5, subsample=0.9 \n",
      "[CV]  colsample_bytree=0.9, gamma=0, learning_rate=0.08423534080401565, max_depth=11, n_estimators=50, reg_alpha=0.5, subsample=0.9, score=-711933230.791, total=   0.6s\n",
      "[CV] colsample_bytree=0.9, gamma=0, learning_rate=0.08423534080401565, max_depth=11, n_estimators=50, reg_alpha=0.5, subsample=0.9 \n",
      "[CV]  colsample_bytree=0.9, gamma=0, learning_rate=0.08423534080401565, max_depth=11, n_estimators=50, reg_alpha=0.5, subsample=0.9, score=-517442961.769, total=   0.6s\n",
      "[CV] colsample_bytree=0.9, gamma=0, learning_rate=0.08423534080401565, max_depth=11, n_estimators=50, reg_alpha=0.5, subsample=0.9 \n",
      "[CV]  colsample_bytree=0.9, gamma=0, learning_rate=0.08423534080401565, max_depth=11, n_estimators=50, reg_alpha=0.5, subsample=0.9, score=-494713611.869, total=   0.6s\n",
      "[CV] colsample_bytree=0.9, gamma=0, learning_rate=0.08423534080401565, max_depth=11, n_estimators=50, reg_alpha=0.5, subsample=0.9 \n",
      "[CV]  colsample_bytree=0.9, gamma=0, learning_rate=0.08423534080401565, max_depth=11, n_estimators=50, reg_alpha=0.5, subsample=0.9, score=-501828454.999, total=   0.6s\n",
      "[CV] colsample_bytree=0.9, gamma=0, learning_rate=0.08423534080401565, max_depth=11, n_estimators=50, reg_alpha=0.5, subsample=0.9 \n",
      "[CV]  colsample_bytree=0.9, gamma=0, learning_rate=0.08423534080401565, max_depth=11, n_estimators=50, reg_alpha=0.5, subsample=0.9, score=-851980656.180, total=   0.6s\n",
      "[CV] colsample_bytree=0.9, gamma=0, learning_rate=0.08423534080401565, max_depth=11, n_estimators=50, reg_alpha=0.5, subsample=0.9 \n",
      "[CV]  colsample_bytree=0.9, gamma=0, learning_rate=0.08423534080401565, max_depth=11, n_estimators=50, reg_alpha=0.5, subsample=0.9, score=-1330574200.398, total=   0.5s\n",
      "[CV] colsample_bytree=0.9, gamma=0, learning_rate=0.08423534080401565, max_depth=11, n_estimators=50, reg_alpha=0.5, subsample=0.9 \n",
      "[CV]  colsample_bytree=0.9, gamma=0, learning_rate=0.08423534080401565, max_depth=11, n_estimators=50, reg_alpha=0.5, subsample=0.9, score=-488721044.001, total=   0.6s\n",
      "[CV] colsample_bytree=0.9, gamma=0, learning_rate=0.08423534080401565, max_depth=11, n_estimators=50, reg_alpha=0.5, subsample=0.9 \n",
      "[CV]  colsample_bytree=0.9, gamma=0, learning_rate=0.08423534080401565, max_depth=11, n_estimators=50, reg_alpha=0.5, subsample=0.9, score=-662716017.094, total=   0.6s\n",
      "[CV] colsample_bytree=0.8, gamma=0.5, learning_rate=0.0800701223005151, max_depth=11, n_estimators=50, reg_alpha=1, subsample=0.9 \n",
      "[CV]  colsample_bytree=0.8, gamma=0.5, learning_rate=0.0800701223005151, max_depth=11, n_estimators=50, reg_alpha=1, subsample=0.9, score=-1253103196.940, total=   0.5s\n",
      "[CV] colsample_bytree=0.8, gamma=0.5, learning_rate=0.0800701223005151, max_depth=11, n_estimators=50, reg_alpha=1, subsample=0.9 \n",
      "[CV]  colsample_bytree=0.8, gamma=0.5, learning_rate=0.0800701223005151, max_depth=11, n_estimators=50, reg_alpha=1, subsample=0.9, score=-1954197172.398, total=   0.5s\n",
      "[CV] colsample_bytree=0.8, gamma=0.5, learning_rate=0.0800701223005151, max_depth=11, n_estimators=50, reg_alpha=1, subsample=0.9 \n"
     ]
    },
    {
     "name": "stdout",
     "output_type": "stream",
     "text": [
      "[CV]  colsample_bytree=0.8, gamma=0.5, learning_rate=0.0800701223005151, max_depth=11, n_estimators=50, reg_alpha=1, subsample=0.9, score=-699809345.975, total=   0.5s\n",
      "[CV] colsample_bytree=0.8, gamma=0.5, learning_rate=0.0800701223005151, max_depth=11, n_estimators=50, reg_alpha=1, subsample=0.9 \n",
      "[CV]  colsample_bytree=0.8, gamma=0.5, learning_rate=0.0800701223005151, max_depth=11, n_estimators=50, reg_alpha=1, subsample=0.9, score=-555003337.618, total=   0.5s\n",
      "[CV] colsample_bytree=0.8, gamma=0.5, learning_rate=0.0800701223005151, max_depth=11, n_estimators=50, reg_alpha=1, subsample=0.9 \n",
      "[CV]  colsample_bytree=0.8, gamma=0.5, learning_rate=0.0800701223005151, max_depth=11, n_estimators=50, reg_alpha=1, subsample=0.9, score=-480129404.565, total=   0.5s\n",
      "[CV] colsample_bytree=0.8, gamma=0.5, learning_rate=0.0800701223005151, max_depth=11, n_estimators=50, reg_alpha=1, subsample=0.9 \n",
      "[CV]  colsample_bytree=0.8, gamma=0.5, learning_rate=0.0800701223005151, max_depth=11, n_estimators=50, reg_alpha=1, subsample=0.9, score=-554948438.514, total=   0.5s\n",
      "[CV] colsample_bytree=0.8, gamma=0.5, learning_rate=0.0800701223005151, max_depth=11, n_estimators=50, reg_alpha=1, subsample=0.9 \n",
      "[CV]  colsample_bytree=0.8, gamma=0.5, learning_rate=0.0800701223005151, max_depth=11, n_estimators=50, reg_alpha=1, subsample=0.9, score=-919822316.835, total=   0.5s\n",
      "[CV] colsample_bytree=0.8, gamma=0.5, learning_rate=0.0800701223005151, max_depth=11, n_estimators=50, reg_alpha=1, subsample=0.9 \n",
      "[CV]  colsample_bytree=0.8, gamma=0.5, learning_rate=0.0800701223005151, max_depth=11, n_estimators=50, reg_alpha=1, subsample=0.9, score=-1243847839.131, total=   0.5s\n",
      "[CV] colsample_bytree=0.8, gamma=0.5, learning_rate=0.0800701223005151, max_depth=11, n_estimators=50, reg_alpha=1, subsample=0.9 \n",
      "[CV]  colsample_bytree=0.8, gamma=0.5, learning_rate=0.0800701223005151, max_depth=11, n_estimators=50, reg_alpha=1, subsample=0.9, score=-577299053.016, total=   0.5s\n",
      "[CV] colsample_bytree=0.8, gamma=0.5, learning_rate=0.0800701223005151, max_depth=11, n_estimators=50, reg_alpha=1, subsample=0.9 \n",
      "[CV]  colsample_bytree=0.8, gamma=0.5, learning_rate=0.0800701223005151, max_depth=11, n_estimators=50, reg_alpha=1, subsample=0.9, score=-684056761.228, total=   0.5s\n",
      "[CV] colsample_bytree=0.8, gamma=0.5, learning_rate=0.06800826849274062, max_depth=3, n_estimators=50, reg_alpha=1, subsample=0.7 \n",
      "[CV]  colsample_bytree=0.8, gamma=0.5, learning_rate=0.06800826849274062, max_depth=3, n_estimators=50, reg_alpha=1, subsample=0.7, score=-1529362022.046, total=   0.2s\n",
      "[CV] colsample_bytree=0.8, gamma=0.5, learning_rate=0.06800826849274062, max_depth=3, n_estimators=50, reg_alpha=1, subsample=0.7 \n",
      "[CV]  colsample_bytree=0.8, gamma=0.5, learning_rate=0.06800826849274062, max_depth=3, n_estimators=50, reg_alpha=1, subsample=0.7, score=-1977734159.136, total=   0.2s\n",
      "[CV] colsample_bytree=0.8, gamma=0.5, learning_rate=0.06800826849274062, max_depth=3, n_estimators=50, reg_alpha=1, subsample=0.7 \n",
      "[CV]  colsample_bytree=0.8, gamma=0.5, learning_rate=0.06800826849274062, max_depth=3, n_estimators=50, reg_alpha=1, subsample=0.7, score=-838900987.350, total=   0.2s\n",
      "[CV] colsample_bytree=0.8, gamma=0.5, learning_rate=0.06800826849274062, max_depth=3, n_estimators=50, reg_alpha=1, subsample=0.7 \n",
      "[CV]  colsample_bytree=0.8, gamma=0.5, learning_rate=0.06800826849274062, max_depth=3, n_estimators=50, reg_alpha=1, subsample=0.7, score=-701846542.054, total=   0.2s\n",
      "[CV] colsample_bytree=0.8, gamma=0.5, learning_rate=0.06800826849274062, max_depth=3, n_estimators=50, reg_alpha=1, subsample=0.7 \n",
      "[CV]  colsample_bytree=0.8, gamma=0.5, learning_rate=0.06800826849274062, max_depth=3, n_estimators=50, reg_alpha=1, subsample=0.7, score=-507883719.363, total=   0.2s\n",
      "[CV] colsample_bytree=0.8, gamma=0.5, learning_rate=0.06800826849274062, max_depth=3, n_estimators=50, reg_alpha=1, subsample=0.7 \n",
      "[CV]  colsample_bytree=0.8, gamma=0.5, learning_rate=0.06800826849274062, max_depth=3, n_estimators=50, reg_alpha=1, subsample=0.7, score=-592488509.266, total=   0.2s\n",
      "[CV] colsample_bytree=0.8, gamma=0.5, learning_rate=0.06800826849274062, max_depth=3, n_estimators=50, reg_alpha=1, subsample=0.7 \n",
      "[CV]  colsample_bytree=0.8, gamma=0.5, learning_rate=0.06800826849274062, max_depth=3, n_estimators=50, reg_alpha=1, subsample=0.7, score=-857157682.532, total=   0.2s\n",
      "[CV] colsample_bytree=0.8, gamma=0.5, learning_rate=0.06800826849274062, max_depth=3, n_estimators=50, reg_alpha=1, subsample=0.7 \n",
      "[CV]  colsample_bytree=0.8, gamma=0.5, learning_rate=0.06800826849274062, max_depth=3, n_estimators=50, reg_alpha=1, subsample=0.7, score=-1362268423.493, total=   0.1s\n",
      "[CV] colsample_bytree=0.8, gamma=0.5, learning_rate=0.06800826849274062, max_depth=3, n_estimators=50, reg_alpha=1, subsample=0.7 \n",
      "[CV]  colsample_bytree=0.8, gamma=0.5, learning_rate=0.06800826849274062, max_depth=3, n_estimators=50, reg_alpha=1, subsample=0.7, score=-626380107.760, total=   0.1s\n",
      "[CV] colsample_bytree=0.8, gamma=0.5, learning_rate=0.06800826849274062, max_depth=3, n_estimators=50, reg_alpha=1, subsample=0.7 \n",
      "[CV]  colsample_bytree=0.8, gamma=0.5, learning_rate=0.06800826849274062, max_depth=3, n_estimators=50, reg_alpha=1, subsample=0.7, score=-910805807.729, total=   0.1s\n",
      "[CV] colsample_bytree=0.9, gamma=0, learning_rate=0.06289972930304748, max_depth=5, n_estimators=100, reg_alpha=0.5, subsample=0.8 \n",
      "[CV]  colsample_bytree=0.9, gamma=0, learning_rate=0.06289972930304748, max_depth=5, n_estimators=100, reg_alpha=0.5, subsample=0.8, score=-1084501666.769, total=   0.5s\n",
      "[CV] colsample_bytree=0.9, gamma=0, learning_rate=0.06289972930304748, max_depth=5, n_estimators=100, reg_alpha=0.5, subsample=0.8 \n",
      "[CV]  colsample_bytree=0.9, gamma=0, learning_rate=0.06289972930304748, max_depth=5, n_estimators=100, reg_alpha=0.5, subsample=0.8, score=-1586947224.314, total=   0.5s\n",
      "[CV] colsample_bytree=0.9, gamma=0, learning_rate=0.06289972930304748, max_depth=5, n_estimators=100, reg_alpha=0.5, subsample=0.8 \n",
      "[CV]  colsample_bytree=0.9, gamma=0, learning_rate=0.06289972930304748, max_depth=5, n_estimators=100, reg_alpha=0.5, subsample=0.8, score=-741089122.277, total=   0.5s\n",
      "[CV] colsample_bytree=0.9, gamma=0, learning_rate=0.06289972930304748, max_depth=5, n_estimators=100, reg_alpha=0.5, subsample=0.8 \n",
      "[CV]  colsample_bytree=0.9, gamma=0, learning_rate=0.06289972930304748, max_depth=5, n_estimators=100, reg_alpha=0.5, subsample=0.8, score=-490567529.222, total=   0.5s\n",
      "[CV] colsample_bytree=0.9, gamma=0, learning_rate=0.06289972930304748, max_depth=5, n_estimators=100, reg_alpha=0.5, subsample=0.8 \n",
      "[CV]  colsample_bytree=0.9, gamma=0, learning_rate=0.06289972930304748, max_depth=5, n_estimators=100, reg_alpha=0.5, subsample=0.8, score=-419576926.113, total=   0.5s\n",
      "[CV] colsample_bytree=0.9, gamma=0, learning_rate=0.06289972930304748, max_depth=5, n_estimators=100, reg_alpha=0.5, subsample=0.8 \n",
      "[CV]  colsample_bytree=0.9, gamma=0, learning_rate=0.06289972930304748, max_depth=5, n_estimators=100, reg_alpha=0.5, subsample=0.8, score=-500715372.927, total=   0.5s\n",
      "[CV] colsample_bytree=0.9, gamma=0, learning_rate=0.06289972930304748, max_depth=5, n_estimators=100, reg_alpha=0.5, subsample=0.8 \n",
      "[CV]  colsample_bytree=0.9, gamma=0, learning_rate=0.06289972930304748, max_depth=5, n_estimators=100, reg_alpha=0.5, subsample=0.8, score=-671537361.467, total=   0.5s\n",
      "[CV] colsample_bytree=0.9, gamma=0, learning_rate=0.06289972930304748, max_depth=5, n_estimators=100, reg_alpha=0.5, subsample=0.8 \n",
      "[CV]  colsample_bytree=0.9, gamma=0, learning_rate=0.06289972930304748, max_depth=5, n_estimators=100, reg_alpha=0.5, subsample=0.8, score=-1062571278.817, total=   0.5s\n",
      "[CV] colsample_bytree=0.9, gamma=0, learning_rate=0.06289972930304748, max_depth=5, n_estimators=100, reg_alpha=0.5, subsample=0.8 \n",
      "[CV]  colsample_bytree=0.9, gamma=0, learning_rate=0.06289972930304748, max_depth=5, n_estimators=100, reg_alpha=0.5, subsample=0.8, score=-481160642.119, total=   0.5s\n",
      "[CV] colsample_bytree=0.9, gamma=0, learning_rate=0.06289972930304748, max_depth=5, n_estimators=100, reg_alpha=0.5, subsample=0.8 \n",
      "[CV]  colsample_bytree=0.9, gamma=0, learning_rate=0.06289972930304748, max_depth=5, n_estimators=100, reg_alpha=0.5, subsample=0.8, score=-593491698.308, total=   0.5s\n",
      "[CV] colsample_bytree=0.7, gamma=1, learning_rate=0.08169812849446216, max_depth=5, n_estimators=50, reg_alpha=0, subsample=0.8 \n"
     ]
    },
    {
     "name": "stdout",
     "output_type": "stream",
     "text": [
      "[CV]  colsample_bytree=0.7, gamma=1, learning_rate=0.08169812849446216, max_depth=5, n_estimators=50, reg_alpha=0, subsample=0.8, score=-1164236971.376, total=   0.2s\n",
      "[CV] colsample_bytree=0.7, gamma=1, learning_rate=0.08169812849446216, max_depth=5, n_estimators=50, reg_alpha=0, subsample=0.8 \n",
      "[CV]  colsample_bytree=0.7, gamma=1, learning_rate=0.08169812849446216, max_depth=5, n_estimators=50, reg_alpha=0, subsample=0.8, score=-1594894381.158, total=   0.2s\n",
      "[CV] colsample_bytree=0.7, gamma=1, learning_rate=0.08169812849446216, max_depth=5, n_estimators=50, reg_alpha=0, subsample=0.8 \n",
      "[CV]  colsample_bytree=0.7, gamma=1, learning_rate=0.08169812849446216, max_depth=5, n_estimators=50, reg_alpha=0, subsample=0.8, score=-786166574.319, total=   0.2s\n",
      "[CV] colsample_bytree=0.7, gamma=1, learning_rate=0.08169812849446216, max_depth=5, n_estimators=50, reg_alpha=0, subsample=0.8 \n",
      "[CV]  colsample_bytree=0.7, gamma=1, learning_rate=0.08169812849446216, max_depth=5, n_estimators=50, reg_alpha=0, subsample=0.8, score=-574588859.862, total=   0.2s\n",
      "[CV] colsample_bytree=0.7, gamma=1, learning_rate=0.08169812849446216, max_depth=5, n_estimators=50, reg_alpha=0, subsample=0.8 \n",
      "[CV]  colsample_bytree=0.7, gamma=1, learning_rate=0.08169812849446216, max_depth=5, n_estimators=50, reg_alpha=0, subsample=0.8, score=-435288275.339, total=   0.2s\n",
      "[CV] colsample_bytree=0.7, gamma=1, learning_rate=0.08169812849446216, max_depth=5, n_estimators=50, reg_alpha=0, subsample=0.8 \n",
      "[CV]  colsample_bytree=0.7, gamma=1, learning_rate=0.08169812849446216, max_depth=5, n_estimators=50, reg_alpha=0, subsample=0.8, score=-511241520.969, total=   0.2s\n",
      "[CV] colsample_bytree=0.7, gamma=1, learning_rate=0.08169812849446216, max_depth=5, n_estimators=50, reg_alpha=0, subsample=0.8 \n",
      "[CV]  colsample_bytree=0.7, gamma=1, learning_rate=0.08169812849446216, max_depth=5, n_estimators=50, reg_alpha=0, subsample=0.8, score=-706529957.082, total=   0.2s\n",
      "[CV] colsample_bytree=0.7, gamma=1, learning_rate=0.08169812849446216, max_depth=5, n_estimators=50, reg_alpha=0, subsample=0.8 \n",
      "[CV]  colsample_bytree=0.7, gamma=1, learning_rate=0.08169812849446216, max_depth=5, n_estimators=50, reg_alpha=0, subsample=0.8, score=-1202863343.591, total=   0.2s\n",
      "[CV] colsample_bytree=0.7, gamma=1, learning_rate=0.08169812849446216, max_depth=5, n_estimators=50, reg_alpha=0, subsample=0.8 \n",
      "[CV]  colsample_bytree=0.7, gamma=1, learning_rate=0.08169812849446216, max_depth=5, n_estimators=50, reg_alpha=0, subsample=0.8, score=-480141571.722, total=   0.2s\n",
      "[CV] colsample_bytree=0.7, gamma=1, learning_rate=0.08169812849446216, max_depth=5, n_estimators=50, reg_alpha=0, subsample=0.8 \n",
      "[CV]  colsample_bytree=0.7, gamma=1, learning_rate=0.08169812849446216, max_depth=5, n_estimators=50, reg_alpha=0, subsample=0.8, score=-774887836.713, total=   0.2s\n",
      "[CV] colsample_bytree=0.9, gamma=0, learning_rate=0.0452752582391927, max_depth=3, n_estimators=200, reg_alpha=1, subsample=0.8 \n",
      "[CV]  colsample_bytree=0.9, gamma=0, learning_rate=0.0452752582391927, max_depth=3, n_estimators=200, reg_alpha=1, subsample=0.8, score=-1082152557.149, total=   0.6s\n",
      "[CV] colsample_bytree=0.9, gamma=0, learning_rate=0.0452752582391927, max_depth=3, n_estimators=200, reg_alpha=1, subsample=0.8 \n",
      "[CV]  colsample_bytree=0.9, gamma=0, learning_rate=0.0452752582391927, max_depth=3, n_estimators=200, reg_alpha=1, subsample=0.8, score=-1618639674.559, total=   0.6s\n",
      "[CV] colsample_bytree=0.9, gamma=0, learning_rate=0.0452752582391927, max_depth=3, n_estimators=200, reg_alpha=1, subsample=0.8 \n",
      "[CV]  colsample_bytree=0.9, gamma=0, learning_rate=0.0452752582391927, max_depth=3, n_estimators=200, reg_alpha=1, subsample=0.8, score=-825300031.472, total=   0.6s\n",
      "[CV] colsample_bytree=0.9, gamma=0, learning_rate=0.0452752582391927, max_depth=3, n_estimators=200, reg_alpha=1, subsample=0.8 \n",
      "[CV]  colsample_bytree=0.9, gamma=0, learning_rate=0.0452752582391927, max_depth=3, n_estimators=200, reg_alpha=1, subsample=0.8, score=-508287203.984, total=   0.6s\n",
      "[CV] colsample_bytree=0.9, gamma=0, learning_rate=0.0452752582391927, max_depth=3, n_estimators=200, reg_alpha=1, subsample=0.8 \n",
      "[CV]  colsample_bytree=0.9, gamma=0, learning_rate=0.0452752582391927, max_depth=3, n_estimators=200, reg_alpha=1, subsample=0.8, score=-437141654.039, total=   0.6s\n",
      "[CV] colsample_bytree=0.9, gamma=0, learning_rate=0.0452752582391927, max_depth=3, n_estimators=200, reg_alpha=1, subsample=0.8 \n",
      "[CV]  colsample_bytree=0.9, gamma=0, learning_rate=0.0452752582391927, max_depth=3, n_estimators=200, reg_alpha=1, subsample=0.8, score=-495224613.242, total=   0.6s\n",
      "[CV] colsample_bytree=0.9, gamma=0, learning_rate=0.0452752582391927, max_depth=3, n_estimators=200, reg_alpha=1, subsample=0.8 \n",
      "[CV]  colsample_bytree=0.9, gamma=0, learning_rate=0.0452752582391927, max_depth=3, n_estimators=200, reg_alpha=1, subsample=0.8, score=-584491091.941, total=   0.7s\n",
      "[CV] colsample_bytree=0.9, gamma=0, learning_rate=0.0452752582391927, max_depth=3, n_estimators=200, reg_alpha=1, subsample=0.8 \n",
      "[CV]  colsample_bytree=0.9, gamma=0, learning_rate=0.0452752582391927, max_depth=3, n_estimators=200, reg_alpha=1, subsample=0.8, score=-1020535686.659, total=   0.6s\n",
      "[CV] colsample_bytree=0.9, gamma=0, learning_rate=0.0452752582391927, max_depth=3, n_estimators=200, reg_alpha=1, subsample=0.8 \n",
      "[CV]  colsample_bytree=0.9, gamma=0, learning_rate=0.0452752582391927, max_depth=3, n_estimators=200, reg_alpha=1, subsample=0.8, score=-447641719.482, total=   0.7s\n",
      "[CV] colsample_bytree=0.9, gamma=0, learning_rate=0.0452752582391927, max_depth=3, n_estimators=200, reg_alpha=1, subsample=0.8 \n",
      "[CV]  colsample_bytree=0.9, gamma=0, learning_rate=0.0452752582391927, max_depth=3, n_estimators=200, reg_alpha=1, subsample=0.8, score=-551204455.146, total=   0.7s\n",
      "[CV] colsample_bytree=0.7, gamma=1, learning_rate=0.08933270039151193, max_depth=7, n_estimators=50, reg_alpha=0, subsample=0.9 \n",
      "[CV]  colsample_bytree=0.7, gamma=1, learning_rate=0.08933270039151193, max_depth=7, n_estimators=50, reg_alpha=0, subsample=0.9, score=-1240416802.711, total=   0.3s\n",
      "[CV] colsample_bytree=0.7, gamma=1, learning_rate=0.08933270039151193, max_depth=7, n_estimators=50, reg_alpha=0, subsample=0.9 \n",
      "[CV]  colsample_bytree=0.7, gamma=1, learning_rate=0.08933270039151193, max_depth=7, n_estimators=50, reg_alpha=0, subsample=0.9, score=-1607221539.580, total=   0.3s\n",
      "[CV] colsample_bytree=0.7, gamma=1, learning_rate=0.08933270039151193, max_depth=7, n_estimators=50, reg_alpha=0, subsample=0.9 \n",
      "[CV]  colsample_bytree=0.7, gamma=1, learning_rate=0.08933270039151193, max_depth=7, n_estimators=50, reg_alpha=0, subsample=0.9, score=-695691831.851, total=   0.3s\n",
      "[CV] colsample_bytree=0.7, gamma=1, learning_rate=0.08933270039151193, max_depth=7, n_estimators=50, reg_alpha=0, subsample=0.9 \n",
      "[CV]  colsample_bytree=0.7, gamma=1, learning_rate=0.08933270039151193, max_depth=7, n_estimators=50, reg_alpha=0, subsample=0.9, score=-535423807.935, total=   0.3s\n",
      "[CV] colsample_bytree=0.7, gamma=1, learning_rate=0.08933270039151193, max_depth=7, n_estimators=50, reg_alpha=0, subsample=0.9 \n",
      "[CV]  colsample_bytree=0.7, gamma=1, learning_rate=0.08933270039151193, max_depth=7, n_estimators=50, reg_alpha=0, subsample=0.9, score=-440296634.388, total=   0.3s\n",
      "[CV] colsample_bytree=0.7, gamma=1, learning_rate=0.08933270039151193, max_depth=7, n_estimators=50, reg_alpha=0, subsample=0.9 \n",
      "[CV]  colsample_bytree=0.7, gamma=1, learning_rate=0.08933270039151193, max_depth=7, n_estimators=50, reg_alpha=0, subsample=0.9, score=-469955528.636, total=   0.3s\n",
      "[CV] colsample_bytree=0.7, gamma=1, learning_rate=0.08933270039151193, max_depth=7, n_estimators=50, reg_alpha=0, subsample=0.9 \n",
      "[CV]  colsample_bytree=0.7, gamma=1, learning_rate=0.08933270039151193, max_depth=7, n_estimators=50, reg_alpha=0, subsample=0.9, score=-951014857.887, total=   0.3s\n",
      "[CV] colsample_bytree=0.7, gamma=1, learning_rate=0.08933270039151193, max_depth=7, n_estimators=50, reg_alpha=0, subsample=0.9 \n",
      "[CV]  colsample_bytree=0.7, gamma=1, learning_rate=0.08933270039151193, max_depth=7, n_estimators=50, reg_alpha=0, subsample=0.9, score=-1135794710.377, total=   0.3s\n",
      "[CV] colsample_bytree=0.7, gamma=1, learning_rate=0.08933270039151193, max_depth=7, n_estimators=50, reg_alpha=0, subsample=0.9 \n"
     ]
    },
    {
     "name": "stdout",
     "output_type": "stream",
     "text": [
      "[CV]  colsample_bytree=0.7, gamma=1, learning_rate=0.08933270039151193, max_depth=7, n_estimators=50, reg_alpha=0, subsample=0.9, score=-514703782.658, total=   0.3s\n",
      "[CV] colsample_bytree=0.7, gamma=1, learning_rate=0.08933270039151193, max_depth=7, n_estimators=50, reg_alpha=0, subsample=0.9 \n",
      "[CV]  colsample_bytree=0.7, gamma=1, learning_rate=0.08933270039151193, max_depth=7, n_estimators=50, reg_alpha=0, subsample=0.9, score=-652369905.626, total=   0.3s\n",
      "[CV] colsample_bytree=0.8, gamma=1, learning_rate=0.10474805928251231, max_depth=7, n_estimators=100, reg_alpha=0.5, subsample=0.8 \n",
      "[CV]  colsample_bytree=0.8, gamma=1, learning_rate=0.10474805928251231, max_depth=7, n_estimators=100, reg_alpha=0.5, subsample=0.8, score=-1087407540.815, total=   0.7s\n",
      "[CV] colsample_bytree=0.8, gamma=1, learning_rate=0.10474805928251231, max_depth=7, n_estimators=100, reg_alpha=0.5, subsample=0.8 \n",
      "[CV]  colsample_bytree=0.8, gamma=1, learning_rate=0.10474805928251231, max_depth=7, n_estimators=100, reg_alpha=0.5, subsample=0.8, score=-1683944049.201, total=   0.7s\n",
      "[CV] colsample_bytree=0.8, gamma=1, learning_rate=0.10474805928251231, max_depth=7, n_estimators=100, reg_alpha=0.5, subsample=0.8 \n",
      "[CV]  colsample_bytree=0.8, gamma=1, learning_rate=0.10474805928251231, max_depth=7, n_estimators=100, reg_alpha=0.5, subsample=0.8, score=-651371072.544, total=   0.7s\n",
      "[CV] colsample_bytree=0.8, gamma=1, learning_rate=0.10474805928251231, max_depth=7, n_estimators=100, reg_alpha=0.5, subsample=0.8 \n",
      "[CV]  colsample_bytree=0.8, gamma=1, learning_rate=0.10474805928251231, max_depth=7, n_estimators=100, reg_alpha=0.5, subsample=0.8, score=-525982579.763, total=   0.7s\n",
      "[CV] colsample_bytree=0.8, gamma=1, learning_rate=0.10474805928251231, max_depth=7, n_estimators=100, reg_alpha=0.5, subsample=0.8 \n",
      "[CV]  colsample_bytree=0.8, gamma=1, learning_rate=0.10474805928251231, max_depth=7, n_estimators=100, reg_alpha=0.5, subsample=0.8, score=-436384323.867, total=   0.6s\n",
      "[CV] colsample_bytree=0.8, gamma=1, learning_rate=0.10474805928251231, max_depth=7, n_estimators=100, reg_alpha=0.5, subsample=0.8 \n",
      "[CV]  colsample_bytree=0.8, gamma=1, learning_rate=0.10474805928251231, max_depth=7, n_estimators=100, reg_alpha=0.5, subsample=0.8, score=-569014744.688, total=   0.7s\n",
      "[CV] colsample_bytree=0.8, gamma=1, learning_rate=0.10474805928251231, max_depth=7, n_estimators=100, reg_alpha=0.5, subsample=0.8 \n",
      "[CV]  colsample_bytree=0.8, gamma=1, learning_rate=0.10474805928251231, max_depth=7, n_estimators=100, reg_alpha=0.5, subsample=0.8, score=-740347995.678, total=   0.6s\n",
      "[CV] colsample_bytree=0.8, gamma=1, learning_rate=0.10474805928251231, max_depth=7, n_estimators=100, reg_alpha=0.5, subsample=0.8 \n",
      "[CV]  colsample_bytree=0.8, gamma=1, learning_rate=0.10474805928251231, max_depth=7, n_estimators=100, reg_alpha=0.5, subsample=0.8, score=-1103274731.792, total=   0.6s\n",
      "[CV] colsample_bytree=0.8, gamma=1, learning_rate=0.10474805928251231, max_depth=7, n_estimators=100, reg_alpha=0.5, subsample=0.8 \n",
      "[CV]  colsample_bytree=0.8, gamma=1, learning_rate=0.10474805928251231, max_depth=7, n_estimators=100, reg_alpha=0.5, subsample=0.8, score=-594938825.919, total=   0.6s\n",
      "[CV] colsample_bytree=0.8, gamma=1, learning_rate=0.10474805928251231, max_depth=7, n_estimators=100, reg_alpha=0.5, subsample=0.8 \n",
      "[CV]  colsample_bytree=0.8, gamma=1, learning_rate=0.10474805928251231, max_depth=7, n_estimators=100, reg_alpha=0.5, subsample=0.8, score=-679576900.326, total=   0.6s\n",
      "[CV] colsample_bytree=0.9, gamma=0, learning_rate=0.09209545878188652, max_depth=3, n_estimators=300, reg_alpha=0, subsample=0.8 \n",
      "[CV]  colsample_bytree=0.9, gamma=0, learning_rate=0.09209545878188652, max_depth=3, n_estimators=300, reg_alpha=0, subsample=0.8, score=-948177633.104, total=   0.9s\n",
      "[CV] colsample_bytree=0.9, gamma=0, learning_rate=0.09209545878188652, max_depth=3, n_estimators=300, reg_alpha=0, subsample=0.8 \n",
      "[CV]  colsample_bytree=0.9, gamma=0, learning_rate=0.09209545878188652, max_depth=3, n_estimators=300, reg_alpha=0, subsample=0.8, score=-1501003139.976, total=   1.0s\n",
      "[CV] colsample_bytree=0.9, gamma=0, learning_rate=0.09209545878188652, max_depth=3, n_estimators=300, reg_alpha=0, subsample=0.8 \n",
      "[CV]  colsample_bytree=0.9, gamma=0, learning_rate=0.09209545878188652, max_depth=3, n_estimators=300, reg_alpha=0, subsample=0.8, score=-842536319.028, total=   0.9s\n",
      "[CV] colsample_bytree=0.9, gamma=0, learning_rate=0.09209545878188652, max_depth=3, n_estimators=300, reg_alpha=0, subsample=0.8 \n",
      "[CV]  colsample_bytree=0.9, gamma=0, learning_rate=0.09209545878188652, max_depth=3, n_estimators=300, reg_alpha=0, subsample=0.8, score=-547324937.696, total=   0.9s\n",
      "[CV] colsample_bytree=0.9, gamma=0, learning_rate=0.09209545878188652, max_depth=3, n_estimators=300, reg_alpha=0, subsample=0.8 \n",
      "[CV]  colsample_bytree=0.9, gamma=0, learning_rate=0.09209545878188652, max_depth=3, n_estimators=300, reg_alpha=0, subsample=0.8, score=-411834241.391, total=   0.9s\n",
      "[CV] colsample_bytree=0.9, gamma=0, learning_rate=0.09209545878188652, max_depth=3, n_estimators=300, reg_alpha=0, subsample=0.8 \n",
      "[CV]  colsample_bytree=0.9, gamma=0, learning_rate=0.09209545878188652, max_depth=3, n_estimators=300, reg_alpha=0, subsample=0.8, score=-560089031.243, total=   0.9s\n",
      "[CV] colsample_bytree=0.9, gamma=0, learning_rate=0.09209545878188652, max_depth=3, n_estimators=300, reg_alpha=0, subsample=0.8 \n",
      "[CV]  colsample_bytree=0.9, gamma=0, learning_rate=0.09209545878188652, max_depth=3, n_estimators=300, reg_alpha=0, subsample=0.8, score=-548756013.081, total=   0.9s\n",
      "[CV] colsample_bytree=0.9, gamma=0, learning_rate=0.09209545878188652, max_depth=3, n_estimators=300, reg_alpha=0, subsample=0.8 \n",
      "[CV]  colsample_bytree=0.9, gamma=0, learning_rate=0.09209545878188652, max_depth=3, n_estimators=300, reg_alpha=0, subsample=0.8, score=-1047540032.648, total=   0.9s\n",
      "[CV] colsample_bytree=0.9, gamma=0, learning_rate=0.09209545878188652, max_depth=3, n_estimators=300, reg_alpha=0, subsample=0.8 \n",
      "[CV]  colsample_bytree=0.9, gamma=0, learning_rate=0.09209545878188652, max_depth=3, n_estimators=300, reg_alpha=0, subsample=0.8, score=-446283322.624, total=   1.0s\n",
      "[CV] colsample_bytree=0.9, gamma=0, learning_rate=0.09209545878188652, max_depth=3, n_estimators=300, reg_alpha=0, subsample=0.8 \n",
      "[CV]  colsample_bytree=0.9, gamma=0, learning_rate=0.09209545878188652, max_depth=3, n_estimators=300, reg_alpha=0, subsample=0.8, score=-553570716.946, total=   0.9s\n",
      "[CV] colsample_bytree=0.9, gamma=0, learning_rate=0.04191218616140098, max_depth=7, n_estimators=100, reg_alpha=0.5, subsample=0.8 \n",
      "[CV]  colsample_bytree=0.9, gamma=0, learning_rate=0.04191218616140098, max_depth=7, n_estimators=100, reg_alpha=0.5, subsample=0.8, score=-1219264108.083, total=   0.7s\n",
      "[CV] colsample_bytree=0.9, gamma=0, learning_rate=0.04191218616140098, max_depth=7, n_estimators=100, reg_alpha=0.5, subsample=0.8 \n",
      "[CV]  colsample_bytree=0.9, gamma=0, learning_rate=0.04191218616140098, max_depth=7, n_estimators=100, reg_alpha=0.5, subsample=0.8, score=-1837398091.165, total=   0.7s\n",
      "[CV] colsample_bytree=0.9, gamma=0, learning_rate=0.04191218616140098, max_depth=7, n_estimators=100, reg_alpha=0.5, subsample=0.8 \n",
      "[CV]  colsample_bytree=0.9, gamma=0, learning_rate=0.04191218616140098, max_depth=7, n_estimators=100, reg_alpha=0.5, subsample=0.8, score=-653942220.105, total=   0.7s\n",
      "[CV] colsample_bytree=0.9, gamma=0, learning_rate=0.04191218616140098, max_depth=7, n_estimators=100, reg_alpha=0.5, subsample=0.8 \n",
      "[CV]  colsample_bytree=0.9, gamma=0, learning_rate=0.04191218616140098, max_depth=7, n_estimators=100, reg_alpha=0.5, subsample=0.8, score=-532859404.592, total=   0.7s\n",
      "[CV] colsample_bytree=0.9, gamma=0, learning_rate=0.04191218616140098, max_depth=7, n_estimators=100, reg_alpha=0.5, subsample=0.8 \n",
      "[CV]  colsample_bytree=0.9, gamma=0, learning_rate=0.04191218616140098, max_depth=7, n_estimators=100, reg_alpha=0.5, subsample=0.8, score=-441393222.403, total=   0.7s\n",
      "[CV] colsample_bytree=0.9, gamma=0, learning_rate=0.04191218616140098, max_depth=7, n_estimators=100, reg_alpha=0.5, subsample=0.8 \n",
      "[CV]  colsample_bytree=0.9, gamma=0, learning_rate=0.04191218616140098, max_depth=7, n_estimators=100, reg_alpha=0.5, subsample=0.8, score=-519905127.889, total=   0.7s\n",
      "[CV] colsample_bytree=0.9, gamma=0, learning_rate=0.04191218616140098, max_depth=7, n_estimators=100, reg_alpha=0.5, subsample=0.8 \n"
     ]
    },
    {
     "name": "stdout",
     "output_type": "stream",
     "text": [
      "[CV]  colsample_bytree=0.9, gamma=0, learning_rate=0.04191218616140098, max_depth=7, n_estimators=100, reg_alpha=0.5, subsample=0.8, score=-921340112.535, total=   0.8s\n",
      "[CV] colsample_bytree=0.9, gamma=0, learning_rate=0.04191218616140098, max_depth=7, n_estimators=100, reg_alpha=0.5, subsample=0.8 \n",
      "[CV]  colsample_bytree=0.9, gamma=0, learning_rate=0.04191218616140098, max_depth=7, n_estimators=100, reg_alpha=0.5, subsample=0.8, score=-1274884015.305, total=   0.7s\n",
      "[CV] colsample_bytree=0.9, gamma=0, learning_rate=0.04191218616140098, max_depth=7, n_estimators=100, reg_alpha=0.5, subsample=0.8 \n",
      "[CV]  colsample_bytree=0.9, gamma=0, learning_rate=0.04191218616140098, max_depth=7, n_estimators=100, reg_alpha=0.5, subsample=0.8, score=-494191959.912, total=   0.7s\n",
      "[CV] colsample_bytree=0.9, gamma=0, learning_rate=0.04191218616140098, max_depth=7, n_estimators=100, reg_alpha=0.5, subsample=0.8 \n",
      "[CV]  colsample_bytree=0.9, gamma=0, learning_rate=0.04191218616140098, max_depth=7, n_estimators=100, reg_alpha=0.5, subsample=0.8, score=-712181574.569, total=   0.7s\n",
      "[CV] colsample_bytree=0.9, gamma=1, learning_rate=0.01041084444635836, max_depth=11, n_estimators=50, reg_alpha=0.5, subsample=0.8 \n",
      "[CV]  colsample_bytree=0.9, gamma=1, learning_rate=0.01041084444635836, max_depth=11, n_estimators=50, reg_alpha=0.5, subsample=0.8, score=-19755738871.781, total=   0.3s\n",
      "[CV] colsample_bytree=0.9, gamma=1, learning_rate=0.01041084444635836, max_depth=11, n_estimators=50, reg_alpha=0.5, subsample=0.8 \n",
      "[CV]  colsample_bytree=0.9, gamma=1, learning_rate=0.01041084444635836, max_depth=11, n_estimators=50, reg_alpha=0.5, subsample=0.8, score=-17565335151.619, total=   0.4s\n",
      "[CV] colsample_bytree=0.9, gamma=1, learning_rate=0.01041084444635836, max_depth=11, n_estimators=50, reg_alpha=0.5, subsample=0.8 \n",
      "[CV]  colsample_bytree=0.9, gamma=1, learning_rate=0.01041084444635836, max_depth=11, n_estimators=50, reg_alpha=0.5, subsample=0.8, score=-11330179281.057, total=   0.4s\n",
      "[CV] colsample_bytree=0.9, gamma=1, learning_rate=0.01041084444635836, max_depth=11, n_estimators=50, reg_alpha=0.5, subsample=0.8 \n",
      "[CV]  colsample_bytree=0.9, gamma=1, learning_rate=0.01041084444635836, max_depth=11, n_estimators=50, reg_alpha=0.5, subsample=0.8, score=-14577418573.828, total=   0.4s\n",
      "[CV] colsample_bytree=0.9, gamma=1, learning_rate=0.01041084444635836, max_depth=11, n_estimators=50, reg_alpha=0.5, subsample=0.8 \n",
      "[CV]  colsample_bytree=0.9, gamma=1, learning_rate=0.01041084444635836, max_depth=11, n_estimators=50, reg_alpha=0.5, subsample=0.8, score=-14021927502.292, total=   0.4s\n",
      "[CV] colsample_bytree=0.9, gamma=1, learning_rate=0.01041084444635836, max_depth=11, n_estimators=50, reg_alpha=0.5, subsample=0.8 \n",
      "[CV]  colsample_bytree=0.9, gamma=1, learning_rate=0.01041084444635836, max_depth=11, n_estimators=50, reg_alpha=0.5, subsample=0.8, score=-15566338562.347, total=   0.4s\n",
      "[CV] colsample_bytree=0.9, gamma=1, learning_rate=0.01041084444635836, max_depth=11, n_estimators=50, reg_alpha=0.5, subsample=0.8 \n",
      "[CV]  colsample_bytree=0.9, gamma=1, learning_rate=0.01041084444635836, max_depth=11, n_estimators=50, reg_alpha=0.5, subsample=0.8, score=-15284022367.976, total=   0.4s\n",
      "[CV] colsample_bytree=0.9, gamma=1, learning_rate=0.01041084444635836, max_depth=11, n_estimators=50, reg_alpha=0.5, subsample=0.8 \n",
      "[CV]  colsample_bytree=0.9, gamma=1, learning_rate=0.01041084444635836, max_depth=11, n_estimators=50, reg_alpha=0.5, subsample=0.8, score=-18339309236.899, total=   0.4s\n",
      "[CV] colsample_bytree=0.9, gamma=1, learning_rate=0.01041084444635836, max_depth=11, n_estimators=50, reg_alpha=0.5, subsample=0.8 \n",
      "[CV]  colsample_bytree=0.9, gamma=1, learning_rate=0.01041084444635836, max_depth=11, n_estimators=50, reg_alpha=0.5, subsample=0.8, score=-16855605087.558, total=   0.4s\n",
      "[CV] colsample_bytree=0.9, gamma=1, learning_rate=0.01041084444635836, max_depth=11, n_estimators=50, reg_alpha=0.5, subsample=0.8 \n",
      "[CV]  colsample_bytree=0.9, gamma=1, learning_rate=0.01041084444635836, max_depth=11, n_estimators=50, reg_alpha=0.5, subsample=0.8, score=-15399087438.532, total=   0.4s\n",
      "[CV] colsample_bytree=0.8, gamma=0.5, learning_rate=0.05361910875801534, max_depth=7, n_estimators=50, reg_alpha=1, subsample=0.9 \n",
      "[CV]  colsample_bytree=0.8, gamma=0.5, learning_rate=0.05361910875801534, max_depth=7, n_estimators=50, reg_alpha=1, subsample=0.9, score=-1825408500.133, total=   0.3s\n",
      "[CV] colsample_bytree=0.8, gamma=0.5, learning_rate=0.05361910875801534, max_depth=7, n_estimators=50, reg_alpha=1, subsample=0.9 \n",
      "[CV]  colsample_bytree=0.8, gamma=0.5, learning_rate=0.05361910875801534, max_depth=7, n_estimators=50, reg_alpha=1, subsample=0.9, score=-2226166595.638, total=   0.3s\n",
      "[CV] colsample_bytree=0.8, gamma=0.5, learning_rate=0.05361910875801534, max_depth=7, n_estimators=50, reg_alpha=1, subsample=0.9 \n",
      "[CV]  colsample_bytree=0.8, gamma=0.5, learning_rate=0.05361910875801534, max_depth=7, n_estimators=50, reg_alpha=1, subsample=0.9, score=-669973665.102, total=   0.3s\n",
      "[CV] colsample_bytree=0.8, gamma=0.5, learning_rate=0.05361910875801534, max_depth=7, n_estimators=50, reg_alpha=1, subsample=0.9 \n",
      "[CV]  colsample_bytree=0.8, gamma=0.5, learning_rate=0.05361910875801534, max_depth=7, n_estimators=50, reg_alpha=1, subsample=0.9, score=-803122336.304, total=   0.3s\n",
      "[CV] colsample_bytree=0.8, gamma=0.5, learning_rate=0.05361910875801534, max_depth=7, n_estimators=50, reg_alpha=1, subsample=0.9 \n",
      "[CV]  colsample_bytree=0.8, gamma=0.5, learning_rate=0.05361910875801534, max_depth=7, n_estimators=50, reg_alpha=1, subsample=0.9, score=-569766799.061, total=   0.3s\n",
      "[CV] colsample_bytree=0.8, gamma=0.5, learning_rate=0.05361910875801534, max_depth=7, n_estimators=50, reg_alpha=1, subsample=0.9 \n",
      "[CV]  colsample_bytree=0.8, gamma=0.5, learning_rate=0.05361910875801534, max_depth=7, n_estimators=50, reg_alpha=1, subsample=0.9, score=-752361312.579, total=   0.3s\n",
      "[CV] colsample_bytree=0.8, gamma=0.5, learning_rate=0.05361910875801534, max_depth=7, n_estimators=50, reg_alpha=1, subsample=0.9 \n",
      "[CV]  colsample_bytree=0.8, gamma=0.5, learning_rate=0.05361910875801534, max_depth=7, n_estimators=50, reg_alpha=1, subsample=0.9, score=-1299529058.263, total=   0.4s\n",
      "[CV] colsample_bytree=0.8, gamma=0.5, learning_rate=0.05361910875801534, max_depth=7, n_estimators=50, reg_alpha=1, subsample=0.9 \n",
      "[CV]  colsample_bytree=0.8, gamma=0.5, learning_rate=0.05361910875801534, max_depth=7, n_estimators=50, reg_alpha=1, subsample=0.9, score=-1725997827.714, total=   0.3s\n",
      "[CV] colsample_bytree=0.8, gamma=0.5, learning_rate=0.05361910875801534, max_depth=7, n_estimators=50, reg_alpha=1, subsample=0.9 \n",
      "[CV]  colsample_bytree=0.8, gamma=0.5, learning_rate=0.05361910875801534, max_depth=7, n_estimators=50, reg_alpha=1, subsample=0.9, score=-842080890.171, total=   0.3s\n",
      "[CV] colsample_bytree=0.8, gamma=0.5, learning_rate=0.05361910875801534, max_depth=7, n_estimators=50, reg_alpha=1, subsample=0.9 \n",
      "[CV]  colsample_bytree=0.8, gamma=0.5, learning_rate=0.05361910875801534, max_depth=7, n_estimators=50, reg_alpha=1, subsample=0.9, score=-959554939.466, total=   0.3s\n",
      "[CV] colsample_bytree=0.8, gamma=0, learning_rate=0.07093777183459458, max_depth=7, n_estimators=100, reg_alpha=1, subsample=0.9 \n",
      "[CV]  colsample_bytree=0.8, gamma=0, learning_rate=0.07093777183459458, max_depth=7, n_estimators=100, reg_alpha=1, subsample=0.9, score=-1074717106.113, total=   0.6s\n",
      "[CV] colsample_bytree=0.8, gamma=0, learning_rate=0.07093777183459458, max_depth=7, n_estimators=100, reg_alpha=1, subsample=0.9 \n",
      "[CV]  colsample_bytree=0.8, gamma=0, learning_rate=0.07093777183459458, max_depth=7, n_estimators=100, reg_alpha=1, subsample=0.9, score=-1451927282.631, total=   0.6s\n",
      "[CV] colsample_bytree=0.8, gamma=0, learning_rate=0.07093777183459458, max_depth=7, n_estimators=100, reg_alpha=1, subsample=0.9 \n",
      "[CV]  colsample_bytree=0.8, gamma=0, learning_rate=0.07093777183459458, max_depth=7, n_estimators=100, reg_alpha=1, subsample=0.9, score=-664878132.415, total=   0.6s\n",
      "[CV] colsample_bytree=0.8, gamma=0, learning_rate=0.07093777183459458, max_depth=7, n_estimators=100, reg_alpha=1, subsample=0.9 \n",
      "[CV]  colsample_bytree=0.8, gamma=0, learning_rate=0.07093777183459458, max_depth=7, n_estimators=100, reg_alpha=1, subsample=0.9, score=-485678521.074, total=   0.6s\n",
      "[CV] colsample_bytree=0.8, gamma=0, learning_rate=0.07093777183459458, max_depth=7, n_estimators=100, reg_alpha=1, subsample=0.9 \n"
     ]
    },
    {
     "name": "stdout",
     "output_type": "stream",
     "text": [
      "[CV]  colsample_bytree=0.8, gamma=0, learning_rate=0.07093777183459458, max_depth=7, n_estimators=100, reg_alpha=1, subsample=0.9, score=-409966428.260, total=   0.7s\n",
      "[CV] colsample_bytree=0.8, gamma=0, learning_rate=0.07093777183459458, max_depth=7, n_estimators=100, reg_alpha=1, subsample=0.9 \n",
      "[CV]  colsample_bytree=0.8, gamma=0, learning_rate=0.07093777183459458, max_depth=7, n_estimators=100, reg_alpha=1, subsample=0.9, score=-526308055.040, total=   0.7s\n",
      "[CV] colsample_bytree=0.8, gamma=0, learning_rate=0.07093777183459458, max_depth=7, n_estimators=100, reg_alpha=1, subsample=0.9 \n",
      "[CV]  colsample_bytree=0.8, gamma=0, learning_rate=0.07093777183459458, max_depth=7, n_estimators=100, reg_alpha=1, subsample=0.9, score=-832591454.638, total=   0.8s\n",
      "[CV] colsample_bytree=0.8, gamma=0, learning_rate=0.07093777183459458, max_depth=7, n_estimators=100, reg_alpha=1, subsample=0.9 \n",
      "[CV]  colsample_bytree=0.8, gamma=0, learning_rate=0.07093777183459458, max_depth=7, n_estimators=100, reg_alpha=1, subsample=0.9, score=-1227081674.568, total=   0.7s\n",
      "[CV] colsample_bytree=0.8, gamma=0, learning_rate=0.07093777183459458, max_depth=7, n_estimators=100, reg_alpha=1, subsample=0.9 \n",
      "[CV]  colsample_bytree=0.8, gamma=0, learning_rate=0.07093777183459458, max_depth=7, n_estimators=100, reg_alpha=1, subsample=0.9, score=-488911538.915, total=   0.6s\n",
      "[CV] colsample_bytree=0.8, gamma=0, learning_rate=0.07093777183459458, max_depth=7, n_estimators=100, reg_alpha=1, subsample=0.9 \n",
      "[CV]  colsample_bytree=0.8, gamma=0, learning_rate=0.07093777183459458, max_depth=7, n_estimators=100, reg_alpha=1, subsample=0.9, score=-622511026.625, total=   0.6s\n",
      "[CV] colsample_bytree=0.9, gamma=1, learning_rate=0.1068282606289217, max_depth=3, n_estimators=100, reg_alpha=1, subsample=0.7 \n",
      "[CV]  colsample_bytree=0.9, gamma=1, learning_rate=0.1068282606289217, max_depth=3, n_estimators=100, reg_alpha=1, subsample=0.7, score=-996100323.284, total=   0.3s\n",
      "[CV] colsample_bytree=0.9, gamma=1, learning_rate=0.1068282606289217, max_depth=3, n_estimators=100, reg_alpha=1, subsample=0.7 \n",
      "[CV]  colsample_bytree=0.9, gamma=1, learning_rate=0.1068282606289217, max_depth=3, n_estimators=100, reg_alpha=1, subsample=0.7, score=-1564670940.101, total=   0.3s\n",
      "[CV] colsample_bytree=0.9, gamma=1, learning_rate=0.1068282606289217, max_depth=3, n_estimators=100, reg_alpha=1, subsample=0.7 \n",
      "[CV]  colsample_bytree=0.9, gamma=1, learning_rate=0.1068282606289217, max_depth=3, n_estimators=100, reg_alpha=1, subsample=0.7, score=-801606167.497, total=   0.3s\n",
      "[CV] colsample_bytree=0.9, gamma=1, learning_rate=0.1068282606289217, max_depth=3, n_estimators=100, reg_alpha=1, subsample=0.7 \n",
      "[CV]  colsample_bytree=0.9, gamma=1, learning_rate=0.1068282606289217, max_depth=3, n_estimators=100, reg_alpha=1, subsample=0.7, score=-522375416.398, total=   0.3s\n",
      "[CV] colsample_bytree=0.9, gamma=1, learning_rate=0.1068282606289217, max_depth=3, n_estimators=100, reg_alpha=1, subsample=0.7 \n",
      "[CV]  colsample_bytree=0.9, gamma=1, learning_rate=0.1068282606289217, max_depth=3, n_estimators=100, reg_alpha=1, subsample=0.7, score=-477857170.493, total=   0.3s\n",
      "[CV] colsample_bytree=0.9, gamma=1, learning_rate=0.1068282606289217, max_depth=3, n_estimators=100, reg_alpha=1, subsample=0.7 \n",
      "[CV]  colsample_bytree=0.9, gamma=1, learning_rate=0.1068282606289217, max_depth=3, n_estimators=100, reg_alpha=1, subsample=0.7, score=-503374120.305, total=   0.3s\n",
      "[CV] colsample_bytree=0.9, gamma=1, learning_rate=0.1068282606289217, max_depth=3, n_estimators=100, reg_alpha=1, subsample=0.7 \n",
      "[CV]  colsample_bytree=0.9, gamma=1, learning_rate=0.1068282606289217, max_depth=3, n_estimators=100, reg_alpha=1, subsample=0.7, score=-638135412.387, total=   0.3s\n",
      "[CV] colsample_bytree=0.9, gamma=1, learning_rate=0.1068282606289217, max_depth=3, n_estimators=100, reg_alpha=1, subsample=0.7 \n",
      "[CV]  colsample_bytree=0.9, gamma=1, learning_rate=0.1068282606289217, max_depth=3, n_estimators=100, reg_alpha=1, subsample=0.7, score=-950671263.727, total=   0.3s\n",
      "[CV] colsample_bytree=0.9, gamma=1, learning_rate=0.1068282606289217, max_depth=3, n_estimators=100, reg_alpha=1, subsample=0.7 \n",
      "[CV]  colsample_bytree=0.9, gamma=1, learning_rate=0.1068282606289217, max_depth=3, n_estimators=100, reg_alpha=1, subsample=0.7, score=-510967834.219, total=   0.3s\n",
      "[CV] colsample_bytree=0.9, gamma=1, learning_rate=0.1068282606289217, max_depth=3, n_estimators=100, reg_alpha=1, subsample=0.7 \n",
      "[CV]  colsample_bytree=0.9, gamma=1, learning_rate=0.1068282606289217, max_depth=3, n_estimators=100, reg_alpha=1, subsample=0.7, score=-599210600.496, total=   0.3s\n",
      "[CV] colsample_bytree=0.9, gamma=0.5, learning_rate=0.0653357479408279, max_depth=11, n_estimators=100, reg_alpha=0.5, subsample=0.9 \n",
      "[CV]  colsample_bytree=0.9, gamma=0.5, learning_rate=0.0653357479408279, max_depth=11, n_estimators=100, reg_alpha=0.5, subsample=0.9, score=-1155693716.470, total=   1.3s\n",
      "[CV] colsample_bytree=0.9, gamma=0.5, learning_rate=0.0653357479408279, max_depth=11, n_estimators=100, reg_alpha=0.5, subsample=0.9 \n",
      "[CV]  colsample_bytree=0.9, gamma=0.5, learning_rate=0.0653357479408279, max_depth=11, n_estimators=100, reg_alpha=0.5, subsample=0.9, score=-1623919692.673, total=   1.1s\n",
      "[CV] colsample_bytree=0.9, gamma=0.5, learning_rate=0.0653357479408279, max_depth=11, n_estimators=100, reg_alpha=0.5, subsample=0.9 \n",
      "[CV]  colsample_bytree=0.9, gamma=0.5, learning_rate=0.0653357479408279, max_depth=11, n_estimators=100, reg_alpha=0.5, subsample=0.9, score=-655629317.091, total=   1.2s\n",
      "[CV] colsample_bytree=0.9, gamma=0.5, learning_rate=0.0653357479408279, max_depth=11, n_estimators=100, reg_alpha=0.5, subsample=0.9 \n",
      "[CV]  colsample_bytree=0.9, gamma=0.5, learning_rate=0.0653357479408279, max_depth=11, n_estimators=100, reg_alpha=0.5, subsample=0.9, score=-502545795.595, total=   1.3s\n",
      "[CV] colsample_bytree=0.9, gamma=0.5, learning_rate=0.0653357479408279, max_depth=11, n_estimators=100, reg_alpha=0.5, subsample=0.9 \n",
      "[CV]  colsample_bytree=0.9, gamma=0.5, learning_rate=0.0653357479408279, max_depth=11, n_estimators=100, reg_alpha=0.5, subsample=0.9, score=-435865950.815, total=   1.4s\n",
      "[CV] colsample_bytree=0.9, gamma=0.5, learning_rate=0.0653357479408279, max_depth=11, n_estimators=100, reg_alpha=0.5, subsample=0.9 \n",
      "[CV]  colsample_bytree=0.9, gamma=0.5, learning_rate=0.0653357479408279, max_depth=11, n_estimators=100, reg_alpha=0.5, subsample=0.9, score=-564038377.075, total=   1.3s\n",
      "[CV] colsample_bytree=0.9, gamma=0.5, learning_rate=0.0653357479408279, max_depth=11, n_estimators=100, reg_alpha=0.5, subsample=0.9 \n",
      "[CV]  colsample_bytree=0.9, gamma=0.5, learning_rate=0.0653357479408279, max_depth=11, n_estimators=100, reg_alpha=0.5, subsample=0.9, score=-823861293.157, total=   1.3s\n",
      "[CV] colsample_bytree=0.9, gamma=0.5, learning_rate=0.0653357479408279, max_depth=11, n_estimators=100, reg_alpha=0.5, subsample=0.9 \n",
      "[CV]  colsample_bytree=0.9, gamma=0.5, learning_rate=0.0653357479408279, max_depth=11, n_estimators=100, reg_alpha=0.5, subsample=0.9, score=-1199797410.426, total=   1.2s\n",
      "[CV] colsample_bytree=0.9, gamma=0.5, learning_rate=0.0653357479408279, max_depth=11, n_estimators=100, reg_alpha=0.5, subsample=0.9 \n",
      "[CV]  colsample_bytree=0.9, gamma=0.5, learning_rate=0.0653357479408279, max_depth=11, n_estimators=100, reg_alpha=0.5, subsample=0.9, score=-493781855.058, total=   1.1s\n",
      "[CV] colsample_bytree=0.9, gamma=0.5, learning_rate=0.0653357479408279, max_depth=11, n_estimators=100, reg_alpha=0.5, subsample=0.9 \n",
      "[CV]  colsample_bytree=0.9, gamma=0.5, learning_rate=0.0653357479408279, max_depth=11, n_estimators=100, reg_alpha=0.5, subsample=0.9, score=-628781534.435, total=   1.1s\n",
      "[CV] colsample_bytree=0.9, gamma=1, learning_rate=0.02261619042233607, max_depth=5, n_estimators=300, reg_alpha=1, subsample=0.9 \n",
      "[CV]  colsample_bytree=0.9, gamma=1, learning_rate=0.02261619042233607, max_depth=5, n_estimators=300, reg_alpha=1, subsample=0.9, score=-1082417647.130, total=   1.6s\n",
      "[CV] colsample_bytree=0.9, gamma=1, learning_rate=0.02261619042233607, max_depth=5, n_estimators=300, reg_alpha=1, subsample=0.9 \n",
      "[CV]  colsample_bytree=0.9, gamma=1, learning_rate=0.02261619042233607, max_depth=5, n_estimators=300, reg_alpha=1, subsample=0.9, score=-1892087394.054, total=   1.6s\n",
      "[CV] colsample_bytree=0.9, gamma=1, learning_rate=0.02261619042233607, max_depth=5, n_estimators=300, reg_alpha=1, subsample=0.9 \n"
     ]
    },
    {
     "name": "stdout",
     "output_type": "stream",
     "text": [
      "[CV]  colsample_bytree=0.9, gamma=1, learning_rate=0.02261619042233607, max_depth=5, n_estimators=300, reg_alpha=1, subsample=0.9, score=-732131815.520, total=   1.9s\n",
      "[CV] colsample_bytree=0.9, gamma=1, learning_rate=0.02261619042233607, max_depth=5, n_estimators=300, reg_alpha=1, subsample=0.9 \n",
      "[CV]  colsample_bytree=0.9, gamma=1, learning_rate=0.02261619042233607, max_depth=5, n_estimators=300, reg_alpha=1, subsample=0.9, score=-502520899.683, total=   1.6s\n",
      "[CV] colsample_bytree=0.9, gamma=1, learning_rate=0.02261619042233607, max_depth=5, n_estimators=300, reg_alpha=1, subsample=0.9 \n",
      "[CV]  colsample_bytree=0.9, gamma=1, learning_rate=0.02261619042233607, max_depth=5, n_estimators=300, reg_alpha=1, subsample=0.9, score=-419757942.771, total=   1.7s\n",
      "[CV] colsample_bytree=0.9, gamma=1, learning_rate=0.02261619042233607, max_depth=5, n_estimators=300, reg_alpha=1, subsample=0.9 \n",
      "[CV]  colsample_bytree=0.9, gamma=1, learning_rate=0.02261619042233607, max_depth=5, n_estimators=300, reg_alpha=1, subsample=0.9, score=-486798217.867, total=   1.7s\n",
      "[CV] colsample_bytree=0.9, gamma=1, learning_rate=0.02261619042233607, max_depth=5, n_estimators=300, reg_alpha=1, subsample=0.9 \n",
      "[CV]  colsample_bytree=0.9, gamma=1, learning_rate=0.02261619042233607, max_depth=5, n_estimators=300, reg_alpha=1, subsample=0.9, score=-797898196.952, total=   1.6s\n",
      "[CV] colsample_bytree=0.9, gamma=1, learning_rate=0.02261619042233607, max_depth=5, n_estimators=300, reg_alpha=1, subsample=0.9 \n",
      "[CV]  colsample_bytree=0.9, gamma=1, learning_rate=0.02261619042233607, max_depth=5, n_estimators=300, reg_alpha=1, subsample=0.9, score=-1068392206.328, total=   1.6s\n",
      "[CV] colsample_bytree=0.9, gamma=1, learning_rate=0.02261619042233607, max_depth=5, n_estimators=300, reg_alpha=1, subsample=0.9 \n",
      "[CV]  colsample_bytree=0.9, gamma=1, learning_rate=0.02261619042233607, max_depth=5, n_estimators=300, reg_alpha=1, subsample=0.9, score=-443674800.471, total=   1.6s\n",
      "[CV] colsample_bytree=0.9, gamma=1, learning_rate=0.02261619042233607, max_depth=5, n_estimators=300, reg_alpha=1, subsample=0.9 \n",
      "[CV]  colsample_bytree=0.9, gamma=1, learning_rate=0.02261619042233607, max_depth=5, n_estimators=300, reg_alpha=1, subsample=0.9, score=-632030319.265, total=   1.6s\n",
      "[CV] colsample_bytree=0.8, gamma=1, learning_rate=0.032726955429863105, max_depth=11, n_estimators=50, reg_alpha=0, subsample=0.7 \n",
      "[CV]  colsample_bytree=0.8, gamma=1, learning_rate=0.032726955429863105, max_depth=11, n_estimators=50, reg_alpha=0, subsample=0.7, score=-4115228070.531, total=   0.4s\n",
      "[CV] colsample_bytree=0.8, gamma=1, learning_rate=0.032726955429863105, max_depth=11, n_estimators=50, reg_alpha=0, subsample=0.7 \n",
      "[CV]  colsample_bytree=0.8, gamma=1, learning_rate=0.032726955429863105, max_depth=11, n_estimators=50, reg_alpha=0, subsample=0.7, score=-4418136207.006, total=   0.4s\n",
      "[CV] colsample_bytree=0.8, gamma=1, learning_rate=0.032726955429863105, max_depth=11, n_estimators=50, reg_alpha=0, subsample=0.7 \n",
      "[CV]  colsample_bytree=0.8, gamma=1, learning_rate=0.032726955429863105, max_depth=11, n_estimators=50, reg_alpha=0, subsample=0.7, score=-1577738942.680, total=   0.5s\n",
      "[CV] colsample_bytree=0.8, gamma=1, learning_rate=0.032726955429863105, max_depth=11, n_estimators=50, reg_alpha=0, subsample=0.7 \n",
      "[CV]  colsample_bytree=0.8, gamma=1, learning_rate=0.032726955429863105, max_depth=11, n_estimators=50, reg_alpha=0, subsample=0.7, score=-2374783778.216, total=   0.5s\n",
      "[CV] colsample_bytree=0.8, gamma=1, learning_rate=0.032726955429863105, max_depth=11, n_estimators=50, reg_alpha=0, subsample=0.7 \n",
      "[CV]  colsample_bytree=0.8, gamma=1, learning_rate=0.032726955429863105, max_depth=11, n_estimators=50, reg_alpha=0, subsample=0.7, score=-1865568686.011, total=   0.5s\n",
      "[CV] colsample_bytree=0.8, gamma=1, learning_rate=0.032726955429863105, max_depth=11, n_estimators=50, reg_alpha=0, subsample=0.7 \n",
      "[CV]  colsample_bytree=0.8, gamma=1, learning_rate=0.032726955429863105, max_depth=11, n_estimators=50, reg_alpha=0, subsample=0.7, score=-2353600742.144, total=   0.4s\n",
      "[CV] colsample_bytree=0.8, gamma=1, learning_rate=0.032726955429863105, max_depth=11, n_estimators=50, reg_alpha=0, subsample=0.7 \n",
      "[CV]  colsample_bytree=0.8, gamma=1, learning_rate=0.032726955429863105, max_depth=11, n_estimators=50, reg_alpha=0, subsample=0.7, score=-2797733444.261, total=   0.5s\n",
      "[CV] colsample_bytree=0.8, gamma=1, learning_rate=0.032726955429863105, max_depth=11, n_estimators=50, reg_alpha=0, subsample=0.7 \n",
      "[CV]  colsample_bytree=0.8, gamma=1, learning_rate=0.032726955429863105, max_depth=11, n_estimators=50, reg_alpha=0, subsample=0.7, score=-3930080265.501, total=   0.5s\n",
      "[CV] colsample_bytree=0.8, gamma=1, learning_rate=0.032726955429863105, max_depth=11, n_estimators=50, reg_alpha=0, subsample=0.7 \n",
      "[CV]  colsample_bytree=0.8, gamma=1, learning_rate=0.032726955429863105, max_depth=11, n_estimators=50, reg_alpha=0, subsample=0.7, score=-2510825317.509, total=   0.5s\n",
      "[CV] colsample_bytree=0.8, gamma=1, learning_rate=0.032726955429863105, max_depth=11, n_estimators=50, reg_alpha=0, subsample=0.7 \n",
      "[CV]  colsample_bytree=0.8, gamma=1, learning_rate=0.032726955429863105, max_depth=11, n_estimators=50, reg_alpha=0, subsample=0.7, score=-2777513638.444, total=   0.5s\n",
      "[CV] colsample_bytree=0.8, gamma=0.5, learning_rate=0.016472492285772404, max_depth=11, n_estimators=50, reg_alpha=0.5, subsample=0.8 \n",
      "[CV]  colsample_bytree=0.8, gamma=0.5, learning_rate=0.016472492285772404, max_depth=11, n_estimators=50, reg_alpha=0.5, subsample=0.8, score=-12321148331.190, total=   0.4s\n",
      "[CV] colsample_bytree=0.8, gamma=0.5, learning_rate=0.016472492285772404, max_depth=11, n_estimators=50, reg_alpha=0.5, subsample=0.8 \n",
      "[CV]  colsample_bytree=0.8, gamma=0.5, learning_rate=0.016472492285772404, max_depth=11, n_estimators=50, reg_alpha=0.5, subsample=0.8, score=-10979096218.198, total=   0.4s\n",
      "[CV] colsample_bytree=0.8, gamma=0.5, learning_rate=0.016472492285772404, max_depth=11, n_estimators=50, reg_alpha=0.5, subsample=0.8 \n",
      "[CV]  colsample_bytree=0.8, gamma=0.5, learning_rate=0.016472492285772404, max_depth=11, n_estimators=50, reg_alpha=0.5, subsample=0.8, score=-6311734466.896, total=   0.4s\n",
      "[CV] colsample_bytree=0.8, gamma=0.5, learning_rate=0.016472492285772404, max_depth=11, n_estimators=50, reg_alpha=0.5, subsample=0.8 \n",
      "[CV]  colsample_bytree=0.8, gamma=0.5, learning_rate=0.016472492285772404, max_depth=11, n_estimators=50, reg_alpha=0.5, subsample=0.8, score=-8496497857.733, total=   0.4s\n",
      "[CV] colsample_bytree=0.8, gamma=0.5, learning_rate=0.016472492285772404, max_depth=11, n_estimators=50, reg_alpha=0.5, subsample=0.8 \n",
      "[CV]  colsample_bytree=0.8, gamma=0.5, learning_rate=0.016472492285772404, max_depth=11, n_estimators=50, reg_alpha=0.5, subsample=0.8, score=-7821104999.066, total=   0.4s\n",
      "[CV] colsample_bytree=0.8, gamma=0.5, learning_rate=0.016472492285772404, max_depth=11, n_estimators=50, reg_alpha=0.5, subsample=0.8 \n",
      "[CV]  colsample_bytree=0.8, gamma=0.5, learning_rate=0.016472492285772404, max_depth=11, n_estimators=50, reg_alpha=0.5, subsample=0.8, score=-9008403199.044, total=   0.4s\n",
      "[CV] colsample_bytree=0.8, gamma=0.5, learning_rate=0.016472492285772404, max_depth=11, n_estimators=50, reg_alpha=0.5, subsample=0.8 \n",
      "[CV]  colsample_bytree=0.8, gamma=0.5, learning_rate=0.016472492285772404, max_depth=11, n_estimators=50, reg_alpha=0.5, subsample=0.8, score=-9095393482.050, total=   0.4s\n",
      "[CV] colsample_bytree=0.8, gamma=0.5, learning_rate=0.016472492285772404, max_depth=11, n_estimators=50, reg_alpha=0.5, subsample=0.8 \n",
      "[CV]  colsample_bytree=0.8, gamma=0.5, learning_rate=0.016472492285772404, max_depth=11, n_estimators=50, reg_alpha=0.5, subsample=0.8, score=-11266800159.907, total=   0.4s\n",
      "[CV] colsample_bytree=0.8, gamma=0.5, learning_rate=0.016472492285772404, max_depth=11, n_estimators=50, reg_alpha=0.5, subsample=0.8 \n",
      "[CV]  colsample_bytree=0.8, gamma=0.5, learning_rate=0.016472492285772404, max_depth=11, n_estimators=50, reg_alpha=0.5, subsample=0.8, score=-9849177388.194, total=   0.4s\n",
      "[CV] colsample_bytree=0.8, gamma=0.5, learning_rate=0.016472492285772404, max_depth=11, n_estimators=50, reg_alpha=0.5, subsample=0.8 \n",
      "[CV]  colsample_bytree=0.8, gamma=0.5, learning_rate=0.016472492285772404, max_depth=11, n_estimators=50, reg_alpha=0.5, subsample=0.8, score=-9150155177.539, total=   0.4s\n",
      "[CV] colsample_bytree=0.9, gamma=1, learning_rate=0.01078578790837992, max_depth=3, n_estimators=300, reg_alpha=0.5, subsample=0.8 \n"
     ]
    },
    {
     "name": "stdout",
     "output_type": "stream",
     "text": [
      "[CV]  colsample_bytree=0.9, gamma=1, learning_rate=0.01078578790837992, max_depth=3, n_estimators=300, reg_alpha=0.5, subsample=0.8, score=-1573180168.179, total=   1.0s\n",
      "[CV] colsample_bytree=0.9, gamma=1, learning_rate=0.01078578790837992, max_depth=3, n_estimators=300, reg_alpha=0.5, subsample=0.8 \n",
      "[CV]  colsample_bytree=0.9, gamma=1, learning_rate=0.01078578790837992, max_depth=3, n_estimators=300, reg_alpha=0.5, subsample=0.8, score=-1962588703.684, total=   1.1s\n",
      "[CV] colsample_bytree=0.9, gamma=1, learning_rate=0.01078578790837992, max_depth=3, n_estimators=300, reg_alpha=0.5, subsample=0.8 \n",
      "[CV]  colsample_bytree=0.9, gamma=1, learning_rate=0.01078578790837992, max_depth=3, n_estimators=300, reg_alpha=0.5, subsample=0.8, score=-790075445.044, total=   1.0s\n",
      "[CV] colsample_bytree=0.9, gamma=1, learning_rate=0.01078578790837992, max_depth=3, n_estimators=300, reg_alpha=0.5, subsample=0.8 \n",
      "[CV]  colsample_bytree=0.9, gamma=1, learning_rate=0.01078578790837992, max_depth=3, n_estimators=300, reg_alpha=0.5, subsample=0.8, score=-697694205.905, total=   1.0s\n",
      "[CV] colsample_bytree=0.9, gamma=1, learning_rate=0.01078578790837992, max_depth=3, n_estimators=300, reg_alpha=0.5, subsample=0.8 \n",
      "[CV]  colsample_bytree=0.9, gamma=1, learning_rate=0.01078578790837992, max_depth=3, n_estimators=300, reg_alpha=0.5, subsample=0.8, score=-537281185.672, total=   1.1s\n",
      "[CV] colsample_bytree=0.9, gamma=1, learning_rate=0.01078578790837992, max_depth=3, n_estimators=300, reg_alpha=0.5, subsample=0.8 \n",
      "[CV]  colsample_bytree=0.9, gamma=1, learning_rate=0.01078578790837992, max_depth=3, n_estimators=300, reg_alpha=0.5, subsample=0.8, score=-622579334.335, total=   1.0s\n",
      "[CV] colsample_bytree=0.9, gamma=1, learning_rate=0.01078578790837992, max_depth=3, n_estimators=300, reg_alpha=0.5, subsample=0.8 \n",
      "[CV]  colsample_bytree=0.9, gamma=1, learning_rate=0.01078578790837992, max_depth=3, n_estimators=300, reg_alpha=0.5, subsample=0.8, score=-941017481.780, total=   1.0s\n",
      "[CV] colsample_bytree=0.9, gamma=1, learning_rate=0.01078578790837992, max_depth=3, n_estimators=300, reg_alpha=0.5, subsample=0.8 \n",
      "[CV]  colsample_bytree=0.9, gamma=1, learning_rate=0.01078578790837992, max_depth=3, n_estimators=300, reg_alpha=0.5, subsample=0.8, score=-1535894481.289, total=   1.1s\n",
      "[CV] colsample_bytree=0.9, gamma=1, learning_rate=0.01078578790837992, max_depth=3, n_estimators=300, reg_alpha=0.5, subsample=0.8 \n",
      "[CV]  colsample_bytree=0.9, gamma=1, learning_rate=0.01078578790837992, max_depth=3, n_estimators=300, reg_alpha=0.5, subsample=0.8, score=-699384285.862, total=   1.0s\n",
      "[CV] colsample_bytree=0.9, gamma=1, learning_rate=0.01078578790837992, max_depth=3, n_estimators=300, reg_alpha=0.5, subsample=0.8 \n",
      "[CV]  colsample_bytree=0.9, gamma=1, learning_rate=0.01078578790837992, max_depth=3, n_estimators=300, reg_alpha=0.5, subsample=0.8, score=-912213487.361, total=   1.0s\n",
      "[CV] colsample_bytree=0.8, gamma=1, learning_rate=0.03742422390024365, max_depth=5, n_estimators=100, reg_alpha=0, subsample=0.9 \n",
      "[CV]  colsample_bytree=0.8, gamma=1, learning_rate=0.03742422390024365, max_depth=5, n_estimators=100, reg_alpha=0, subsample=0.9, score=-1304622262.664, total=   0.5s\n",
      "[CV] colsample_bytree=0.8, gamma=1, learning_rate=0.03742422390024365, max_depth=5, n_estimators=100, reg_alpha=0, subsample=0.9 \n",
      "[CV]  colsample_bytree=0.8, gamma=1, learning_rate=0.03742422390024365, max_depth=5, n_estimators=100, reg_alpha=0, subsample=0.9, score=-2099228392.372, total=   0.5s\n",
      "[CV] colsample_bytree=0.8, gamma=1, learning_rate=0.03742422390024365, max_depth=5, n_estimators=100, reg_alpha=0, subsample=0.9 \n",
      "[CV]  colsample_bytree=0.8, gamma=1, learning_rate=0.03742422390024365, max_depth=5, n_estimators=100, reg_alpha=0, subsample=0.9, score=-666291395.315, total=   0.5s\n",
      "[CV] colsample_bytree=0.8, gamma=1, learning_rate=0.03742422390024365, max_depth=5, n_estimators=100, reg_alpha=0, subsample=0.9 \n",
      "[CV]  colsample_bytree=0.8, gamma=1, learning_rate=0.03742422390024365, max_depth=5, n_estimators=100, reg_alpha=0, subsample=0.9, score=-547315865.450, total=   0.5s\n",
      "[CV] colsample_bytree=0.8, gamma=1, learning_rate=0.03742422390024365, max_depth=5, n_estimators=100, reg_alpha=0, subsample=0.9 \n",
      "[CV]  colsample_bytree=0.8, gamma=1, learning_rate=0.03742422390024365, max_depth=5, n_estimators=100, reg_alpha=0, subsample=0.9, score=-457104796.308, total=   0.5s\n",
      "[CV] colsample_bytree=0.8, gamma=1, learning_rate=0.03742422390024365, max_depth=5, n_estimators=100, reg_alpha=0, subsample=0.9 \n",
      "[CV]  colsample_bytree=0.8, gamma=1, learning_rate=0.03742422390024365, max_depth=5, n_estimators=100, reg_alpha=0, subsample=0.9, score=-541756249.397, total=   0.5s\n",
      "[CV] colsample_bytree=0.8, gamma=1, learning_rate=0.03742422390024365, max_depth=5, n_estimators=100, reg_alpha=0, subsample=0.9 \n",
      "[CV]  colsample_bytree=0.8, gamma=1, learning_rate=0.03742422390024365, max_depth=5, n_estimators=100, reg_alpha=0, subsample=0.9, score=-922997379.714, total=   0.5s\n",
      "[CV] colsample_bytree=0.8, gamma=1, learning_rate=0.03742422390024365, max_depth=5, n_estimators=100, reg_alpha=0, subsample=0.9 \n",
      "[CV]  colsample_bytree=0.8, gamma=1, learning_rate=0.03742422390024365, max_depth=5, n_estimators=100, reg_alpha=0, subsample=0.9, score=-1342581040.103, total=   0.5s\n",
      "[CV] colsample_bytree=0.8, gamma=1, learning_rate=0.03742422390024365, max_depth=5, n_estimators=100, reg_alpha=0, subsample=0.9 \n",
      "[CV]  colsample_bytree=0.8, gamma=1, learning_rate=0.03742422390024365, max_depth=5, n_estimators=100, reg_alpha=0, subsample=0.9, score=-551299110.838, total=   0.5s\n",
      "[CV] colsample_bytree=0.8, gamma=1, learning_rate=0.03742422390024365, max_depth=5, n_estimators=100, reg_alpha=0, subsample=0.9 \n",
      "[CV]  colsample_bytree=0.8, gamma=1, learning_rate=0.03742422390024365, max_depth=5, n_estimators=100, reg_alpha=0, subsample=0.9, score=-731433486.535, total=   0.5s\n",
      "[CV] colsample_bytree=0.7, gamma=0.5, learning_rate=0.029467523513360155, max_depth=7, n_estimators=200, reg_alpha=1, subsample=0.7 \n",
      "[CV]  colsample_bytree=0.7, gamma=0.5, learning_rate=0.029467523513360155, max_depth=7, n_estimators=200, reg_alpha=1, subsample=0.7, score=-1084064150.792, total=   1.3s\n",
      "[CV] colsample_bytree=0.7, gamma=0.5, learning_rate=0.029467523513360155, max_depth=7, n_estimators=200, reg_alpha=1, subsample=0.7 \n",
      "[CV]  colsample_bytree=0.7, gamma=0.5, learning_rate=0.029467523513360155, max_depth=7, n_estimators=200, reg_alpha=1, subsample=0.7, score=-1530721678.156, total=   1.3s\n",
      "[CV] colsample_bytree=0.7, gamma=0.5, learning_rate=0.029467523513360155, max_depth=7, n_estimators=200, reg_alpha=1, subsample=0.7 \n",
      "[CV]  colsample_bytree=0.7, gamma=0.5, learning_rate=0.029467523513360155, max_depth=7, n_estimators=200, reg_alpha=1, subsample=0.7, score=-646031308.606, total=   1.2s\n",
      "[CV] colsample_bytree=0.7, gamma=0.5, learning_rate=0.029467523513360155, max_depth=7, n_estimators=200, reg_alpha=1, subsample=0.7 \n",
      "[CV]  colsample_bytree=0.7, gamma=0.5, learning_rate=0.029467523513360155, max_depth=7, n_estimators=200, reg_alpha=1, subsample=0.7, score=-514420523.232, total=   1.3s\n",
      "[CV] colsample_bytree=0.7, gamma=0.5, learning_rate=0.029467523513360155, max_depth=7, n_estimators=200, reg_alpha=1, subsample=0.7 \n",
      "[CV]  colsample_bytree=0.7, gamma=0.5, learning_rate=0.029467523513360155, max_depth=7, n_estimators=200, reg_alpha=1, subsample=0.7, score=-437934215.208, total=   1.3s\n",
      "[CV] colsample_bytree=0.7, gamma=0.5, learning_rate=0.029467523513360155, max_depth=7, n_estimators=200, reg_alpha=1, subsample=0.7 \n",
      "[CV]  colsample_bytree=0.7, gamma=0.5, learning_rate=0.029467523513360155, max_depth=7, n_estimators=200, reg_alpha=1, subsample=0.7, score=-451478462.457, total=   1.3s\n",
      "[CV] colsample_bytree=0.7, gamma=0.5, learning_rate=0.029467523513360155, max_depth=7, n_estimators=200, reg_alpha=1, subsample=0.7 \n",
      "[CV]  colsample_bytree=0.7, gamma=0.5, learning_rate=0.029467523513360155, max_depth=7, n_estimators=200, reg_alpha=1, subsample=0.7, score=-829993485.131, total=   1.3s\n",
      "[CV] colsample_bytree=0.7, gamma=0.5, learning_rate=0.029467523513360155, max_depth=7, n_estimators=200, reg_alpha=1, subsample=0.7 \n",
      "[CV]  colsample_bytree=0.7, gamma=0.5, learning_rate=0.029467523513360155, max_depth=7, n_estimators=200, reg_alpha=1, subsample=0.7, score=-1119281805.130, total=   1.4s\n",
      "[CV] colsample_bytree=0.7, gamma=0.5, learning_rate=0.029467523513360155, max_depth=7, n_estimators=200, reg_alpha=1, subsample=0.7 \n"
     ]
    },
    {
     "name": "stdout",
     "output_type": "stream",
     "text": [
      "[CV]  colsample_bytree=0.7, gamma=0.5, learning_rate=0.029467523513360155, max_depth=7, n_estimators=200, reg_alpha=1, subsample=0.7, score=-462007485.767, total=   1.3s\n",
      "[CV] colsample_bytree=0.7, gamma=0.5, learning_rate=0.029467523513360155, max_depth=7, n_estimators=200, reg_alpha=1, subsample=0.7 \n",
      "[CV]  colsample_bytree=0.7, gamma=0.5, learning_rate=0.029467523513360155, max_depth=7, n_estimators=200, reg_alpha=1, subsample=0.7, score=-628318006.528, total=   1.5s\n",
      "[CV] colsample_bytree=0.9, gamma=1, learning_rate=0.08844245976539601, max_depth=11, n_estimators=300, reg_alpha=0.5, subsample=0.9 \n",
      "[CV]  colsample_bytree=0.9, gamma=1, learning_rate=0.08844245976539601, max_depth=11, n_estimators=300, reg_alpha=0.5, subsample=0.9, score=-1076721492.697, total=   3.9s\n",
      "[CV] colsample_bytree=0.9, gamma=1, learning_rate=0.08844245976539601, max_depth=11, n_estimators=300, reg_alpha=0.5, subsample=0.9 \n",
      "[CV]  colsample_bytree=0.9, gamma=1, learning_rate=0.08844245976539601, max_depth=11, n_estimators=300, reg_alpha=0.5, subsample=0.9, score=-1793559896.274, total=   4.0s\n",
      "[CV] colsample_bytree=0.9, gamma=1, learning_rate=0.08844245976539601, max_depth=11, n_estimators=300, reg_alpha=0.5, subsample=0.9 \n",
      "[CV]  colsample_bytree=0.9, gamma=1, learning_rate=0.08844245976539601, max_depth=11, n_estimators=300, reg_alpha=0.5, subsample=0.9, score=-822160858.889, total=   3.9s\n",
      "[CV] colsample_bytree=0.9, gamma=1, learning_rate=0.08844245976539601, max_depth=11, n_estimators=300, reg_alpha=0.5, subsample=0.9 \n",
      "[CV]  colsample_bytree=0.9, gamma=1, learning_rate=0.08844245976539601, max_depth=11, n_estimators=300, reg_alpha=0.5, subsample=0.9, score=-565535411.102, total=   4.0s\n",
      "[CV] colsample_bytree=0.9, gamma=1, learning_rate=0.08844245976539601, max_depth=11, n_estimators=300, reg_alpha=0.5, subsample=0.9 \n",
      "[CV]  colsample_bytree=0.9, gamma=1, learning_rate=0.08844245976539601, max_depth=11, n_estimators=300, reg_alpha=0.5, subsample=0.9, score=-442224661.734, total=   3.9s\n",
      "[CV] colsample_bytree=0.9, gamma=1, learning_rate=0.08844245976539601, max_depth=11, n_estimators=300, reg_alpha=0.5, subsample=0.9 \n",
      "[CV]  colsample_bytree=0.9, gamma=1, learning_rate=0.08844245976539601, max_depth=11, n_estimators=300, reg_alpha=0.5, subsample=0.9, score=-521501403.050, total=   3.9s\n",
      "[CV] colsample_bytree=0.9, gamma=1, learning_rate=0.08844245976539601, max_depth=11, n_estimators=300, reg_alpha=0.5, subsample=0.9 \n",
      "[CV]  colsample_bytree=0.9, gamma=1, learning_rate=0.08844245976539601, max_depth=11, n_estimators=300, reg_alpha=0.5, subsample=0.9, score=-771041042.769, total=   4.0s\n",
      "[CV] colsample_bytree=0.9, gamma=1, learning_rate=0.08844245976539601, max_depth=11, n_estimators=300, reg_alpha=0.5, subsample=0.9 \n",
      "[CV]  colsample_bytree=0.9, gamma=1, learning_rate=0.08844245976539601, max_depth=11, n_estimators=300, reg_alpha=0.5, subsample=0.9, score=-1209639318.155, total=   3.9s\n",
      "[CV] colsample_bytree=0.9, gamma=1, learning_rate=0.08844245976539601, max_depth=11, n_estimators=300, reg_alpha=0.5, subsample=0.9 \n",
      "[CV]  colsample_bytree=0.9, gamma=1, learning_rate=0.08844245976539601, max_depth=11, n_estimators=300, reg_alpha=0.5, subsample=0.9, score=-518705590.744, total=   3.9s\n",
      "[CV] colsample_bytree=0.9, gamma=1, learning_rate=0.08844245976539601, max_depth=11, n_estimators=300, reg_alpha=0.5, subsample=0.9 \n",
      "[CV]  colsample_bytree=0.9, gamma=1, learning_rate=0.08844245976539601, max_depth=11, n_estimators=300, reg_alpha=0.5, subsample=0.9, score=-683422349.271, total=   3.9s\n",
      "[CV] colsample_bytree=0.8, gamma=0, learning_rate=0.038575400414831575, max_depth=11, n_estimators=200, reg_alpha=1, subsample=0.7 \n",
      "[CV]  colsample_bytree=0.8, gamma=0, learning_rate=0.038575400414831575, max_depth=11, n_estimators=200, reg_alpha=1, subsample=0.7, score=-1158073709.760, total=   2.2s\n",
      "[CV] colsample_bytree=0.8, gamma=0, learning_rate=0.038575400414831575, max_depth=11, n_estimators=200, reg_alpha=1, subsample=0.7 \n",
      "[CV]  colsample_bytree=0.8, gamma=0, learning_rate=0.038575400414831575, max_depth=11, n_estimators=200, reg_alpha=1, subsample=0.7, score=-1542498384.603, total=   2.2s\n",
      "[CV] colsample_bytree=0.8, gamma=0, learning_rate=0.038575400414831575, max_depth=11, n_estimators=200, reg_alpha=1, subsample=0.7 \n",
      "[CV]  colsample_bytree=0.8, gamma=0, learning_rate=0.038575400414831575, max_depth=11, n_estimators=200, reg_alpha=1, subsample=0.7, score=-861948834.931, total=   2.2s\n",
      "[CV] colsample_bytree=0.8, gamma=0, learning_rate=0.038575400414831575, max_depth=11, n_estimators=200, reg_alpha=1, subsample=0.7 \n",
      "[CV]  colsample_bytree=0.8, gamma=0, learning_rate=0.038575400414831575, max_depth=11, n_estimators=200, reg_alpha=1, subsample=0.7, score=-523814935.049, total=   2.3s\n",
      "[CV] colsample_bytree=0.8, gamma=0, learning_rate=0.038575400414831575, max_depth=11, n_estimators=200, reg_alpha=1, subsample=0.7 \n",
      "[CV]  colsample_bytree=0.8, gamma=0, learning_rate=0.038575400414831575, max_depth=11, n_estimators=200, reg_alpha=1, subsample=0.7, score=-436225351.802, total=   2.2s\n",
      "[CV] colsample_bytree=0.8, gamma=0, learning_rate=0.038575400414831575, max_depth=11, n_estimators=200, reg_alpha=1, subsample=0.7 \n",
      "[CV]  colsample_bytree=0.8, gamma=0, learning_rate=0.038575400414831575, max_depth=11, n_estimators=200, reg_alpha=1, subsample=0.7, score=-500845058.994, total=   2.3s\n",
      "[CV] colsample_bytree=0.8, gamma=0, learning_rate=0.038575400414831575, max_depth=11, n_estimators=200, reg_alpha=1, subsample=0.7 \n",
      "[CV]  colsample_bytree=0.8, gamma=0, learning_rate=0.038575400414831575, max_depth=11, n_estimators=200, reg_alpha=1, subsample=0.7, score=-839546134.705, total=   2.2s\n",
      "[CV] colsample_bytree=0.8, gamma=0, learning_rate=0.038575400414831575, max_depth=11, n_estimators=200, reg_alpha=1, subsample=0.7 \n",
      "[CV]  colsample_bytree=0.8, gamma=0, learning_rate=0.038575400414831575, max_depth=11, n_estimators=200, reg_alpha=1, subsample=0.7, score=-1178848144.840, total=   2.3s\n",
      "[CV] colsample_bytree=0.8, gamma=0, learning_rate=0.038575400414831575, max_depth=11, n_estimators=200, reg_alpha=1, subsample=0.7 \n",
      "[CV]  colsample_bytree=0.8, gamma=0, learning_rate=0.038575400414831575, max_depth=11, n_estimators=200, reg_alpha=1, subsample=0.7, score=-515769555.984, total=   2.2s\n",
      "[CV] colsample_bytree=0.8, gamma=0, learning_rate=0.038575400414831575, max_depth=11, n_estimators=200, reg_alpha=1, subsample=0.7 \n",
      "[CV]  colsample_bytree=0.8, gamma=0, learning_rate=0.038575400414831575, max_depth=11, n_estimators=200, reg_alpha=1, subsample=0.7, score=-625620401.944, total=   2.3s\n",
      "[CV] colsample_bytree=0.9, gamma=0.5, learning_rate=0.015399780839825041, max_depth=3, n_estimators=50, reg_alpha=1, subsample=0.9 \n",
      "[CV]  colsample_bytree=0.9, gamma=0.5, learning_rate=0.015399780839825041, max_depth=3, n_estimators=50, reg_alpha=1, subsample=0.9, score=-13392730397.976, total=   0.2s\n",
      "[CV] colsample_bytree=0.9, gamma=0.5, learning_rate=0.015399780839825041, max_depth=3, n_estimators=50, reg_alpha=1, subsample=0.9 \n",
      "[CV]  colsample_bytree=0.9, gamma=0.5, learning_rate=0.015399780839825041, max_depth=3, n_estimators=50, reg_alpha=1, subsample=0.9, score=-11604828870.199, total=   0.2s\n",
      "[CV] colsample_bytree=0.9, gamma=0.5, learning_rate=0.015399780839825041, max_depth=3, n_estimators=50, reg_alpha=1, subsample=0.9 \n",
      "[CV]  colsample_bytree=0.9, gamma=0.5, learning_rate=0.015399780839825041, max_depth=3, n_estimators=50, reg_alpha=1, subsample=0.9, score=-7078216810.059, total=   0.2s\n",
      "[CV] colsample_bytree=0.9, gamma=0.5, learning_rate=0.015399780839825041, max_depth=3, n_estimators=50, reg_alpha=1, subsample=0.9 \n",
      "[CV]  colsample_bytree=0.9, gamma=0.5, learning_rate=0.015399780839825041, max_depth=3, n_estimators=50, reg_alpha=1, subsample=0.9, score=-9359402307.923, total=   0.2s\n",
      "[CV] colsample_bytree=0.9, gamma=0.5, learning_rate=0.015399780839825041, max_depth=3, n_estimators=50, reg_alpha=1, subsample=0.9 \n",
      "[CV]  colsample_bytree=0.9, gamma=0.5, learning_rate=0.015399780839825041, max_depth=3, n_estimators=50, reg_alpha=1, subsample=0.9, score=-8870002921.675, total=   0.2s\n",
      "[CV] colsample_bytree=0.9, gamma=0.5, learning_rate=0.015399780839825041, max_depth=3, n_estimators=50, reg_alpha=1, subsample=0.9 \n",
      "[CV]  colsample_bytree=0.9, gamma=0.5, learning_rate=0.015399780839825041, max_depth=3, n_estimators=50, reg_alpha=1, subsample=0.9, score=-9761405812.544, total=   0.2s\n",
      "[CV] colsample_bytree=0.9, gamma=0.5, learning_rate=0.015399780839825041, max_depth=3, n_estimators=50, reg_alpha=1, subsample=0.9 \n",
      "[CV]  colsample_bytree=0.9, gamma=0.5, learning_rate=0.015399780839825041, max_depth=3, n_estimators=50, reg_alpha=1, subsample=0.9, score=-10062465528.101, total=   0.2s\n",
      "[CV] colsample_bytree=0.9, gamma=0.5, learning_rate=0.015399780839825041, max_depth=3, n_estimators=50, reg_alpha=1, subsample=0.9 \n"
     ]
    },
    {
     "name": "stdout",
     "output_type": "stream",
     "text": [
      "[CV]  colsample_bytree=0.9, gamma=0.5, learning_rate=0.015399780839825041, max_depth=3, n_estimators=50, reg_alpha=1, subsample=0.9, score=-12333006903.343, total=   0.2s\n",
      "[CV] colsample_bytree=0.9, gamma=0.5, learning_rate=0.015399780839825041, max_depth=3, n_estimators=50, reg_alpha=1, subsample=0.9 \n",
      "[CV]  colsample_bytree=0.9, gamma=0.5, learning_rate=0.015399780839825041, max_depth=3, n_estimators=50, reg_alpha=1, subsample=0.9, score=-10956135789.730, total=   0.2s\n",
      "[CV] colsample_bytree=0.9, gamma=0.5, learning_rate=0.015399780839825041, max_depth=3, n_estimators=50, reg_alpha=1, subsample=0.9 \n",
      "[CV]  colsample_bytree=0.9, gamma=0.5, learning_rate=0.015399780839825041, max_depth=3, n_estimators=50, reg_alpha=1, subsample=0.9, score=-10066468776.767, total=   0.2s\n",
      "[CV] colsample_bytree=0.7, gamma=1, learning_rate=0.041454871916460106, max_depth=5, n_estimators=100, reg_alpha=1, subsample=0.8 \n",
      "[CV]  colsample_bytree=0.7, gamma=1, learning_rate=0.041454871916460106, max_depth=5, n_estimators=100, reg_alpha=1, subsample=0.8, score=-1231695212.872, total=   0.5s\n",
      "[CV] colsample_bytree=0.7, gamma=1, learning_rate=0.041454871916460106, max_depth=5, n_estimators=100, reg_alpha=1, subsample=0.8 \n",
      "[CV]  colsample_bytree=0.7, gamma=1, learning_rate=0.041454871916460106, max_depth=5, n_estimators=100, reg_alpha=1, subsample=0.8, score=-1627331184.116, total=   0.5s\n",
      "[CV] colsample_bytree=0.7, gamma=1, learning_rate=0.041454871916460106, max_depth=5, n_estimators=100, reg_alpha=1, subsample=0.8 \n",
      "[CV]  colsample_bytree=0.7, gamma=1, learning_rate=0.041454871916460106, max_depth=5, n_estimators=100, reg_alpha=1, subsample=0.8, score=-662693394.939, total=   0.5s\n",
      "[CV] colsample_bytree=0.7, gamma=1, learning_rate=0.041454871916460106, max_depth=5, n_estimators=100, reg_alpha=1, subsample=0.8 \n",
      "[CV]  colsample_bytree=0.7, gamma=1, learning_rate=0.041454871916460106, max_depth=5, n_estimators=100, reg_alpha=1, subsample=0.8, score=-518136332.257, total=   0.5s\n",
      "[CV] colsample_bytree=0.7, gamma=1, learning_rate=0.041454871916460106, max_depth=5, n_estimators=100, reg_alpha=1, subsample=0.8 \n",
      "[CV]  colsample_bytree=0.7, gamma=1, learning_rate=0.041454871916460106, max_depth=5, n_estimators=100, reg_alpha=1, subsample=0.8, score=-434573854.382, total=   0.5s\n",
      "[CV] colsample_bytree=0.7, gamma=1, learning_rate=0.041454871916460106, max_depth=5, n_estimators=100, reg_alpha=1, subsample=0.8 \n",
      "[CV]  colsample_bytree=0.7, gamma=1, learning_rate=0.041454871916460106, max_depth=5, n_estimators=100, reg_alpha=1, subsample=0.8, score=-486909703.171, total=   0.5s\n",
      "[CV] colsample_bytree=0.7, gamma=1, learning_rate=0.041454871916460106, max_depth=5, n_estimators=100, reg_alpha=1, subsample=0.8 \n",
      "[CV]  colsample_bytree=0.7, gamma=1, learning_rate=0.041454871916460106, max_depth=5, n_estimators=100, reg_alpha=1, subsample=0.8, score=-784302787.468, total=   0.5s\n",
      "[CV] colsample_bytree=0.7, gamma=1, learning_rate=0.041454871916460106, max_depth=5, n_estimators=100, reg_alpha=1, subsample=0.8 \n",
      "[CV]  colsample_bytree=0.7, gamma=1, learning_rate=0.041454871916460106, max_depth=5, n_estimators=100, reg_alpha=1, subsample=0.8, score=-1219764555.525, total=   0.5s\n",
      "[CV] colsample_bytree=0.7, gamma=1, learning_rate=0.041454871916460106, max_depth=5, n_estimators=100, reg_alpha=1, subsample=0.8 \n",
      "[CV]  colsample_bytree=0.7, gamma=1, learning_rate=0.041454871916460106, max_depth=5, n_estimators=100, reg_alpha=1, subsample=0.8, score=-476107434.391, total=   0.5s\n",
      "[CV] colsample_bytree=0.7, gamma=1, learning_rate=0.041454871916460106, max_depth=5, n_estimators=100, reg_alpha=1, subsample=0.8 \n",
      "[CV]  colsample_bytree=0.7, gamma=1, learning_rate=0.041454871916460106, max_depth=5, n_estimators=100, reg_alpha=1, subsample=0.8, score=-728900595.547, total=   0.5s\n",
      "[CV] colsample_bytree=0.7, gamma=1, learning_rate=0.040467748474130774, max_depth=5, n_estimators=300, reg_alpha=0, subsample=0.7 \n",
      "[CV]  colsample_bytree=0.7, gamma=1, learning_rate=0.040467748474130774, max_depth=5, n_estimators=300, reg_alpha=0, subsample=0.7, score=-1100426706.413, total=   1.6s\n",
      "[CV] colsample_bytree=0.7, gamma=1, learning_rate=0.040467748474130774, max_depth=5, n_estimators=300, reg_alpha=0, subsample=0.7 \n",
      "[CV]  colsample_bytree=0.7, gamma=1, learning_rate=0.040467748474130774, max_depth=5, n_estimators=300, reg_alpha=0, subsample=0.7, score=-1468911127.381, total=   1.7s\n",
      "[CV] colsample_bytree=0.7, gamma=1, learning_rate=0.040467748474130774, max_depth=5, n_estimators=300, reg_alpha=0, subsample=0.7 \n",
      "[CV]  colsample_bytree=0.7, gamma=1, learning_rate=0.040467748474130774, max_depth=5, n_estimators=300, reg_alpha=0, subsample=0.7, score=-854170570.300, total=   1.6s\n",
      "[CV] colsample_bytree=0.7, gamma=1, learning_rate=0.040467748474130774, max_depth=5, n_estimators=300, reg_alpha=0, subsample=0.7 \n",
      "[CV]  colsample_bytree=0.7, gamma=1, learning_rate=0.040467748474130774, max_depth=5, n_estimators=300, reg_alpha=0, subsample=0.7, score=-494607988.520, total=   1.6s\n",
      "[CV] colsample_bytree=0.7, gamma=1, learning_rate=0.040467748474130774, max_depth=5, n_estimators=300, reg_alpha=0, subsample=0.7 \n",
      "[CV]  colsample_bytree=0.7, gamma=1, learning_rate=0.040467748474130774, max_depth=5, n_estimators=300, reg_alpha=0, subsample=0.7, score=-415966969.617, total=   1.5s\n",
      "[CV] colsample_bytree=0.7, gamma=1, learning_rate=0.040467748474130774, max_depth=5, n_estimators=300, reg_alpha=0, subsample=0.7 \n",
      "[CV]  colsample_bytree=0.7, gamma=1, learning_rate=0.040467748474130774, max_depth=5, n_estimators=300, reg_alpha=0, subsample=0.7, score=-472635333.537, total=   1.5s\n",
      "[CV] colsample_bytree=0.7, gamma=1, learning_rate=0.040467748474130774, max_depth=5, n_estimators=300, reg_alpha=0, subsample=0.7 \n",
      "[CV]  colsample_bytree=0.7, gamma=1, learning_rate=0.040467748474130774, max_depth=5, n_estimators=300, reg_alpha=0, subsample=0.7, score=-705355585.653, total=   1.4s\n",
      "[CV] colsample_bytree=0.7, gamma=1, learning_rate=0.040467748474130774, max_depth=5, n_estimators=300, reg_alpha=0, subsample=0.7 \n",
      "[CV]  colsample_bytree=0.7, gamma=1, learning_rate=0.040467748474130774, max_depth=5, n_estimators=300, reg_alpha=0, subsample=0.7, score=-1038527654.858, total=   1.4s\n",
      "[CV] colsample_bytree=0.7, gamma=1, learning_rate=0.040467748474130774, max_depth=5, n_estimators=300, reg_alpha=0, subsample=0.7 \n",
      "[CV]  colsample_bytree=0.7, gamma=1, learning_rate=0.040467748474130774, max_depth=5, n_estimators=300, reg_alpha=0, subsample=0.7, score=-469854605.353, total=   1.4s\n",
      "[CV] colsample_bytree=0.7, gamma=1, learning_rate=0.040467748474130774, max_depth=5, n_estimators=300, reg_alpha=0, subsample=0.7 \n",
      "[CV]  colsample_bytree=0.7, gamma=1, learning_rate=0.040467748474130774, max_depth=5, n_estimators=300, reg_alpha=0, subsample=0.7, score=-557976702.448, total=   1.4s\n",
      "[CV] colsample_bytree=0.8, gamma=1, learning_rate=0.07693183215675899, max_depth=3, n_estimators=50, reg_alpha=0.5, subsample=0.7 \n",
      "[CV]  colsample_bytree=0.8, gamma=1, learning_rate=0.07693183215675899, max_depth=3, n_estimators=50, reg_alpha=0.5, subsample=0.7, score=-1366182396.767, total=   0.2s\n",
      "[CV] colsample_bytree=0.8, gamma=1, learning_rate=0.07693183215675899, max_depth=3, n_estimators=50, reg_alpha=0.5, subsample=0.7 \n",
      "[CV]  colsample_bytree=0.8, gamma=1, learning_rate=0.07693183215675899, max_depth=3, n_estimators=50, reg_alpha=0.5, subsample=0.7, score=-1922708451.876, total=   0.2s\n",
      "[CV] colsample_bytree=0.8, gamma=1, learning_rate=0.07693183215675899, max_depth=3, n_estimators=50, reg_alpha=0.5, subsample=0.7 \n",
      "[CV]  colsample_bytree=0.8, gamma=1, learning_rate=0.07693183215675899, max_depth=3, n_estimators=50, reg_alpha=0.5, subsample=0.7, score=-853419567.774, total=   0.2s\n",
      "[CV] colsample_bytree=0.8, gamma=1, learning_rate=0.07693183215675899, max_depth=3, n_estimators=50, reg_alpha=0.5, subsample=0.7 \n",
      "[CV]  colsample_bytree=0.8, gamma=1, learning_rate=0.07693183215675899, max_depth=3, n_estimators=50, reg_alpha=0.5, subsample=0.7, score=-651362372.810, total=   0.2s\n",
      "[CV] colsample_bytree=0.8, gamma=1, learning_rate=0.07693183215675899, max_depth=3, n_estimators=50, reg_alpha=0.5, subsample=0.7 \n",
      "[CV]  colsample_bytree=0.8, gamma=1, learning_rate=0.07693183215675899, max_depth=3, n_estimators=50, reg_alpha=0.5, subsample=0.7, score=-474602129.833, total=   0.2s\n",
      "[CV] colsample_bytree=0.8, gamma=1, learning_rate=0.07693183215675899, max_depth=3, n_estimators=50, reg_alpha=0.5, subsample=0.7 \n"
     ]
    },
    {
     "name": "stdout",
     "output_type": "stream",
     "text": [
      "[CV]  colsample_bytree=0.8, gamma=1, learning_rate=0.07693183215675899, max_depth=3, n_estimators=50, reg_alpha=0.5, subsample=0.7, score=-574962937.019, total=   0.2s\n",
      "[CV] colsample_bytree=0.8, gamma=1, learning_rate=0.07693183215675899, max_depth=3, n_estimators=50, reg_alpha=0.5, subsample=0.7 \n",
      "[CV]  colsample_bytree=0.8, gamma=1, learning_rate=0.07693183215675899, max_depth=3, n_estimators=50, reg_alpha=0.5, subsample=0.7, score=-779148588.162, total=   0.2s\n",
      "[CV] colsample_bytree=0.8, gamma=1, learning_rate=0.07693183215675899, max_depth=3, n_estimators=50, reg_alpha=0.5, subsample=0.7 \n",
      "[CV]  colsample_bytree=0.8, gamma=1, learning_rate=0.07693183215675899, max_depth=3, n_estimators=50, reg_alpha=0.5, subsample=0.7, score=-1292642460.176, total=   0.2s\n",
      "[CV] colsample_bytree=0.8, gamma=1, learning_rate=0.07693183215675899, max_depth=3, n_estimators=50, reg_alpha=0.5, subsample=0.7 \n",
      "[CV]  colsample_bytree=0.8, gamma=1, learning_rate=0.07693183215675899, max_depth=3, n_estimators=50, reg_alpha=0.5, subsample=0.7, score=-561247389.714, total=   0.2s\n",
      "[CV] colsample_bytree=0.8, gamma=1, learning_rate=0.07693183215675899, max_depth=3, n_estimators=50, reg_alpha=0.5, subsample=0.7 \n",
      "[CV]  colsample_bytree=0.8, gamma=1, learning_rate=0.07693183215675899, max_depth=3, n_estimators=50, reg_alpha=0.5, subsample=0.7, score=-757281524.992, total=   0.2s\n",
      "[CV] colsample_bytree=0.9, gamma=0.5, learning_rate=0.014493553174442567, max_depth=11, n_estimators=50, reg_alpha=0.5, subsample=0.7 \n",
      "[CV]  colsample_bytree=0.9, gamma=0.5, learning_rate=0.014493553174442567, max_depth=11, n_estimators=50, reg_alpha=0.5, subsample=0.7, score=-14303749441.754, total=   0.4s\n",
      "[CV] colsample_bytree=0.9, gamma=0.5, learning_rate=0.014493553174442567, max_depth=11, n_estimators=50, reg_alpha=0.5, subsample=0.7 \n",
      "[CV]  colsample_bytree=0.9, gamma=0.5, learning_rate=0.014493553174442567, max_depth=11, n_estimators=50, reg_alpha=0.5, subsample=0.7, score=-12815474434.366, total=   0.4s\n",
      "[CV] colsample_bytree=0.9, gamma=0.5, learning_rate=0.014493553174442567, max_depth=11, n_estimators=50, reg_alpha=0.5, subsample=0.7 \n",
      "[CV]  colsample_bytree=0.9, gamma=0.5, learning_rate=0.014493553174442567, max_depth=11, n_estimators=50, reg_alpha=0.5, subsample=0.7, score=-7666230790.990, total=   0.4s\n",
      "[CV] colsample_bytree=0.9, gamma=0.5, learning_rate=0.014493553174442567, max_depth=11, n_estimators=50, reg_alpha=0.5, subsample=0.7 \n",
      "[CV]  colsample_bytree=0.9, gamma=0.5, learning_rate=0.014493553174442567, max_depth=11, n_estimators=50, reg_alpha=0.5, subsample=0.7, score=-10196400310.695, total=   0.4s\n",
      "[CV] colsample_bytree=0.9, gamma=0.5, learning_rate=0.014493553174442567, max_depth=11, n_estimators=50, reg_alpha=0.5, subsample=0.7 \n",
      "[CV]  colsample_bytree=0.9, gamma=0.5, learning_rate=0.014493553174442567, max_depth=11, n_estimators=50, reg_alpha=0.5, subsample=0.7, score=-9528968624.721, total=   0.4s\n",
      "[CV] colsample_bytree=0.9, gamma=0.5, learning_rate=0.014493553174442567, max_depth=11, n_estimators=50, reg_alpha=0.5, subsample=0.7 \n",
      "[CV]  colsample_bytree=0.9, gamma=0.5, learning_rate=0.014493553174442567, max_depth=11, n_estimators=50, reg_alpha=0.5, subsample=0.7, score=-10659499338.470, total=   0.4s\n",
      "[CV] colsample_bytree=0.9, gamma=0.5, learning_rate=0.014493553174442567, max_depth=11, n_estimators=50, reg_alpha=0.5, subsample=0.7 \n",
      "[CV]  colsample_bytree=0.9, gamma=0.5, learning_rate=0.014493553174442567, max_depth=11, n_estimators=50, reg_alpha=0.5, subsample=0.7, score=-10686567538.529, total=   0.4s\n",
      "[CV] colsample_bytree=0.9, gamma=0.5, learning_rate=0.014493553174442567, max_depth=11, n_estimators=50, reg_alpha=0.5, subsample=0.7 \n",
      "[CV]  colsample_bytree=0.9, gamma=0.5, learning_rate=0.014493553174442567, max_depth=11, n_estimators=50, reg_alpha=0.5, subsample=0.7, score=-13218594781.870, total=   0.4s\n",
      "[CV] colsample_bytree=0.9, gamma=0.5, learning_rate=0.014493553174442567, max_depth=11, n_estimators=50, reg_alpha=0.5, subsample=0.7 \n",
      "[CV]  colsample_bytree=0.9, gamma=0.5, learning_rate=0.014493553174442567, max_depth=11, n_estimators=50, reg_alpha=0.5, subsample=0.7, score=-11626739655.145, total=   0.4s\n",
      "[CV] colsample_bytree=0.9, gamma=0.5, learning_rate=0.014493553174442567, max_depth=11, n_estimators=50, reg_alpha=0.5, subsample=0.7 \n",
      "[CV]  colsample_bytree=0.9, gamma=0.5, learning_rate=0.014493553174442567, max_depth=11, n_estimators=50, reg_alpha=0.5, subsample=0.7, score=-10946093091.669, total=   0.4s\n",
      "[CV] colsample_bytree=0.9, gamma=0.5, learning_rate=0.10895485461618785, max_depth=11, n_estimators=200, reg_alpha=0.5, subsample=0.7 \n",
      "[CV]  colsample_bytree=0.9, gamma=0.5, learning_rate=0.10895485461618785, max_depth=11, n_estimators=200, reg_alpha=0.5, subsample=0.7, score=-1018354174.820, total=   2.6s\n",
      "[CV] colsample_bytree=0.9, gamma=0.5, learning_rate=0.10895485461618785, max_depth=11, n_estimators=200, reg_alpha=0.5, subsample=0.7 \n",
      "[CV]  colsample_bytree=0.9, gamma=0.5, learning_rate=0.10895485461618785, max_depth=11, n_estimators=200, reg_alpha=0.5, subsample=0.7, score=-1607374461.248, total=   2.6s\n",
      "[CV] colsample_bytree=0.9, gamma=0.5, learning_rate=0.10895485461618785, max_depth=11, n_estimators=200, reg_alpha=0.5, subsample=0.7 \n",
      "[CV]  colsample_bytree=0.9, gamma=0.5, learning_rate=0.10895485461618785, max_depth=11, n_estimators=200, reg_alpha=0.5, subsample=0.7, score=-660355744.997, total=   2.6s\n",
      "[CV] colsample_bytree=0.9, gamma=0.5, learning_rate=0.10895485461618785, max_depth=11, n_estimators=200, reg_alpha=0.5, subsample=0.7 \n",
      "[CV]  colsample_bytree=0.9, gamma=0.5, learning_rate=0.10895485461618785, max_depth=11, n_estimators=200, reg_alpha=0.5, subsample=0.7, score=-520010632.020, total=   2.6s\n",
      "[CV] colsample_bytree=0.9, gamma=0.5, learning_rate=0.10895485461618785, max_depth=11, n_estimators=200, reg_alpha=0.5, subsample=0.7 \n",
      "[CV]  colsample_bytree=0.9, gamma=0.5, learning_rate=0.10895485461618785, max_depth=11, n_estimators=200, reg_alpha=0.5, subsample=0.7, score=-452603807.613, total=   2.6s\n",
      "[CV] colsample_bytree=0.9, gamma=0.5, learning_rate=0.10895485461618785, max_depth=11, n_estimators=200, reg_alpha=0.5, subsample=0.7 \n",
      "[CV]  colsample_bytree=0.9, gamma=0.5, learning_rate=0.10895485461618785, max_depth=11, n_estimators=200, reg_alpha=0.5, subsample=0.7, score=-531197643.460, total=   2.7s\n",
      "[CV] colsample_bytree=0.9, gamma=0.5, learning_rate=0.10895485461618785, max_depth=11, n_estimators=200, reg_alpha=0.5, subsample=0.7 \n",
      "[CV]  colsample_bytree=0.9, gamma=0.5, learning_rate=0.10895485461618785, max_depth=11, n_estimators=200, reg_alpha=0.5, subsample=0.7, score=-668187181.216, total=   2.5s\n",
      "[CV] colsample_bytree=0.9, gamma=0.5, learning_rate=0.10895485461618785, max_depth=11, n_estimators=200, reg_alpha=0.5, subsample=0.7 \n",
      "[CV]  colsample_bytree=0.9, gamma=0.5, learning_rate=0.10895485461618785, max_depth=11, n_estimators=200, reg_alpha=0.5, subsample=0.7, score=-1201735992.966, total=   2.6s\n",
      "[CV] colsample_bytree=0.9, gamma=0.5, learning_rate=0.10895485461618785, max_depth=11, n_estimators=200, reg_alpha=0.5, subsample=0.7 \n",
      "[CV]  colsample_bytree=0.9, gamma=0.5, learning_rate=0.10895485461618785, max_depth=11, n_estimators=200, reg_alpha=0.5, subsample=0.7, score=-571164582.099, total=   2.6s\n",
      "[CV] colsample_bytree=0.9, gamma=0.5, learning_rate=0.10895485461618785, max_depth=11, n_estimators=200, reg_alpha=0.5, subsample=0.7 \n",
      "[CV]  colsample_bytree=0.9, gamma=0.5, learning_rate=0.10895485461618785, max_depth=11, n_estimators=200, reg_alpha=0.5, subsample=0.7, score=-544769193.588, total=   2.6s\n",
      "[CV] colsample_bytree=0.7, gamma=1, learning_rate=0.07755214854897095, max_depth=5, n_estimators=50, reg_alpha=0, subsample=0.8 \n",
      "[CV]  colsample_bytree=0.7, gamma=1, learning_rate=0.07755214854897095, max_depth=5, n_estimators=50, reg_alpha=0, subsample=0.8, score=-1196781470.132, total=   0.2s\n",
      "[CV] colsample_bytree=0.7, gamma=1, learning_rate=0.07755214854897095, max_depth=5, n_estimators=50, reg_alpha=0, subsample=0.8 \n",
      "[CV]  colsample_bytree=0.7, gamma=1, learning_rate=0.07755214854897095, max_depth=5, n_estimators=50, reg_alpha=0, subsample=0.8, score=-1577353530.543, total=   0.2s\n",
      "[CV] colsample_bytree=0.7, gamma=1, learning_rate=0.07755214854897095, max_depth=5, n_estimators=50, reg_alpha=0, subsample=0.8 \n"
     ]
    },
    {
     "name": "stdout",
     "output_type": "stream",
     "text": [
      "[CV]  colsample_bytree=0.7, gamma=1, learning_rate=0.07755214854897095, max_depth=5, n_estimators=50, reg_alpha=0, subsample=0.8, score=-766998678.371, total=   0.2s\n",
      "[CV] colsample_bytree=0.7, gamma=1, learning_rate=0.07755214854897095, max_depth=5, n_estimators=50, reg_alpha=0, subsample=0.8 \n",
      "[CV]  colsample_bytree=0.7, gamma=1, learning_rate=0.07755214854897095, max_depth=5, n_estimators=50, reg_alpha=0, subsample=0.8, score=-577281892.450, total=   0.2s\n",
      "[CV] colsample_bytree=0.7, gamma=1, learning_rate=0.07755214854897095, max_depth=5, n_estimators=50, reg_alpha=0, subsample=0.8 \n",
      "[CV]  colsample_bytree=0.7, gamma=1, learning_rate=0.07755214854897095, max_depth=5, n_estimators=50, reg_alpha=0, subsample=0.8, score=-453402188.769, total=   0.3s\n",
      "[CV] colsample_bytree=0.7, gamma=1, learning_rate=0.07755214854897095, max_depth=5, n_estimators=50, reg_alpha=0, subsample=0.8 \n",
      "[CV]  colsample_bytree=0.7, gamma=1, learning_rate=0.07755214854897095, max_depth=5, n_estimators=50, reg_alpha=0, subsample=0.8, score=-522675714.761, total=   0.2s\n",
      "[CV] colsample_bytree=0.7, gamma=1, learning_rate=0.07755214854897095, max_depth=5, n_estimators=50, reg_alpha=0, subsample=0.8 \n",
      "[CV]  colsample_bytree=0.7, gamma=1, learning_rate=0.07755214854897095, max_depth=5, n_estimators=50, reg_alpha=0, subsample=0.8, score=-719329926.349, total=   0.2s\n",
      "[CV] colsample_bytree=0.7, gamma=1, learning_rate=0.07755214854897095, max_depth=5, n_estimators=50, reg_alpha=0, subsample=0.8 \n",
      "[CV]  colsample_bytree=0.7, gamma=1, learning_rate=0.07755214854897095, max_depth=5, n_estimators=50, reg_alpha=0, subsample=0.8, score=-1249014292.692, total=   0.2s\n",
      "[CV] colsample_bytree=0.7, gamma=1, learning_rate=0.07755214854897095, max_depth=5, n_estimators=50, reg_alpha=0, subsample=0.8 \n",
      "[CV]  colsample_bytree=0.7, gamma=1, learning_rate=0.07755214854897095, max_depth=5, n_estimators=50, reg_alpha=0, subsample=0.8, score=-517724042.866, total=   0.2s\n",
      "[CV] colsample_bytree=0.7, gamma=1, learning_rate=0.07755214854897095, max_depth=5, n_estimators=50, reg_alpha=0, subsample=0.8 \n",
      "[CV]  colsample_bytree=0.7, gamma=1, learning_rate=0.07755214854897095, max_depth=5, n_estimators=50, reg_alpha=0, subsample=0.8, score=-730053629.599, total=   0.2s\n",
      "[CV] colsample_bytree=0.9, gamma=0.5, learning_rate=0.07016989248430042, max_depth=5, n_estimators=300, reg_alpha=0.5, subsample=0.8 \n",
      "[CV]  colsample_bytree=0.9, gamma=0.5, learning_rate=0.07016989248430042, max_depth=5, n_estimators=300, reg_alpha=0.5, subsample=0.8, score=-1094846382.582, total=   1.6s\n",
      "[CV] colsample_bytree=0.9, gamma=0.5, learning_rate=0.07016989248430042, max_depth=5, n_estimators=300, reg_alpha=0.5, subsample=0.8 \n",
      "[CV]  colsample_bytree=0.9, gamma=0.5, learning_rate=0.07016989248430042, max_depth=5, n_estimators=300, reg_alpha=0.5, subsample=0.8, score=-1360143722.254, total=   1.7s\n",
      "[CV] colsample_bytree=0.9, gamma=0.5, learning_rate=0.07016989248430042, max_depth=5, n_estimators=300, reg_alpha=0.5, subsample=0.8 \n",
      "[CV]  colsample_bytree=0.9, gamma=0.5, learning_rate=0.07016989248430042, max_depth=5, n_estimators=300, reg_alpha=0.5, subsample=0.8, score=-689248102.753, total=   1.7s\n",
      "[CV] colsample_bytree=0.9, gamma=0.5, learning_rate=0.07016989248430042, max_depth=5, n_estimators=300, reg_alpha=0.5, subsample=0.8 \n",
      "[CV]  colsample_bytree=0.9, gamma=0.5, learning_rate=0.07016989248430042, max_depth=5, n_estimators=300, reg_alpha=0.5, subsample=0.8, score=-511721524.904, total=   1.6s\n",
      "[CV] colsample_bytree=0.9, gamma=0.5, learning_rate=0.07016989248430042, max_depth=5, n_estimators=300, reg_alpha=0.5, subsample=0.8 \n",
      "[CV]  colsample_bytree=0.9, gamma=0.5, learning_rate=0.07016989248430042, max_depth=5, n_estimators=300, reg_alpha=0.5, subsample=0.8, score=-360116262.417, total=   1.6s\n",
      "[CV] colsample_bytree=0.9, gamma=0.5, learning_rate=0.07016989248430042, max_depth=5, n_estimators=300, reg_alpha=0.5, subsample=0.8 \n",
      "[CV]  colsample_bytree=0.9, gamma=0.5, learning_rate=0.07016989248430042, max_depth=5, n_estimators=300, reg_alpha=0.5, subsample=0.8, score=-524295782.957, total=   1.7s\n",
      "[CV] colsample_bytree=0.9, gamma=0.5, learning_rate=0.07016989248430042, max_depth=5, n_estimators=300, reg_alpha=0.5, subsample=0.8 \n",
      "[CV]  colsample_bytree=0.9, gamma=0.5, learning_rate=0.07016989248430042, max_depth=5, n_estimators=300, reg_alpha=0.5, subsample=0.8, score=-640736294.463, total=   1.7s\n",
      "[CV] colsample_bytree=0.9, gamma=0.5, learning_rate=0.07016989248430042, max_depth=5, n_estimators=300, reg_alpha=0.5, subsample=0.8 \n",
      "[CV]  colsample_bytree=0.9, gamma=0.5, learning_rate=0.07016989248430042, max_depth=5, n_estimators=300, reg_alpha=0.5, subsample=0.8, score=-1057491518.868, total=   1.7s\n",
      "[CV] colsample_bytree=0.9, gamma=0.5, learning_rate=0.07016989248430042, max_depth=5, n_estimators=300, reg_alpha=0.5, subsample=0.8 \n",
      "[CV]  colsample_bytree=0.9, gamma=0.5, learning_rate=0.07016989248430042, max_depth=5, n_estimators=300, reg_alpha=0.5, subsample=0.8, score=-487605063.296, total=   1.6s\n",
      "[CV] colsample_bytree=0.9, gamma=0.5, learning_rate=0.07016989248430042, max_depth=5, n_estimators=300, reg_alpha=0.5, subsample=0.8 \n",
      "[CV]  colsample_bytree=0.9, gamma=0.5, learning_rate=0.07016989248430042, max_depth=5, n_estimators=300, reg_alpha=0.5, subsample=0.8, score=-507842682.138, total=   1.7s\n",
      "[CV] colsample_bytree=0.7, gamma=1, learning_rate=0.10099423322504011, max_depth=3, n_estimators=300, reg_alpha=1, subsample=0.9 \n",
      "[CV]  colsample_bytree=0.7, gamma=1, learning_rate=0.10099423322504011, max_depth=3, n_estimators=300, reg_alpha=1, subsample=0.9, score=-1019344401.840, total=   0.9s\n",
      "[CV] colsample_bytree=0.7, gamma=1, learning_rate=0.10099423322504011, max_depth=3, n_estimators=300, reg_alpha=1, subsample=0.9 \n",
      "[CV]  colsample_bytree=0.7, gamma=1, learning_rate=0.10099423322504011, max_depth=3, n_estimators=300, reg_alpha=1, subsample=0.9, score=-1614209965.284, total=   0.8s\n",
      "[CV] colsample_bytree=0.7, gamma=1, learning_rate=0.10099423322504011, max_depth=3, n_estimators=300, reg_alpha=1, subsample=0.9 \n",
      "[CV]  colsample_bytree=0.7, gamma=1, learning_rate=0.10099423322504011, max_depth=3, n_estimators=300, reg_alpha=1, subsample=0.9, score=-817643367.170, total=   0.9s\n",
      "[CV] colsample_bytree=0.7, gamma=1, learning_rate=0.10099423322504011, max_depth=3, n_estimators=300, reg_alpha=1, subsample=0.9 \n",
      "[CV]  colsample_bytree=0.7, gamma=1, learning_rate=0.10099423322504011, max_depth=3, n_estimators=300, reg_alpha=1, subsample=0.9, score=-525563912.399, total=   0.8s\n",
      "[CV] colsample_bytree=0.7, gamma=1, learning_rate=0.10099423322504011, max_depth=3, n_estimators=300, reg_alpha=1, subsample=0.9 \n",
      "[CV]  colsample_bytree=0.7, gamma=1, learning_rate=0.10099423322504011, max_depth=3, n_estimators=300, reg_alpha=1, subsample=0.9, score=-387428313.854, total=   0.8s\n",
      "[CV] colsample_bytree=0.7, gamma=1, learning_rate=0.10099423322504011, max_depth=3, n_estimators=300, reg_alpha=1, subsample=0.9 \n",
      "[CV]  colsample_bytree=0.7, gamma=1, learning_rate=0.10099423322504011, max_depth=3, n_estimators=300, reg_alpha=1, subsample=0.9, score=-537294615.082, total=   0.8s\n",
      "[CV] colsample_bytree=0.7, gamma=1, learning_rate=0.10099423322504011, max_depth=3, n_estimators=300, reg_alpha=1, subsample=0.9 \n",
      "[CV]  colsample_bytree=0.7, gamma=1, learning_rate=0.10099423322504011, max_depth=3, n_estimators=300, reg_alpha=1, subsample=0.9, score=-674029755.847, total=   0.8s\n",
      "[CV] colsample_bytree=0.7, gamma=1, learning_rate=0.10099423322504011, max_depth=3, n_estimators=300, reg_alpha=1, subsample=0.9 \n",
      "[CV]  colsample_bytree=0.7, gamma=1, learning_rate=0.10099423322504011, max_depth=3, n_estimators=300, reg_alpha=1, subsample=0.9, score=-958273633.152, total=   0.8s\n",
      "[CV] colsample_bytree=0.7, gamma=1, learning_rate=0.10099423322504011, max_depth=3, n_estimators=300, reg_alpha=1, subsample=0.9 \n",
      "[CV]  colsample_bytree=0.7, gamma=1, learning_rate=0.10099423322504011, max_depth=3, n_estimators=300, reg_alpha=1, subsample=0.9, score=-387385784.958, total=   0.8s\n",
      "[CV] colsample_bytree=0.7, gamma=1, learning_rate=0.10099423322504011, max_depth=3, n_estimators=300, reg_alpha=1, subsample=0.9 \n",
      "[CV]  colsample_bytree=0.7, gamma=1, learning_rate=0.10099423322504011, max_depth=3, n_estimators=300, reg_alpha=1, subsample=0.9, score=-503321742.802, total=   1.0s\n",
      "[CV] colsample_bytree=0.7, gamma=0.5, learning_rate=0.049530539258913236, max_depth=3, n_estimators=100, reg_alpha=0.5, subsample=0.8 \n"
     ]
    },
    {
     "name": "stdout",
     "output_type": "stream",
     "text": [
      "[CV]  colsample_bytree=0.7, gamma=0.5, learning_rate=0.049530539258913236, max_depth=3, n_estimators=100, reg_alpha=0.5, subsample=0.8, score=-1293998061.265, total=   0.3s\n",
      "[CV] colsample_bytree=0.7, gamma=0.5, learning_rate=0.049530539258913236, max_depth=3, n_estimators=100, reg_alpha=0.5, subsample=0.8 \n",
      "[CV]  colsample_bytree=0.7, gamma=0.5, learning_rate=0.049530539258913236, max_depth=3, n_estimators=100, reg_alpha=0.5, subsample=0.8, score=-1637500252.911, total=   0.3s\n",
      "[CV] colsample_bytree=0.7, gamma=0.5, learning_rate=0.049530539258913236, max_depth=3, n_estimators=100, reg_alpha=0.5, subsample=0.8 \n",
      "[CV]  colsample_bytree=0.7, gamma=0.5, learning_rate=0.049530539258913236, max_depth=3, n_estimators=100, reg_alpha=0.5, subsample=0.8, score=-936319221.104, total=   0.3s\n",
      "[CV] colsample_bytree=0.7, gamma=0.5, learning_rate=0.049530539258913236, max_depth=3, n_estimators=100, reg_alpha=0.5, subsample=0.8 \n",
      "[CV]  colsample_bytree=0.7, gamma=0.5, learning_rate=0.049530539258913236, max_depth=3, n_estimators=100, reg_alpha=0.5, subsample=0.8, score=-550592733.325, total=   0.3s\n",
      "[CV] colsample_bytree=0.7, gamma=0.5, learning_rate=0.049530539258913236, max_depth=3, n_estimators=100, reg_alpha=0.5, subsample=0.8 \n",
      "[CV]  colsample_bytree=0.7, gamma=0.5, learning_rate=0.049530539258913236, max_depth=3, n_estimators=100, reg_alpha=0.5, subsample=0.8, score=-491347023.885, total=   0.3s\n",
      "[CV] colsample_bytree=0.7, gamma=0.5, learning_rate=0.049530539258913236, max_depth=3, n_estimators=100, reg_alpha=0.5, subsample=0.8 \n",
      "[CV]  colsample_bytree=0.7, gamma=0.5, learning_rate=0.049530539258913236, max_depth=3, n_estimators=100, reg_alpha=0.5, subsample=0.8, score=-513103120.229, total=   0.3s\n",
      "[CV] colsample_bytree=0.7, gamma=0.5, learning_rate=0.049530539258913236, max_depth=3, n_estimators=100, reg_alpha=0.5, subsample=0.8 \n",
      "[CV]  colsample_bytree=0.7, gamma=0.5, learning_rate=0.049530539258913236, max_depth=3, n_estimators=100, reg_alpha=0.5, subsample=0.8, score=-652418392.552, total=   0.3s\n",
      "[CV] colsample_bytree=0.7, gamma=0.5, learning_rate=0.049530539258913236, max_depth=3, n_estimators=100, reg_alpha=0.5, subsample=0.8 \n",
      "[CV]  colsample_bytree=0.7, gamma=0.5, learning_rate=0.049530539258913236, max_depth=3, n_estimators=100, reg_alpha=0.5, subsample=0.8, score=-1136940005.146, total=   0.3s\n",
      "[CV] colsample_bytree=0.7, gamma=0.5, learning_rate=0.049530539258913236, max_depth=3, n_estimators=100, reg_alpha=0.5, subsample=0.8 \n",
      "[CV]  colsample_bytree=0.7, gamma=0.5, learning_rate=0.049530539258913236, max_depth=3, n_estimators=100, reg_alpha=0.5, subsample=0.8, score=-520042291.677, total=   0.4s\n",
      "[CV] colsample_bytree=0.7, gamma=0.5, learning_rate=0.049530539258913236, max_depth=3, n_estimators=100, reg_alpha=0.5, subsample=0.8 \n",
      "[CV]  colsample_bytree=0.7, gamma=0.5, learning_rate=0.049530539258913236, max_depth=3, n_estimators=100, reg_alpha=0.5, subsample=0.8, score=-702629880.674, total=   0.3s\n",
      "[CV] colsample_bytree=0.7, gamma=1, learning_rate=0.09448860220039923, max_depth=11, n_estimators=50, reg_alpha=0, subsample=0.8 \n",
      "[CV]  colsample_bytree=0.7, gamma=1, learning_rate=0.09448860220039923, max_depth=11, n_estimators=50, reg_alpha=0, subsample=0.8, score=-1157671892.621, total=   0.5s\n",
      "[CV] colsample_bytree=0.7, gamma=1, learning_rate=0.09448860220039923, max_depth=11, n_estimators=50, reg_alpha=0, subsample=0.8 \n",
      "[CV]  colsample_bytree=0.7, gamma=1, learning_rate=0.09448860220039923, max_depth=11, n_estimators=50, reg_alpha=0, subsample=0.8, score=-1372068578.397, total=   0.5s\n",
      "[CV] colsample_bytree=0.7, gamma=1, learning_rate=0.09448860220039923, max_depth=11, n_estimators=50, reg_alpha=0, subsample=0.8 \n",
      "[CV]  colsample_bytree=0.7, gamma=1, learning_rate=0.09448860220039923, max_depth=11, n_estimators=50, reg_alpha=0, subsample=0.8, score=-763818422.013, total=   0.5s\n",
      "[CV] colsample_bytree=0.7, gamma=1, learning_rate=0.09448860220039923, max_depth=11, n_estimators=50, reg_alpha=0, subsample=0.8 \n",
      "[CV]  colsample_bytree=0.7, gamma=1, learning_rate=0.09448860220039923, max_depth=11, n_estimators=50, reg_alpha=0, subsample=0.8, score=-552206624.640, total=   0.6s\n",
      "[CV] colsample_bytree=0.7, gamma=1, learning_rate=0.09448860220039923, max_depth=11, n_estimators=50, reg_alpha=0, subsample=0.8 \n",
      "[CV]  colsample_bytree=0.7, gamma=1, learning_rate=0.09448860220039923, max_depth=11, n_estimators=50, reg_alpha=0, subsample=0.8, score=-442004082.909, total=   0.5s\n",
      "[CV] colsample_bytree=0.7, gamma=1, learning_rate=0.09448860220039923, max_depth=11, n_estimators=50, reg_alpha=0, subsample=0.8 \n",
      "[CV]  colsample_bytree=0.7, gamma=1, learning_rate=0.09448860220039923, max_depth=11, n_estimators=50, reg_alpha=0, subsample=0.8, score=-553491550.651, total=   0.5s\n",
      "[CV] colsample_bytree=0.7, gamma=1, learning_rate=0.09448860220039923, max_depth=11, n_estimators=50, reg_alpha=0, subsample=0.8 \n",
      "[CV]  colsample_bytree=0.7, gamma=1, learning_rate=0.09448860220039923, max_depth=11, n_estimators=50, reg_alpha=0, subsample=0.8, score=-750082711.666, total=   0.5s\n",
      "[CV] colsample_bytree=0.7, gamma=1, learning_rate=0.09448860220039923, max_depth=11, n_estimators=50, reg_alpha=0, subsample=0.8 \n",
      "[CV]  colsample_bytree=0.7, gamma=1, learning_rate=0.09448860220039923, max_depth=11, n_estimators=50, reg_alpha=0, subsample=0.8, score=-1334640380.564, total=   0.5s\n",
      "[CV] colsample_bytree=0.7, gamma=1, learning_rate=0.09448860220039923, max_depth=11, n_estimators=50, reg_alpha=0, subsample=0.8 \n",
      "[CV]  colsample_bytree=0.7, gamma=1, learning_rate=0.09448860220039923, max_depth=11, n_estimators=50, reg_alpha=0, subsample=0.8, score=-534215789.810, total=   0.5s\n",
      "[CV] colsample_bytree=0.7, gamma=1, learning_rate=0.09448860220039923, max_depth=11, n_estimators=50, reg_alpha=0, subsample=0.8 \n",
      "[CV]  colsample_bytree=0.7, gamma=1, learning_rate=0.09448860220039923, max_depth=11, n_estimators=50, reg_alpha=0, subsample=0.8, score=-717395183.303, total=   0.5s\n",
      "[CV] colsample_bytree=0.9, gamma=1, learning_rate=0.07580091926160216, max_depth=7, n_estimators=200, reg_alpha=1, subsample=0.7 \n",
      "[CV]  colsample_bytree=0.9, gamma=1, learning_rate=0.07580091926160216, max_depth=7, n_estimators=200, reg_alpha=1, subsample=0.7, score=-1127925308.117, total=   1.7s\n",
      "[CV] colsample_bytree=0.9, gamma=1, learning_rate=0.07580091926160216, max_depth=7, n_estimators=200, reg_alpha=1, subsample=0.7 \n",
      "[CV]  colsample_bytree=0.9, gamma=1, learning_rate=0.07580091926160216, max_depth=7, n_estimators=200, reg_alpha=1, subsample=0.7, score=-1503351335.753, total=   1.7s\n",
      "[CV] colsample_bytree=0.9, gamma=1, learning_rate=0.07580091926160216, max_depth=7, n_estimators=200, reg_alpha=1, subsample=0.7 \n",
      "[CV]  colsample_bytree=0.9, gamma=1, learning_rate=0.07580091926160216, max_depth=7, n_estimators=200, reg_alpha=1, subsample=0.7, score=-704780683.689, total=   1.6s\n",
      "[CV] colsample_bytree=0.9, gamma=1, learning_rate=0.07580091926160216, max_depth=7, n_estimators=200, reg_alpha=1, subsample=0.7 \n",
      "[CV]  colsample_bytree=0.9, gamma=1, learning_rate=0.07580091926160216, max_depth=7, n_estimators=200, reg_alpha=1, subsample=0.7, score=-502659847.857, total=   1.6s\n",
      "[CV] colsample_bytree=0.9, gamma=1, learning_rate=0.07580091926160216, max_depth=7, n_estimators=200, reg_alpha=1, subsample=0.7 \n",
      "[CV]  colsample_bytree=0.9, gamma=1, learning_rate=0.07580091926160216, max_depth=7, n_estimators=200, reg_alpha=1, subsample=0.7, score=-389075747.746, total=   1.6s\n",
      "[CV] colsample_bytree=0.9, gamma=1, learning_rate=0.07580091926160216, max_depth=7, n_estimators=200, reg_alpha=1, subsample=0.7 \n",
      "[CV]  colsample_bytree=0.9, gamma=1, learning_rate=0.07580091926160216, max_depth=7, n_estimators=200, reg_alpha=1, subsample=0.7, score=-542860094.451, total=   1.6s\n",
      "[CV] colsample_bytree=0.9, gamma=1, learning_rate=0.07580091926160216, max_depth=7, n_estimators=200, reg_alpha=1, subsample=0.7 \n",
      "[CV]  colsample_bytree=0.9, gamma=1, learning_rate=0.07580091926160216, max_depth=7, n_estimators=200, reg_alpha=1, subsample=0.7, score=-717948960.113, total=   1.6s\n",
      "[CV] colsample_bytree=0.9, gamma=1, learning_rate=0.07580091926160216, max_depth=7, n_estimators=200, reg_alpha=1, subsample=0.7 \n",
      "[CV]  colsample_bytree=0.9, gamma=1, learning_rate=0.07580091926160216, max_depth=7, n_estimators=200, reg_alpha=1, subsample=0.7, score=-1080931173.237, total=   1.7s\n",
      "[CV] colsample_bytree=0.9, gamma=1, learning_rate=0.07580091926160216, max_depth=7, n_estimators=200, reg_alpha=1, subsample=0.7 \n"
     ]
    },
    {
     "name": "stdout",
     "output_type": "stream",
     "text": [
      "[CV]  colsample_bytree=0.9, gamma=1, learning_rate=0.07580091926160216, max_depth=7, n_estimators=200, reg_alpha=1, subsample=0.7, score=-467837601.151, total=   1.6s\n",
      "[CV] colsample_bytree=0.9, gamma=1, learning_rate=0.07580091926160216, max_depth=7, n_estimators=200, reg_alpha=1, subsample=0.7 \n",
      "[CV]  colsample_bytree=0.9, gamma=1, learning_rate=0.07580091926160216, max_depth=7, n_estimators=200, reg_alpha=1, subsample=0.7, score=-626908954.636, total=   1.7s\n",
      "[CV] colsample_bytree=0.7, gamma=0.5, learning_rate=0.05504929192453181, max_depth=11, n_estimators=100, reg_alpha=0, subsample=0.7 \n",
      "[CV]  colsample_bytree=0.7, gamma=0.5, learning_rate=0.05504929192453181, max_depth=11, n_estimators=100, reg_alpha=0, subsample=0.7, score=-1071955237.175, total=   1.0s\n",
      "[CV] colsample_bytree=0.7, gamma=0.5, learning_rate=0.05504929192453181, max_depth=11, n_estimators=100, reg_alpha=0, subsample=0.7 \n",
      "[CV]  colsample_bytree=0.7, gamma=0.5, learning_rate=0.05504929192453181, max_depth=11, n_estimators=100, reg_alpha=0, subsample=0.7, score=-1510075646.847, total=   1.0s\n",
      "[CV] colsample_bytree=0.7, gamma=0.5, learning_rate=0.05504929192453181, max_depth=11, n_estimators=100, reg_alpha=0, subsample=0.7 \n",
      "[CV]  colsample_bytree=0.7, gamma=0.5, learning_rate=0.05504929192453181, max_depth=11, n_estimators=100, reg_alpha=0, subsample=0.7, score=-696878134.274, total=   1.1s\n",
      "[CV] colsample_bytree=0.7, gamma=0.5, learning_rate=0.05504929192453181, max_depth=11, n_estimators=100, reg_alpha=0, subsample=0.7 \n",
      "[CV]  colsample_bytree=0.7, gamma=0.5, learning_rate=0.05504929192453181, max_depth=11, n_estimators=100, reg_alpha=0, subsample=0.7, score=-524919281.887, total=   1.0s\n",
      "[CV] colsample_bytree=0.7, gamma=0.5, learning_rate=0.05504929192453181, max_depth=11, n_estimators=100, reg_alpha=0, subsample=0.7 \n",
      "[CV]  colsample_bytree=0.7, gamma=0.5, learning_rate=0.05504929192453181, max_depth=11, n_estimators=100, reg_alpha=0, subsample=0.7, score=-463151462.964, total=   1.0s\n",
      "[CV] colsample_bytree=0.7, gamma=0.5, learning_rate=0.05504929192453181, max_depth=11, n_estimators=100, reg_alpha=0, subsample=0.7 \n",
      "[CV]  colsample_bytree=0.7, gamma=0.5, learning_rate=0.05504929192453181, max_depth=11, n_estimators=100, reg_alpha=0, subsample=0.7, score=-535489758.483, total=   1.0s\n",
      "[CV] colsample_bytree=0.7, gamma=0.5, learning_rate=0.05504929192453181, max_depth=11, n_estimators=100, reg_alpha=0, subsample=0.7 \n",
      "[CV]  colsample_bytree=0.7, gamma=0.5, learning_rate=0.05504929192453181, max_depth=11, n_estimators=100, reg_alpha=0, subsample=0.7, score=-782091403.752, total=   1.0s\n",
      "[CV] colsample_bytree=0.7, gamma=0.5, learning_rate=0.05504929192453181, max_depth=11, n_estimators=100, reg_alpha=0, subsample=0.7 \n",
      "[CV]  colsample_bytree=0.7, gamma=0.5, learning_rate=0.05504929192453181, max_depth=11, n_estimators=100, reg_alpha=0, subsample=0.7, score=-1157510228.904, total=   1.0s\n",
      "[CV] colsample_bytree=0.7, gamma=0.5, learning_rate=0.05504929192453181, max_depth=11, n_estimators=100, reg_alpha=0, subsample=0.7 \n",
      "[CV]  colsample_bytree=0.7, gamma=0.5, learning_rate=0.05504929192453181, max_depth=11, n_estimators=100, reg_alpha=0, subsample=0.7, score=-441927551.665, total=   1.0s\n",
      "[CV] colsample_bytree=0.7, gamma=0.5, learning_rate=0.05504929192453181, max_depth=11, n_estimators=100, reg_alpha=0, subsample=0.7 \n",
      "[CV]  colsample_bytree=0.7, gamma=0.5, learning_rate=0.05504929192453181, max_depth=11, n_estimators=100, reg_alpha=0, subsample=0.7, score=-720864969.218, total=   1.0s\n",
      "[CV] colsample_bytree=0.8, gamma=0.5, learning_rate=0.025808932306472313, max_depth=7, n_estimators=200, reg_alpha=1, subsample=0.7 \n",
      "[CV]  colsample_bytree=0.8, gamma=0.5, learning_rate=0.025808932306472313, max_depth=7, n_estimators=200, reg_alpha=1, subsample=0.7, score=-1123103620.904, total=   1.5s\n",
      "[CV] colsample_bytree=0.8, gamma=0.5, learning_rate=0.025808932306472313, max_depth=7, n_estimators=200, reg_alpha=1, subsample=0.7 \n",
      "[CV]  colsample_bytree=0.8, gamma=0.5, learning_rate=0.025808932306472313, max_depth=7, n_estimators=200, reg_alpha=1, subsample=0.7, score=-1578151918.656, total=   1.5s\n",
      "[CV] colsample_bytree=0.8, gamma=0.5, learning_rate=0.025808932306472313, max_depth=7, n_estimators=200, reg_alpha=1, subsample=0.7 \n",
      "[CV]  colsample_bytree=0.8, gamma=0.5, learning_rate=0.025808932306472313, max_depth=7, n_estimators=200, reg_alpha=1, subsample=0.7, score=-671905562.410, total=   1.4s\n",
      "[CV] colsample_bytree=0.8, gamma=0.5, learning_rate=0.025808932306472313, max_depth=7, n_estimators=200, reg_alpha=1, subsample=0.7 \n",
      "[CV]  colsample_bytree=0.8, gamma=0.5, learning_rate=0.025808932306472313, max_depth=7, n_estimators=200, reg_alpha=1, subsample=0.7, score=-484355611.375, total=   1.5s\n",
      "[CV] colsample_bytree=0.8, gamma=0.5, learning_rate=0.025808932306472313, max_depth=7, n_estimators=200, reg_alpha=1, subsample=0.7 \n",
      "[CV]  colsample_bytree=0.8, gamma=0.5, learning_rate=0.025808932306472313, max_depth=7, n_estimators=200, reg_alpha=1, subsample=0.7, score=-404103793.117, total=   1.5s\n",
      "[CV] colsample_bytree=0.8, gamma=0.5, learning_rate=0.025808932306472313, max_depth=7, n_estimators=200, reg_alpha=1, subsample=0.7 \n",
      "[CV]  colsample_bytree=0.8, gamma=0.5, learning_rate=0.025808932306472313, max_depth=7, n_estimators=200, reg_alpha=1, subsample=0.7, score=-482640457.481, total=   1.5s\n",
      "[CV] colsample_bytree=0.8, gamma=0.5, learning_rate=0.025808932306472313, max_depth=7, n_estimators=200, reg_alpha=1, subsample=0.7 \n",
      "[CV]  colsample_bytree=0.8, gamma=0.5, learning_rate=0.025808932306472313, max_depth=7, n_estimators=200, reg_alpha=1, subsample=0.7, score=-799751080.480, total=   1.4s\n",
      "[CV] colsample_bytree=0.8, gamma=0.5, learning_rate=0.025808932306472313, max_depth=7, n_estimators=200, reg_alpha=1, subsample=0.7 \n",
      "[CV]  colsample_bytree=0.8, gamma=0.5, learning_rate=0.025808932306472313, max_depth=7, n_estimators=200, reg_alpha=1, subsample=0.7, score=-1242846478.142, total=   1.5s\n",
      "[CV] colsample_bytree=0.8, gamma=0.5, learning_rate=0.025808932306472313, max_depth=7, n_estimators=200, reg_alpha=1, subsample=0.7 \n",
      "[CV]  colsample_bytree=0.8, gamma=0.5, learning_rate=0.025808932306472313, max_depth=7, n_estimators=200, reg_alpha=1, subsample=0.7, score=-514078235.150, total=   1.5s\n",
      "[CV] colsample_bytree=0.8, gamma=0.5, learning_rate=0.025808932306472313, max_depth=7, n_estimators=200, reg_alpha=1, subsample=0.7 \n",
      "[CV]  colsample_bytree=0.8, gamma=0.5, learning_rate=0.025808932306472313, max_depth=7, n_estimators=200, reg_alpha=1, subsample=0.7, score=-660538789.002, total=   1.6s\n",
      "[CV] colsample_bytree=0.8, gamma=1, learning_rate=0.08547427711770138, max_depth=11, n_estimators=300, reg_alpha=0.5, subsample=0.9 \n",
      "[CV]  colsample_bytree=0.8, gamma=1, learning_rate=0.08547427711770138, max_depth=11, n_estimators=300, reg_alpha=0.5, subsample=0.9, score=-1129992268.018, total=   3.7s\n",
      "[CV] colsample_bytree=0.8, gamma=1, learning_rate=0.08547427711770138, max_depth=11, n_estimators=300, reg_alpha=0.5, subsample=0.9 \n",
      "[CV]  colsample_bytree=0.8, gamma=1, learning_rate=0.08547427711770138, max_depth=11, n_estimators=300, reg_alpha=0.5, subsample=0.9, score=-1524690776.629, total=   3.6s\n",
      "[CV] colsample_bytree=0.8, gamma=1, learning_rate=0.08547427711770138, max_depth=11, n_estimators=300, reg_alpha=0.5, subsample=0.9 \n",
      "[CV]  colsample_bytree=0.8, gamma=1, learning_rate=0.08547427711770138, max_depth=11, n_estimators=300, reg_alpha=0.5, subsample=0.9, score=-884146594.690, total=   3.5s\n",
      "[CV] colsample_bytree=0.8, gamma=1, learning_rate=0.08547427711770138, max_depth=11, n_estimators=300, reg_alpha=0.5, subsample=0.9 \n",
      "[CV]  colsample_bytree=0.8, gamma=1, learning_rate=0.08547427711770138, max_depth=11, n_estimators=300, reg_alpha=0.5, subsample=0.9, score=-513861458.228, total=   3.6s\n",
      "[CV] colsample_bytree=0.8, gamma=1, learning_rate=0.08547427711770138, max_depth=11, n_estimators=300, reg_alpha=0.5, subsample=0.9 \n",
      "[CV]  colsample_bytree=0.8, gamma=1, learning_rate=0.08547427711770138, max_depth=11, n_estimators=300, reg_alpha=0.5, subsample=0.9, score=-464329757.872, total=   3.6s\n",
      "[CV] colsample_bytree=0.8, gamma=1, learning_rate=0.08547427711770138, max_depth=11, n_estimators=300, reg_alpha=0.5, subsample=0.9 \n",
      "[CV]  colsample_bytree=0.8, gamma=1, learning_rate=0.08547427711770138, max_depth=11, n_estimators=300, reg_alpha=0.5, subsample=0.9, score=-538427476.872, total=   3.6s\n",
      "[CV] colsample_bytree=0.8, gamma=1, learning_rate=0.08547427711770138, max_depth=11, n_estimators=300, reg_alpha=0.5, subsample=0.9 \n"
     ]
    },
    {
     "name": "stdout",
     "output_type": "stream",
     "text": [
      "[CV]  colsample_bytree=0.8, gamma=1, learning_rate=0.08547427711770138, max_depth=11, n_estimators=300, reg_alpha=0.5, subsample=0.9, score=-848373931.982, total=   3.6s\n",
      "[CV] colsample_bytree=0.8, gamma=1, learning_rate=0.08547427711770138, max_depth=11, n_estimators=300, reg_alpha=0.5, subsample=0.9 \n",
      "[CV]  colsample_bytree=0.8, gamma=1, learning_rate=0.08547427711770138, max_depth=11, n_estimators=300, reg_alpha=0.5, subsample=0.9, score=-1130399721.642, total=   3.5s\n",
      "[CV] colsample_bytree=0.8, gamma=1, learning_rate=0.08547427711770138, max_depth=11, n_estimators=300, reg_alpha=0.5, subsample=0.9 \n",
      "[CV]  colsample_bytree=0.8, gamma=1, learning_rate=0.08547427711770138, max_depth=11, n_estimators=300, reg_alpha=0.5, subsample=0.9, score=-509227474.465, total=   3.6s\n",
      "[CV] colsample_bytree=0.8, gamma=1, learning_rate=0.08547427711770138, max_depth=11, n_estimators=300, reg_alpha=0.5, subsample=0.9 \n",
      "[CV]  colsample_bytree=0.8, gamma=1, learning_rate=0.08547427711770138, max_depth=11, n_estimators=300, reg_alpha=0.5, subsample=0.9, score=-564743055.867, total=   3.6s\n",
      "[CV] colsample_bytree=0.7, gamma=1, learning_rate=0.05513785366208273, max_depth=5, n_estimators=100, reg_alpha=0, subsample=0.8 \n",
      "[CV]  colsample_bytree=0.7, gamma=1, learning_rate=0.05513785366208273, max_depth=5, n_estimators=100, reg_alpha=0, subsample=0.8, score=-1104761802.857, total=   0.4s\n",
      "[CV] colsample_bytree=0.7, gamma=1, learning_rate=0.05513785366208273, max_depth=5, n_estimators=100, reg_alpha=0, subsample=0.8 \n",
      "[CV]  colsample_bytree=0.7, gamma=1, learning_rate=0.05513785366208273, max_depth=5, n_estimators=100, reg_alpha=0, subsample=0.8, score=-1495702402.458, total=   0.5s\n",
      "[CV] colsample_bytree=0.7, gamma=1, learning_rate=0.05513785366208273, max_depth=5, n_estimators=100, reg_alpha=0, subsample=0.8 \n",
      "[CV]  colsample_bytree=0.7, gamma=1, learning_rate=0.05513785366208273, max_depth=5, n_estimators=100, reg_alpha=0, subsample=0.8, score=-731646725.161, total=   0.5s\n",
      "[CV] colsample_bytree=0.7, gamma=1, learning_rate=0.05513785366208273, max_depth=5, n_estimators=100, reg_alpha=0, subsample=0.8 \n",
      "[CV]  colsample_bytree=0.7, gamma=1, learning_rate=0.05513785366208273, max_depth=5, n_estimators=100, reg_alpha=0, subsample=0.8, score=-470507810.162, total=   0.5s\n",
      "[CV] colsample_bytree=0.7, gamma=1, learning_rate=0.05513785366208273, max_depth=5, n_estimators=100, reg_alpha=0, subsample=0.8 \n",
      "[CV]  colsample_bytree=0.7, gamma=1, learning_rate=0.05513785366208273, max_depth=5, n_estimators=100, reg_alpha=0, subsample=0.8, score=-387915249.858, total=   0.5s\n",
      "[CV] colsample_bytree=0.7, gamma=1, learning_rate=0.05513785366208273, max_depth=5, n_estimators=100, reg_alpha=0, subsample=0.8 \n",
      "[CV]  colsample_bytree=0.7, gamma=1, learning_rate=0.05513785366208273, max_depth=5, n_estimators=100, reg_alpha=0, subsample=0.8, score=-467759890.276, total=   0.5s\n",
      "[CV] colsample_bytree=0.7, gamma=1, learning_rate=0.05513785366208273, max_depth=5, n_estimators=100, reg_alpha=0, subsample=0.8 \n",
      "[CV]  colsample_bytree=0.7, gamma=1, learning_rate=0.05513785366208273, max_depth=5, n_estimators=100, reg_alpha=0, subsample=0.8, score=-697755233.938, total=   0.5s\n",
      "[CV] colsample_bytree=0.7, gamma=1, learning_rate=0.05513785366208273, max_depth=5, n_estimators=100, reg_alpha=0, subsample=0.8 \n",
      "[CV]  colsample_bytree=0.7, gamma=1, learning_rate=0.05513785366208273, max_depth=5, n_estimators=100, reg_alpha=0, subsample=0.8, score=-1220176820.410, total=   0.5s\n",
      "[CV] colsample_bytree=0.7, gamma=1, learning_rate=0.05513785366208273, max_depth=5, n_estimators=100, reg_alpha=0, subsample=0.8 \n",
      "[CV]  colsample_bytree=0.7, gamma=1, learning_rate=0.05513785366208273, max_depth=5, n_estimators=100, reg_alpha=0, subsample=0.8, score=-465876041.045, total=   0.4s\n",
      "[CV] colsample_bytree=0.7, gamma=1, learning_rate=0.05513785366208273, max_depth=5, n_estimators=100, reg_alpha=0, subsample=0.8 \n",
      "[CV]  colsample_bytree=0.7, gamma=1, learning_rate=0.05513785366208273, max_depth=5, n_estimators=100, reg_alpha=0, subsample=0.8, score=-720879414.408, total=   0.4s\n",
      "[CV] colsample_bytree=0.8, gamma=0.5, learning_rate=0.06602980609647943, max_depth=3, n_estimators=200, reg_alpha=1, subsample=0.9 \n",
      "[CV]  colsample_bytree=0.8, gamma=0.5, learning_rate=0.06602980609647943, max_depth=3, n_estimators=200, reg_alpha=1, subsample=0.9, score=-1019336761.270, total=   0.6s\n",
      "[CV] colsample_bytree=0.8, gamma=0.5, learning_rate=0.06602980609647943, max_depth=3, n_estimators=200, reg_alpha=1, subsample=0.9 \n",
      "[CV]  colsample_bytree=0.8, gamma=0.5, learning_rate=0.06602980609647943, max_depth=3, n_estimators=200, reg_alpha=1, subsample=0.9, score=-1581805175.664, total=   0.6s\n",
      "[CV] colsample_bytree=0.8, gamma=0.5, learning_rate=0.06602980609647943, max_depth=3, n_estimators=200, reg_alpha=1, subsample=0.9 \n",
      "[CV]  colsample_bytree=0.8, gamma=0.5, learning_rate=0.06602980609647943, max_depth=3, n_estimators=200, reg_alpha=1, subsample=0.9, score=-928312315.555, total=   0.6s\n",
      "[CV] colsample_bytree=0.8, gamma=0.5, learning_rate=0.06602980609647943, max_depth=3, n_estimators=200, reg_alpha=1, subsample=0.9 \n",
      "[CV]  colsample_bytree=0.8, gamma=0.5, learning_rate=0.06602980609647943, max_depth=3, n_estimators=200, reg_alpha=1, subsample=0.9, score=-520742840.209, total=   0.7s\n",
      "[CV] colsample_bytree=0.8, gamma=0.5, learning_rate=0.06602980609647943, max_depth=3, n_estimators=200, reg_alpha=1, subsample=0.9 \n",
      "[CV]  colsample_bytree=0.8, gamma=0.5, learning_rate=0.06602980609647943, max_depth=3, n_estimators=200, reg_alpha=1, subsample=0.9, score=-407661783.103, total=   0.6s\n",
      "[CV] colsample_bytree=0.8, gamma=0.5, learning_rate=0.06602980609647943, max_depth=3, n_estimators=200, reg_alpha=1, subsample=0.9 \n",
      "[CV]  colsample_bytree=0.8, gamma=0.5, learning_rate=0.06602980609647943, max_depth=3, n_estimators=200, reg_alpha=1, subsample=0.9, score=-505177819.900, total=   0.6s\n",
      "[CV] colsample_bytree=0.8, gamma=0.5, learning_rate=0.06602980609647943, max_depth=3, n_estimators=200, reg_alpha=1, subsample=0.9 \n",
      "[CV]  colsample_bytree=0.8, gamma=0.5, learning_rate=0.06602980609647943, max_depth=3, n_estimators=200, reg_alpha=1, subsample=0.9, score=-782823381.702, total=   0.6s\n",
      "[CV] colsample_bytree=0.8, gamma=0.5, learning_rate=0.06602980609647943, max_depth=3, n_estimators=200, reg_alpha=1, subsample=0.9 \n",
      "[CV]  colsample_bytree=0.8, gamma=0.5, learning_rate=0.06602980609647943, max_depth=3, n_estimators=200, reg_alpha=1, subsample=0.9, score=-988818492.551, total=   0.7s\n",
      "[CV] colsample_bytree=0.8, gamma=0.5, learning_rate=0.06602980609647943, max_depth=3, n_estimators=200, reg_alpha=1, subsample=0.9 \n",
      "[CV]  colsample_bytree=0.8, gamma=0.5, learning_rate=0.06602980609647943, max_depth=3, n_estimators=200, reg_alpha=1, subsample=0.9, score=-423233389.348, total=   0.6s\n",
      "[CV] colsample_bytree=0.8, gamma=0.5, learning_rate=0.06602980609647943, max_depth=3, n_estimators=200, reg_alpha=1, subsample=0.9 \n",
      "[CV]  colsample_bytree=0.8, gamma=0.5, learning_rate=0.06602980609647943, max_depth=3, n_estimators=200, reg_alpha=1, subsample=0.9, score=-534881772.273, total=   0.6s\n",
      "[CV] colsample_bytree=0.9, gamma=0, learning_rate=0.067401281338758, max_depth=5, n_estimators=100, reg_alpha=0.5, subsample=0.7 \n",
      "[CV]  colsample_bytree=0.9, gamma=0, learning_rate=0.067401281338758, max_depth=5, n_estimators=100, reg_alpha=0.5, subsample=0.7, score=-1143359892.027, total=   0.6s\n",
      "[CV] colsample_bytree=0.9, gamma=0, learning_rate=0.067401281338758, max_depth=5, n_estimators=100, reg_alpha=0.5, subsample=0.7 \n",
      "[CV]  colsample_bytree=0.9, gamma=0, learning_rate=0.067401281338758, max_depth=5, n_estimators=100, reg_alpha=0.5, subsample=0.7, score=-1689650821.966, total=   0.7s\n",
      "[CV] colsample_bytree=0.9, gamma=0, learning_rate=0.067401281338758, max_depth=5, n_estimators=100, reg_alpha=0.5, subsample=0.7 \n",
      "[CV]  colsample_bytree=0.9, gamma=0, learning_rate=0.067401281338758, max_depth=5, n_estimators=100, reg_alpha=0.5, subsample=0.7, score=-653949069.962, total=   0.6s\n",
      "[CV] colsample_bytree=0.9, gamma=0, learning_rate=0.067401281338758, max_depth=5, n_estimators=100, reg_alpha=0.5, subsample=0.7 \n",
      "[CV]  colsample_bytree=0.9, gamma=0, learning_rate=0.067401281338758, max_depth=5, n_estimators=100, reg_alpha=0.5, subsample=0.7, score=-481626910.625, total=   0.6s\n",
      "[CV] colsample_bytree=0.9, gamma=0, learning_rate=0.067401281338758, max_depth=5, n_estimators=100, reg_alpha=0.5, subsample=0.7 \n"
     ]
    },
    {
     "name": "stdout",
     "output_type": "stream",
     "text": [
      "[CV]  colsample_bytree=0.9, gamma=0, learning_rate=0.067401281338758, max_depth=5, n_estimators=100, reg_alpha=0.5, subsample=0.7, score=-408232522.119, total=   0.6s\n",
      "[CV] colsample_bytree=0.9, gamma=0, learning_rate=0.067401281338758, max_depth=5, n_estimators=100, reg_alpha=0.5, subsample=0.7 \n",
      "[CV]  colsample_bytree=0.9, gamma=0, learning_rate=0.067401281338758, max_depth=5, n_estimators=100, reg_alpha=0.5, subsample=0.7, score=-508044047.881, total=   0.6s\n",
      "[CV] colsample_bytree=0.9, gamma=0, learning_rate=0.067401281338758, max_depth=5, n_estimators=100, reg_alpha=0.5, subsample=0.7 \n",
      "[CV]  colsample_bytree=0.9, gamma=0, learning_rate=0.067401281338758, max_depth=5, n_estimators=100, reg_alpha=0.5, subsample=0.7, score=-821138665.801, total=   0.6s\n",
      "[CV] colsample_bytree=0.9, gamma=0, learning_rate=0.067401281338758, max_depth=5, n_estimators=100, reg_alpha=0.5, subsample=0.7 \n",
      "[CV]  colsample_bytree=0.9, gamma=0, learning_rate=0.067401281338758, max_depth=5, n_estimators=100, reg_alpha=0.5, subsample=0.7, score=-1062717320.999, total=   0.6s\n",
      "[CV] colsample_bytree=0.9, gamma=0, learning_rate=0.067401281338758, max_depth=5, n_estimators=100, reg_alpha=0.5, subsample=0.7 \n",
      "[CV]  colsample_bytree=0.9, gamma=0, learning_rate=0.067401281338758, max_depth=5, n_estimators=100, reg_alpha=0.5, subsample=0.7, score=-430145816.598, total=   0.6s\n",
      "[CV] colsample_bytree=0.9, gamma=0, learning_rate=0.067401281338758, max_depth=5, n_estimators=100, reg_alpha=0.5, subsample=0.7 \n",
      "[CV]  colsample_bytree=0.9, gamma=0, learning_rate=0.067401281338758, max_depth=5, n_estimators=100, reg_alpha=0.5, subsample=0.7, score=-613141424.085, total=   0.6s\n",
      "[CV] colsample_bytree=0.8, gamma=0.5, learning_rate=0.011290322628689255, max_depth=5, n_estimators=50, reg_alpha=1, subsample=0.8 \n",
      "[CV]  colsample_bytree=0.8, gamma=0.5, learning_rate=0.011290322628689255, max_depth=5, n_estimators=50, reg_alpha=1, subsample=0.8, score=-18490320717.655, total=   0.3s\n",
      "[CV] colsample_bytree=0.8, gamma=0.5, learning_rate=0.011290322628689255, max_depth=5, n_estimators=50, reg_alpha=1, subsample=0.8 \n",
      "[CV]  colsample_bytree=0.8, gamma=0.5, learning_rate=0.011290322628689255, max_depth=5, n_estimators=50, reg_alpha=1, subsample=0.8, score=-16250068779.181, total=   0.3s\n",
      "[CV] colsample_bytree=0.8, gamma=0.5, learning_rate=0.011290322628689255, max_depth=5, n_estimators=50, reg_alpha=1, subsample=0.8 \n",
      "[CV]  colsample_bytree=0.8, gamma=0.5, learning_rate=0.011290322628689255, max_depth=5, n_estimators=50, reg_alpha=1, subsample=0.8, score=-10388691694.125, total=   0.3s\n",
      "[CV] colsample_bytree=0.8, gamma=0.5, learning_rate=0.011290322628689255, max_depth=5, n_estimators=50, reg_alpha=1, subsample=0.8 \n",
      "[CV]  colsample_bytree=0.8, gamma=0.5, learning_rate=0.011290322628689255, max_depth=5, n_estimators=50, reg_alpha=1, subsample=0.8, score=-13506046196.823, total=   0.3s\n",
      "[CV] colsample_bytree=0.8, gamma=0.5, learning_rate=0.011290322628689255, max_depth=5, n_estimators=50, reg_alpha=1, subsample=0.8 \n",
      "[CV]  colsample_bytree=0.8, gamma=0.5, learning_rate=0.011290322628689255, max_depth=5, n_estimators=50, reg_alpha=1, subsample=0.8, score=-12858152811.737, total=   0.3s\n",
      "[CV] colsample_bytree=0.8, gamma=0.5, learning_rate=0.011290322628689255, max_depth=5, n_estimators=50, reg_alpha=1, subsample=0.8 \n",
      "[CV]  colsample_bytree=0.8, gamma=0.5, learning_rate=0.011290322628689255, max_depth=5, n_estimators=50, reg_alpha=1, subsample=0.8, score=-14338736290.437, total=   0.3s\n",
      "[CV] colsample_bytree=0.8, gamma=0.5, learning_rate=0.011290322628689255, max_depth=5, n_estimators=50, reg_alpha=1, subsample=0.8 \n",
      "[CV]  colsample_bytree=0.8, gamma=0.5, learning_rate=0.011290322628689255, max_depth=5, n_estimators=50, reg_alpha=1, subsample=0.8, score=-14146667895.924, total=   0.3s\n",
      "[CV] colsample_bytree=0.8, gamma=0.5, learning_rate=0.011290322628689255, max_depth=5, n_estimators=50, reg_alpha=1, subsample=0.8 \n",
      "[CV]  colsample_bytree=0.8, gamma=0.5, learning_rate=0.011290322628689255, max_depth=5, n_estimators=50, reg_alpha=1, subsample=0.8, score=-17043408902.370, total=   0.3s\n",
      "[CV] colsample_bytree=0.8, gamma=0.5, learning_rate=0.011290322628689255, max_depth=5, n_estimators=50, reg_alpha=1, subsample=0.8 \n",
      "[CV]  colsample_bytree=0.8, gamma=0.5, learning_rate=0.011290322628689255, max_depth=5, n_estimators=50, reg_alpha=1, subsample=0.8, score=-15623338660.144, total=   0.3s\n",
      "[CV] colsample_bytree=0.8, gamma=0.5, learning_rate=0.011290322628689255, max_depth=5, n_estimators=50, reg_alpha=1, subsample=0.8 \n",
      "[CV]  colsample_bytree=0.8, gamma=0.5, learning_rate=0.011290322628689255, max_depth=5, n_estimators=50, reg_alpha=1, subsample=0.8, score=-14255607441.415, total=   0.3s\n",
      "[CV] colsample_bytree=0.8, gamma=0, learning_rate=0.09679645790878875, max_depth=5, n_estimators=300, reg_alpha=1, subsample=0.9 \n",
      "[CV]  colsample_bytree=0.8, gamma=0, learning_rate=0.09679645790878875, max_depth=5, n_estimators=300, reg_alpha=1, subsample=0.9, score=-1033469407.293, total=   1.5s\n",
      "[CV] colsample_bytree=0.8, gamma=0, learning_rate=0.09679645790878875, max_depth=5, n_estimators=300, reg_alpha=1, subsample=0.9 \n",
      "[CV]  colsample_bytree=0.8, gamma=0, learning_rate=0.09679645790878875, max_depth=5, n_estimators=300, reg_alpha=1, subsample=0.9, score=-1680850272.515, total=   1.5s\n",
      "[CV] colsample_bytree=0.8, gamma=0, learning_rate=0.09679645790878875, max_depth=5, n_estimators=300, reg_alpha=1, subsample=0.9 \n",
      "[CV]  colsample_bytree=0.8, gamma=0, learning_rate=0.09679645790878875, max_depth=5, n_estimators=300, reg_alpha=1, subsample=0.9, score=-839018072.428, total=   1.5s\n",
      "[CV] colsample_bytree=0.8, gamma=0, learning_rate=0.09679645790878875, max_depth=5, n_estimators=300, reg_alpha=1, subsample=0.9 \n",
      "[CV]  colsample_bytree=0.8, gamma=0, learning_rate=0.09679645790878875, max_depth=5, n_estimators=300, reg_alpha=1, subsample=0.9, score=-497017701.113, total=   1.5s\n",
      "[CV] colsample_bytree=0.8, gamma=0, learning_rate=0.09679645790878875, max_depth=5, n_estimators=300, reg_alpha=1, subsample=0.9 \n",
      "[CV]  colsample_bytree=0.8, gamma=0, learning_rate=0.09679645790878875, max_depth=5, n_estimators=300, reg_alpha=1, subsample=0.9, score=-426687447.177, total=   1.5s\n",
      "[CV] colsample_bytree=0.8, gamma=0, learning_rate=0.09679645790878875, max_depth=5, n_estimators=300, reg_alpha=1, subsample=0.9 \n",
      "[CV]  colsample_bytree=0.8, gamma=0, learning_rate=0.09679645790878875, max_depth=5, n_estimators=300, reg_alpha=1, subsample=0.9, score=-554938164.446, total=   1.5s\n",
      "[CV] colsample_bytree=0.8, gamma=0, learning_rate=0.09679645790878875, max_depth=5, n_estimators=300, reg_alpha=1, subsample=0.9 \n",
      "[CV]  colsample_bytree=0.8, gamma=0, learning_rate=0.09679645790878875, max_depth=5, n_estimators=300, reg_alpha=1, subsample=0.9, score=-651748541.846, total=   1.5s\n",
      "[CV] colsample_bytree=0.8, gamma=0, learning_rate=0.09679645790878875, max_depth=5, n_estimators=300, reg_alpha=1, subsample=0.9 \n",
      "[CV]  colsample_bytree=0.8, gamma=0, learning_rate=0.09679645790878875, max_depth=5, n_estimators=300, reg_alpha=1, subsample=0.9, score=-1012280531.736, total=   1.5s\n",
      "[CV] colsample_bytree=0.8, gamma=0, learning_rate=0.09679645790878875, max_depth=5, n_estimators=300, reg_alpha=1, subsample=0.9 \n",
      "[CV]  colsample_bytree=0.8, gamma=0, learning_rate=0.09679645790878875, max_depth=5, n_estimators=300, reg_alpha=1, subsample=0.9, score=-468560677.825, total=   1.5s\n",
      "[CV] colsample_bytree=0.8, gamma=0, learning_rate=0.09679645790878875, max_depth=5, n_estimators=300, reg_alpha=1, subsample=0.9 \n",
      "[CV]  colsample_bytree=0.8, gamma=0, learning_rate=0.09679645790878875, max_depth=5, n_estimators=300, reg_alpha=1, subsample=0.9, score=-611208723.815, total=   1.5s\n",
      "[CV] colsample_bytree=0.7, gamma=0, learning_rate=0.10901181018067109, max_depth=11, n_estimators=300, reg_alpha=0, subsample=0.8 \n",
      "[CV]  colsample_bytree=0.7, gamma=0, learning_rate=0.10901181018067109, max_depth=11, n_estimators=300, reg_alpha=0, subsample=0.8, score=-1184692834.312, total=   3.3s\n",
      "[CV] colsample_bytree=0.7, gamma=0, learning_rate=0.10901181018067109, max_depth=11, n_estimators=300, reg_alpha=0, subsample=0.8 \n",
      "[CV]  colsample_bytree=0.7, gamma=0, learning_rate=0.10901181018067109, max_depth=11, n_estimators=300, reg_alpha=0, subsample=0.8, score=-1069750922.565, total=   3.4s\n",
      "[CV] colsample_bytree=0.7, gamma=0, learning_rate=0.10901181018067109, max_depth=11, n_estimators=300, reg_alpha=0, subsample=0.8 \n"
     ]
    },
    {
     "name": "stdout",
     "output_type": "stream",
     "text": [
      "[CV]  colsample_bytree=0.7, gamma=0, learning_rate=0.10901181018067109, max_depth=11, n_estimators=300, reg_alpha=0, subsample=0.8, score=-740253479.667, total=   3.3s\n",
      "[CV] colsample_bytree=0.7, gamma=0, learning_rate=0.10901181018067109, max_depth=11, n_estimators=300, reg_alpha=0, subsample=0.8 \n",
      "[CV]  colsample_bytree=0.7, gamma=0, learning_rate=0.10901181018067109, max_depth=11, n_estimators=300, reg_alpha=0, subsample=0.8, score=-489447568.818, total=   3.3s\n",
      "[CV] colsample_bytree=0.7, gamma=0, learning_rate=0.10901181018067109, max_depth=11, n_estimators=300, reg_alpha=0, subsample=0.8 \n",
      "[CV]  colsample_bytree=0.7, gamma=0, learning_rate=0.10901181018067109, max_depth=11, n_estimators=300, reg_alpha=0, subsample=0.8, score=-463543047.467, total=   3.3s\n",
      "[CV] colsample_bytree=0.7, gamma=0, learning_rate=0.10901181018067109, max_depth=11, n_estimators=300, reg_alpha=0, subsample=0.8 \n",
      "[CV]  colsample_bytree=0.7, gamma=0, learning_rate=0.10901181018067109, max_depth=11, n_estimators=300, reg_alpha=0, subsample=0.8, score=-524008284.060, total=   3.2s\n",
      "[CV] colsample_bytree=0.7, gamma=0, learning_rate=0.10901181018067109, max_depth=11, n_estimators=300, reg_alpha=0, subsample=0.8 \n",
      "[CV]  colsample_bytree=0.7, gamma=0, learning_rate=0.10901181018067109, max_depth=11, n_estimators=300, reg_alpha=0, subsample=0.8, score=-764346830.068, total=   3.3s\n",
      "[CV] colsample_bytree=0.7, gamma=0, learning_rate=0.10901181018067109, max_depth=11, n_estimators=300, reg_alpha=0, subsample=0.8 \n",
      "[CV]  colsample_bytree=0.7, gamma=0, learning_rate=0.10901181018067109, max_depth=11, n_estimators=300, reg_alpha=0, subsample=0.8, score=-1148218176.479, total=   3.3s\n",
      "[CV] colsample_bytree=0.7, gamma=0, learning_rate=0.10901181018067109, max_depth=11, n_estimators=300, reg_alpha=0, subsample=0.8 \n",
      "[CV]  colsample_bytree=0.7, gamma=0, learning_rate=0.10901181018067109, max_depth=11, n_estimators=300, reg_alpha=0, subsample=0.8, score=-510231163.905, total=   3.3s\n",
      "[CV] colsample_bytree=0.7, gamma=0, learning_rate=0.10901181018067109, max_depth=11, n_estimators=300, reg_alpha=0, subsample=0.8 \n",
      "[CV]  colsample_bytree=0.7, gamma=0, learning_rate=0.10901181018067109, max_depth=11, n_estimators=300, reg_alpha=0, subsample=0.8, score=-633486287.710, total=   3.3s\n",
      "[CV] colsample_bytree=0.7, gamma=1, learning_rate=0.02725698887825448, max_depth=11, n_estimators=100, reg_alpha=1, subsample=0.8 \n",
      "[CV]  colsample_bytree=0.7, gamma=1, learning_rate=0.02725698887825448, max_depth=11, n_estimators=100, reg_alpha=1, subsample=0.8, score=-1852521827.128, total=   0.9s\n",
      "[CV] colsample_bytree=0.7, gamma=1, learning_rate=0.02725698887825448, max_depth=11, n_estimators=100, reg_alpha=1, subsample=0.8 \n",
      "[CV]  colsample_bytree=0.7, gamma=1, learning_rate=0.02725698887825448, max_depth=11, n_estimators=100, reg_alpha=1, subsample=0.8, score=-2057239094.580, total=   0.9s\n",
      "[CV] colsample_bytree=0.7, gamma=1, learning_rate=0.02725698887825448, max_depth=11, n_estimators=100, reg_alpha=1, subsample=0.8 \n",
      "[CV]  colsample_bytree=0.7, gamma=1, learning_rate=0.02725698887825448, max_depth=11, n_estimators=100, reg_alpha=1, subsample=0.8, score=-663261356.603, total=   0.9s\n",
      "[CV] colsample_bytree=0.7, gamma=1, learning_rate=0.02725698887825448, max_depth=11, n_estimators=100, reg_alpha=1, subsample=0.8 \n",
      "[CV]  colsample_bytree=0.7, gamma=1, learning_rate=0.02725698887825448, max_depth=11, n_estimators=100, reg_alpha=1, subsample=0.8, score=-777733638.229, total=   0.9s\n",
      "[CV] colsample_bytree=0.7, gamma=1, learning_rate=0.02725698887825448, max_depth=11, n_estimators=100, reg_alpha=1, subsample=0.8 \n",
      "[CV]  colsample_bytree=0.7, gamma=1, learning_rate=0.02725698887825448, max_depth=11, n_estimators=100, reg_alpha=1, subsample=0.8, score=-596000047.436, total=   0.9s\n",
      "[CV] colsample_bytree=0.7, gamma=1, learning_rate=0.02725698887825448, max_depth=11, n_estimators=100, reg_alpha=1, subsample=0.8 \n",
      "[CV]  colsample_bytree=0.7, gamma=1, learning_rate=0.02725698887825448, max_depth=11, n_estimators=100, reg_alpha=1, subsample=0.8, score=-775905915.717, total=   0.9s\n",
      "[CV] colsample_bytree=0.7, gamma=1, learning_rate=0.02725698887825448, max_depth=11, n_estimators=100, reg_alpha=1, subsample=0.8 \n",
      "[CV]  colsample_bytree=0.7, gamma=1, learning_rate=0.02725698887825448, max_depth=11, n_estimators=100, reg_alpha=1, subsample=0.8, score=-1246570740.215, total=   0.9s\n",
      "[CV] colsample_bytree=0.7, gamma=1, learning_rate=0.02725698887825448, max_depth=11, n_estimators=100, reg_alpha=1, subsample=0.8 \n",
      "[CV]  colsample_bytree=0.7, gamma=1, learning_rate=0.02725698887825448, max_depth=11, n_estimators=100, reg_alpha=1, subsample=0.8, score=-1794537517.278, total=   0.9s\n",
      "[CV] colsample_bytree=0.7, gamma=1, learning_rate=0.02725698887825448, max_depth=11, n_estimators=100, reg_alpha=1, subsample=0.8 \n",
      "[CV]  colsample_bytree=0.7, gamma=1, learning_rate=0.02725698887825448, max_depth=11, n_estimators=100, reg_alpha=1, subsample=0.8, score=-756226695.258, total=   0.9s\n",
      "[CV] colsample_bytree=0.7, gamma=1, learning_rate=0.02725698887825448, max_depth=11, n_estimators=100, reg_alpha=1, subsample=0.8 \n",
      "[CV]  colsample_bytree=0.7, gamma=1, learning_rate=0.02725698887825448, max_depth=11, n_estimators=100, reg_alpha=1, subsample=0.8, score=-1024157601.595, total=   0.9s\n",
      "[CV] colsample_bytree=0.8, gamma=0, learning_rate=0.01195812672176814, max_depth=5, n_estimators=50, reg_alpha=1, subsample=0.8 \n",
      "[CV]  colsample_bytree=0.8, gamma=0, learning_rate=0.01195812672176814, max_depth=5, n_estimators=50, reg_alpha=1, subsample=0.8, score=-17500189546.861, total=   0.3s\n",
      "[CV] colsample_bytree=0.8, gamma=0, learning_rate=0.01195812672176814, max_depth=5, n_estimators=50, reg_alpha=1, subsample=0.8 \n",
      "[CV]  colsample_bytree=0.8, gamma=0, learning_rate=0.01195812672176814, max_depth=5, n_estimators=50, reg_alpha=1, subsample=0.8, score=-15377810321.287, total=   0.3s\n",
      "[CV] colsample_bytree=0.8, gamma=0, learning_rate=0.01195812672176814, max_depth=5, n_estimators=50, reg_alpha=1, subsample=0.8 \n",
      "[CV]  colsample_bytree=0.8, gamma=0, learning_rate=0.01195812672176814, max_depth=5, n_estimators=50, reg_alpha=1, subsample=0.8, score=-9745354370.736, total=   0.3s\n",
      "[CV] colsample_bytree=0.8, gamma=0, learning_rate=0.01195812672176814, max_depth=5, n_estimators=50, reg_alpha=1, subsample=0.8 \n",
      "[CV]  colsample_bytree=0.8, gamma=0, learning_rate=0.01195812672176814, max_depth=5, n_estimators=50, reg_alpha=1, subsample=0.8, score=-12694294567.395, total=   0.3s\n",
      "[CV] colsample_bytree=0.8, gamma=0, learning_rate=0.01195812672176814, max_depth=5, n_estimators=50, reg_alpha=1, subsample=0.8 \n",
      "[CV]  colsample_bytree=0.8, gamma=0, learning_rate=0.01195812672176814, max_depth=5, n_estimators=50, reg_alpha=1, subsample=0.8, score=-12056422678.699, total=   0.2s\n",
      "[CV] colsample_bytree=0.8, gamma=0, learning_rate=0.01195812672176814, max_depth=5, n_estimators=50, reg_alpha=1, subsample=0.8 \n",
      "[CV]  colsample_bytree=0.8, gamma=0, learning_rate=0.01195812672176814, max_depth=5, n_estimators=50, reg_alpha=1, subsample=0.8, score=-13483717212.100, total=   0.3s\n",
      "[CV] colsample_bytree=0.8, gamma=0, learning_rate=0.01195812672176814, max_depth=5, n_estimators=50, reg_alpha=1, subsample=0.8 \n",
      "[CV]  colsample_bytree=0.8, gamma=0, learning_rate=0.01195812672176814, max_depth=5, n_estimators=50, reg_alpha=1, subsample=0.8, score=-13336622914.487, total=   0.3s\n",
      "[CV] colsample_bytree=0.8, gamma=0, learning_rate=0.01195812672176814, max_depth=5, n_estimators=50, reg_alpha=1, subsample=0.8 \n",
      "[CV]  colsample_bytree=0.8, gamma=0, learning_rate=0.01195812672176814, max_depth=5, n_estimators=50, reg_alpha=1, subsample=0.8, score=-16149275412.472, total=   0.3s\n",
      "[CV] colsample_bytree=0.8, gamma=0, learning_rate=0.01195812672176814, max_depth=5, n_estimators=50, reg_alpha=1, subsample=0.8 \n",
      "[CV]  colsample_bytree=0.8, gamma=0, learning_rate=0.01195812672176814, max_depth=5, n_estimators=50, reg_alpha=1, subsample=0.8, score=-14724950244.638, total=   0.3s\n",
      "[CV] colsample_bytree=0.8, gamma=0, learning_rate=0.01195812672176814, max_depth=5, n_estimators=50, reg_alpha=1, subsample=0.8 \n",
      "[CV]  colsample_bytree=0.8, gamma=0, learning_rate=0.01195812672176814, max_depth=5, n_estimators=50, reg_alpha=1, subsample=0.8, score=-13458296763.213, total=   0.3s\n",
      "[CV] colsample_bytree=0.7, gamma=0, learning_rate=0.08722326054367144, max_depth=7, n_estimators=100, reg_alpha=0.5, subsample=0.9 \n"
     ]
    },
    {
     "name": "stdout",
     "output_type": "stream",
     "text": [
      "[CV]  colsample_bytree=0.7, gamma=0, learning_rate=0.08722326054367144, max_depth=7, n_estimators=100, reg_alpha=0.5, subsample=0.9, score=-1146811543.477, total=   0.6s\n",
      "[CV] colsample_bytree=0.7, gamma=0, learning_rate=0.08722326054367144, max_depth=7, n_estimators=100, reg_alpha=0.5, subsample=0.9 \n",
      "[CV]  colsample_bytree=0.7, gamma=0, learning_rate=0.08722326054367144, max_depth=7, n_estimators=100, reg_alpha=0.5, subsample=0.9, score=-1492253883.443, total=   0.7s\n",
      "[CV] colsample_bytree=0.7, gamma=0, learning_rate=0.08722326054367144, max_depth=7, n_estimators=100, reg_alpha=0.5, subsample=0.9 \n",
      "[CV]  colsample_bytree=0.7, gamma=0, learning_rate=0.08722326054367144, max_depth=7, n_estimators=100, reg_alpha=0.5, subsample=0.9, score=-845140160.211, total=   0.6s\n",
      "[CV] colsample_bytree=0.7, gamma=0, learning_rate=0.08722326054367144, max_depth=7, n_estimators=100, reg_alpha=0.5, subsample=0.9 \n",
      "[CV]  colsample_bytree=0.7, gamma=0, learning_rate=0.08722326054367144, max_depth=7, n_estimators=100, reg_alpha=0.5, subsample=0.9, score=-488041578.053, total=   0.6s\n",
      "[CV] colsample_bytree=0.7, gamma=0, learning_rate=0.08722326054367144, max_depth=7, n_estimators=100, reg_alpha=0.5, subsample=0.9 \n",
      "[CV]  colsample_bytree=0.7, gamma=0, learning_rate=0.08722326054367144, max_depth=7, n_estimators=100, reg_alpha=0.5, subsample=0.9, score=-406391960.499, total=   0.7s\n",
      "[CV] colsample_bytree=0.7, gamma=0, learning_rate=0.08722326054367144, max_depth=7, n_estimators=100, reg_alpha=0.5, subsample=0.9 \n",
      "[CV]  colsample_bytree=0.7, gamma=0, learning_rate=0.08722326054367144, max_depth=7, n_estimators=100, reg_alpha=0.5, subsample=0.9, score=-484106156.223, total=   0.6s\n",
      "[CV] colsample_bytree=0.7, gamma=0, learning_rate=0.08722326054367144, max_depth=7, n_estimators=100, reg_alpha=0.5, subsample=0.9 \n",
      "[CV]  colsample_bytree=0.7, gamma=0, learning_rate=0.08722326054367144, max_depth=7, n_estimators=100, reg_alpha=0.5, subsample=0.9, score=-790253656.263, total=   0.6s\n",
      "[CV] colsample_bytree=0.7, gamma=0, learning_rate=0.08722326054367144, max_depth=7, n_estimators=100, reg_alpha=0.5, subsample=0.9 \n",
      "[CV]  colsample_bytree=0.7, gamma=0, learning_rate=0.08722326054367144, max_depth=7, n_estimators=100, reg_alpha=0.5, subsample=0.9, score=-1153230878.116, total=   0.6s\n",
      "[CV] colsample_bytree=0.7, gamma=0, learning_rate=0.08722326054367144, max_depth=7, n_estimators=100, reg_alpha=0.5, subsample=0.9 \n",
      "[CV]  colsample_bytree=0.7, gamma=0, learning_rate=0.08722326054367144, max_depth=7, n_estimators=100, reg_alpha=0.5, subsample=0.9, score=-481688783.116, total=   0.7s\n",
      "[CV] colsample_bytree=0.7, gamma=0, learning_rate=0.08722326054367144, max_depth=7, n_estimators=100, reg_alpha=0.5, subsample=0.9 \n",
      "[CV]  colsample_bytree=0.7, gamma=0, learning_rate=0.08722326054367144, max_depth=7, n_estimators=100, reg_alpha=0.5, subsample=0.9, score=-608877064.915, total=   0.6s\n",
      "[CV] colsample_bytree=0.7, gamma=1, learning_rate=0.09815143793248983, max_depth=7, n_estimators=300, reg_alpha=0.5, subsample=0.9 \n",
      "[CV]  colsample_bytree=0.7, gamma=1, learning_rate=0.09815143793248983, max_depth=7, n_estimators=300, reg_alpha=0.5, subsample=0.9, score=-1099467605.318, total=   1.9s\n",
      "[CV] colsample_bytree=0.7, gamma=1, learning_rate=0.09815143793248983, max_depth=7, n_estimators=300, reg_alpha=0.5, subsample=0.9 \n",
      "[CV]  colsample_bytree=0.7, gamma=1, learning_rate=0.09815143793248983, max_depth=7, n_estimators=300, reg_alpha=0.5, subsample=0.9, score=-1595284914.319, total=   2.0s\n",
      "[CV] colsample_bytree=0.7, gamma=1, learning_rate=0.09815143793248983, max_depth=7, n_estimators=300, reg_alpha=0.5, subsample=0.9 \n",
      "[CV]  colsample_bytree=0.7, gamma=1, learning_rate=0.09815143793248983, max_depth=7, n_estimators=300, reg_alpha=0.5, subsample=0.9, score=-870104540.946, total=   1.9s\n",
      "[CV] colsample_bytree=0.7, gamma=1, learning_rate=0.09815143793248983, max_depth=7, n_estimators=300, reg_alpha=0.5, subsample=0.9 \n",
      "[CV]  colsample_bytree=0.7, gamma=1, learning_rate=0.09815143793248983, max_depth=7, n_estimators=300, reg_alpha=0.5, subsample=0.9, score=-493213671.846, total=   1.9s\n",
      "[CV] colsample_bytree=0.7, gamma=1, learning_rate=0.09815143793248983, max_depth=7, n_estimators=300, reg_alpha=0.5, subsample=0.9 \n",
      "[CV]  colsample_bytree=0.7, gamma=1, learning_rate=0.09815143793248983, max_depth=7, n_estimators=300, reg_alpha=0.5, subsample=0.9, score=-395272779.369, total=   1.9s\n",
      "[CV] colsample_bytree=0.7, gamma=1, learning_rate=0.09815143793248983, max_depth=7, n_estimators=300, reg_alpha=0.5, subsample=0.9 \n",
      "[CV]  colsample_bytree=0.7, gamma=1, learning_rate=0.09815143793248983, max_depth=7, n_estimators=300, reg_alpha=0.5, subsample=0.9, score=-542449915.331, total=   2.0s\n",
      "[CV] colsample_bytree=0.7, gamma=1, learning_rate=0.09815143793248983, max_depth=7, n_estimators=300, reg_alpha=0.5, subsample=0.9 \n",
      "[CV]  colsample_bytree=0.7, gamma=1, learning_rate=0.09815143793248983, max_depth=7, n_estimators=300, reg_alpha=0.5, subsample=0.9, score=-677715867.979, total=   2.1s\n",
      "[CV] colsample_bytree=0.7, gamma=1, learning_rate=0.09815143793248983, max_depth=7, n_estimators=300, reg_alpha=0.5, subsample=0.9 \n",
      "[CV]  colsample_bytree=0.7, gamma=1, learning_rate=0.09815143793248983, max_depth=7, n_estimators=300, reg_alpha=0.5, subsample=0.9, score=-1101202359.633, total=   2.0s\n",
      "[CV] colsample_bytree=0.7, gamma=1, learning_rate=0.09815143793248983, max_depth=7, n_estimators=300, reg_alpha=0.5, subsample=0.9 \n",
      "[CV]  colsample_bytree=0.7, gamma=1, learning_rate=0.09815143793248983, max_depth=7, n_estimators=300, reg_alpha=0.5, subsample=0.9, score=-436478902.970, total=   2.0s\n",
      "[CV] colsample_bytree=0.7, gamma=1, learning_rate=0.09815143793248983, max_depth=7, n_estimators=300, reg_alpha=0.5, subsample=0.9 \n",
      "[CV]  colsample_bytree=0.7, gamma=1, learning_rate=0.09815143793248983, max_depth=7, n_estimators=300, reg_alpha=0.5, subsample=0.9, score=-597256124.360, total=   2.0s\n",
      "[CV] colsample_bytree=0.7, gamma=0.5, learning_rate=0.07151502643346279, max_depth=7, n_estimators=200, reg_alpha=1, subsample=0.8 \n",
      "[CV]  colsample_bytree=0.7, gamma=0.5, learning_rate=0.07151502643346279, max_depth=7, n_estimators=200, reg_alpha=1, subsample=0.8, score=-1090494354.282, total=   1.3s\n",
      "[CV] colsample_bytree=0.7, gamma=0.5, learning_rate=0.07151502643346279, max_depth=7, n_estimators=200, reg_alpha=1, subsample=0.8 \n",
      "[CV]  colsample_bytree=0.7, gamma=0.5, learning_rate=0.07151502643346279, max_depth=7, n_estimators=200, reg_alpha=1, subsample=0.8, score=-1250414299.493, total=   1.3s\n",
      "[CV] colsample_bytree=0.7, gamma=0.5, learning_rate=0.07151502643346279, max_depth=7, n_estimators=200, reg_alpha=1, subsample=0.8 \n",
      "[CV]  colsample_bytree=0.7, gamma=0.5, learning_rate=0.07151502643346279, max_depth=7, n_estimators=200, reg_alpha=1, subsample=0.8, score=-871977798.785, total=   1.4s\n",
      "[CV] colsample_bytree=0.7, gamma=0.5, learning_rate=0.07151502643346279, max_depth=7, n_estimators=200, reg_alpha=1, subsample=0.8 \n",
      "[CV]  colsample_bytree=0.7, gamma=0.5, learning_rate=0.07151502643346279, max_depth=7, n_estimators=200, reg_alpha=1, subsample=0.8, score=-505701415.634, total=   1.4s\n",
      "[CV] colsample_bytree=0.7, gamma=0.5, learning_rate=0.07151502643346279, max_depth=7, n_estimators=200, reg_alpha=1, subsample=0.8 \n",
      "[CV]  colsample_bytree=0.7, gamma=0.5, learning_rate=0.07151502643346279, max_depth=7, n_estimators=200, reg_alpha=1, subsample=0.8, score=-411385507.542, total=   1.3s\n",
      "[CV] colsample_bytree=0.7, gamma=0.5, learning_rate=0.07151502643346279, max_depth=7, n_estimators=200, reg_alpha=1, subsample=0.8 \n",
      "[CV]  colsample_bytree=0.7, gamma=0.5, learning_rate=0.07151502643346279, max_depth=7, n_estimators=200, reg_alpha=1, subsample=0.8, score=-475804415.299, total=   1.4s\n",
      "[CV] colsample_bytree=0.7, gamma=0.5, learning_rate=0.07151502643346279, max_depth=7, n_estimators=200, reg_alpha=1, subsample=0.8 \n",
      "[CV]  colsample_bytree=0.7, gamma=0.5, learning_rate=0.07151502643346279, max_depth=7, n_estimators=200, reg_alpha=1, subsample=0.8, score=-682196182.380, total=   1.3s\n",
      "[CV] colsample_bytree=0.7, gamma=0.5, learning_rate=0.07151502643346279, max_depth=7, n_estimators=200, reg_alpha=1, subsample=0.8 \n",
      "[CV]  colsample_bytree=0.7, gamma=0.5, learning_rate=0.07151502643346279, max_depth=7, n_estimators=200, reg_alpha=1, subsample=0.8, score=-1149041938.877, total=   1.3s\n",
      "[CV] colsample_bytree=0.7, gamma=0.5, learning_rate=0.07151502643346279, max_depth=7, n_estimators=200, reg_alpha=1, subsample=0.8 \n"
     ]
    },
    {
     "name": "stdout",
     "output_type": "stream",
     "text": [
      "[CV]  colsample_bytree=0.7, gamma=0.5, learning_rate=0.07151502643346279, max_depth=7, n_estimators=200, reg_alpha=1, subsample=0.8, score=-487301495.260, total=   1.4s\n",
      "[CV] colsample_bytree=0.7, gamma=0.5, learning_rate=0.07151502643346279, max_depth=7, n_estimators=200, reg_alpha=1, subsample=0.8 \n",
      "[CV]  colsample_bytree=0.7, gamma=0.5, learning_rate=0.07151502643346279, max_depth=7, n_estimators=200, reg_alpha=1, subsample=0.8, score=-628706361.334, total=   1.3s\n",
      "[CV] colsample_bytree=0.9, gamma=0.5, learning_rate=0.026550643275559553, max_depth=7, n_estimators=100, reg_alpha=0, subsample=0.9 \n",
      "[CV]  colsample_bytree=0.9, gamma=0.5, learning_rate=0.026550643275559553, max_depth=7, n_estimators=100, reg_alpha=0, subsample=0.9, score=-1909106192.410, total=   0.8s\n",
      "[CV] colsample_bytree=0.9, gamma=0.5, learning_rate=0.026550643275559553, max_depth=7, n_estimators=100, reg_alpha=0, subsample=0.9 \n",
      "[CV]  colsample_bytree=0.9, gamma=0.5, learning_rate=0.026550643275559553, max_depth=7, n_estimators=100, reg_alpha=0, subsample=0.9, score=-2596483000.979, total=   0.8s\n",
      "[CV] colsample_bytree=0.9, gamma=0.5, learning_rate=0.026550643275559553, max_depth=7, n_estimators=100, reg_alpha=0, subsample=0.9 \n",
      "[CV]  colsample_bytree=0.9, gamma=0.5, learning_rate=0.026550643275559553, max_depth=7, n_estimators=100, reg_alpha=0, subsample=0.9, score=-692038572.346, total=   0.8s\n",
      "[CV] colsample_bytree=0.9, gamma=0.5, learning_rate=0.026550643275559553, max_depth=7, n_estimators=100, reg_alpha=0, subsample=0.9 \n",
      "[CV]  colsample_bytree=0.9, gamma=0.5, learning_rate=0.026550643275559553, max_depth=7, n_estimators=100, reg_alpha=0, subsample=0.9, score=-842087423.607, total=   0.8s\n",
      "[CV] colsample_bytree=0.9, gamma=0.5, learning_rate=0.026550643275559553, max_depth=7, n_estimators=100, reg_alpha=0, subsample=0.9 \n",
      "[CV]  colsample_bytree=0.9, gamma=0.5, learning_rate=0.026550643275559553, max_depth=7, n_estimators=100, reg_alpha=0, subsample=0.9, score=-620581040.571, total=   0.8s\n",
      "[CV] colsample_bytree=0.9, gamma=0.5, learning_rate=0.026550643275559553, max_depth=7, n_estimators=100, reg_alpha=0, subsample=0.9 \n",
      "[CV]  colsample_bytree=0.9, gamma=0.5, learning_rate=0.026550643275559553, max_depth=7, n_estimators=100, reg_alpha=0, subsample=0.9, score=-775006698.740, total=   0.8s\n",
      "[CV] colsample_bytree=0.9, gamma=0.5, learning_rate=0.026550643275559553, max_depth=7, n_estimators=100, reg_alpha=0, subsample=0.9 \n",
      "[CV]  colsample_bytree=0.9, gamma=0.5, learning_rate=0.026550643275559553, max_depth=7, n_estimators=100, reg_alpha=0, subsample=0.9, score=-1235664259.759, total=   0.8s\n",
      "[CV] colsample_bytree=0.9, gamma=0.5, learning_rate=0.026550643275559553, max_depth=7, n_estimators=100, reg_alpha=0, subsample=0.9 \n",
      "[CV]  colsample_bytree=0.9, gamma=0.5, learning_rate=0.026550643275559553, max_depth=7, n_estimators=100, reg_alpha=0, subsample=0.9, score=-1797525881.845, total=   0.8s\n",
      "[CV] colsample_bytree=0.9, gamma=0.5, learning_rate=0.026550643275559553, max_depth=7, n_estimators=100, reg_alpha=0, subsample=0.9 \n",
      "[CV]  colsample_bytree=0.9, gamma=0.5, learning_rate=0.026550643275559553, max_depth=7, n_estimators=100, reg_alpha=0, subsample=0.9, score=-788469123.182, total=   0.8s\n",
      "[CV] colsample_bytree=0.9, gamma=0.5, learning_rate=0.026550643275559553, max_depth=7, n_estimators=100, reg_alpha=0, subsample=0.9 \n",
      "[CV]  colsample_bytree=0.9, gamma=0.5, learning_rate=0.026550643275559553, max_depth=7, n_estimators=100, reg_alpha=0, subsample=0.9, score=-1045617839.558, total=   0.8s\n",
      "[CV] colsample_bytree=0.7, gamma=0.5, learning_rate=0.07214631118124297, max_depth=11, n_estimators=50, reg_alpha=0, subsample=0.7 \n",
      "[CV]  colsample_bytree=0.7, gamma=0.5, learning_rate=0.07214631118124297, max_depth=11, n_estimators=50, reg_alpha=0, subsample=0.7, score=-1299926259.464, total=   0.5s\n",
      "[CV] colsample_bytree=0.7, gamma=0.5, learning_rate=0.07214631118124297, max_depth=11, n_estimators=50, reg_alpha=0, subsample=0.7 \n",
      "[CV]  colsample_bytree=0.7, gamma=0.5, learning_rate=0.07214631118124297, max_depth=11, n_estimators=50, reg_alpha=0, subsample=0.7, score=-1587993660.796, total=   0.5s\n",
      "[CV] colsample_bytree=0.7, gamma=0.5, learning_rate=0.07214631118124297, max_depth=11, n_estimators=50, reg_alpha=0, subsample=0.7 \n",
      "[CV]  colsample_bytree=0.7, gamma=0.5, learning_rate=0.07214631118124297, max_depth=11, n_estimators=50, reg_alpha=0, subsample=0.7, score=-552970291.018, total=   0.5s\n",
      "[CV] colsample_bytree=0.7, gamma=0.5, learning_rate=0.07214631118124297, max_depth=11, n_estimators=50, reg_alpha=0, subsample=0.7 \n",
      "[CV]  colsample_bytree=0.7, gamma=0.5, learning_rate=0.07214631118124297, max_depth=11, n_estimators=50, reg_alpha=0, subsample=0.7, score=-579075968.415, total=   0.5s\n",
      "[CV] colsample_bytree=0.7, gamma=0.5, learning_rate=0.07214631118124297, max_depth=11, n_estimators=50, reg_alpha=0, subsample=0.7 \n",
      "[CV]  colsample_bytree=0.7, gamma=0.5, learning_rate=0.07214631118124297, max_depth=11, n_estimators=50, reg_alpha=0, subsample=0.7, score=-505278027.652, total=   0.5s\n",
      "[CV] colsample_bytree=0.7, gamma=0.5, learning_rate=0.07214631118124297, max_depth=11, n_estimators=50, reg_alpha=0, subsample=0.7 \n",
      "[CV]  colsample_bytree=0.7, gamma=0.5, learning_rate=0.07214631118124297, max_depth=11, n_estimators=50, reg_alpha=0, subsample=0.7, score=-541299755.421, total=   0.5s\n",
      "[CV] colsample_bytree=0.7, gamma=0.5, learning_rate=0.07214631118124297, max_depth=11, n_estimators=50, reg_alpha=0, subsample=0.7 \n",
      "[CV]  colsample_bytree=0.7, gamma=0.5, learning_rate=0.07214631118124297, max_depth=11, n_estimators=50, reg_alpha=0, subsample=0.7, score=-848021106.485, total=   0.5s\n",
      "[CV] colsample_bytree=0.7, gamma=0.5, learning_rate=0.07214631118124297, max_depth=11, n_estimators=50, reg_alpha=0, subsample=0.7 \n",
      "[CV]  colsample_bytree=0.7, gamma=0.5, learning_rate=0.07214631118124297, max_depth=11, n_estimators=50, reg_alpha=0, subsample=0.7, score=-1454190070.853, total=   0.5s\n",
      "[CV] colsample_bytree=0.7, gamma=0.5, learning_rate=0.07214631118124297, max_depth=11, n_estimators=50, reg_alpha=0, subsample=0.7 \n",
      "[CV]  colsample_bytree=0.7, gamma=0.5, learning_rate=0.07214631118124297, max_depth=11, n_estimators=50, reg_alpha=0, subsample=0.7, score=-522297733.105, total=   0.5s\n",
      "[CV] colsample_bytree=0.7, gamma=0.5, learning_rate=0.07214631118124297, max_depth=11, n_estimators=50, reg_alpha=0, subsample=0.7 \n",
      "[CV]  colsample_bytree=0.7, gamma=0.5, learning_rate=0.07214631118124297, max_depth=11, n_estimators=50, reg_alpha=0, subsample=0.7, score=-757612131.675, total=   0.5s\n",
      "[CV] colsample_bytree=0.8, gamma=0, learning_rate=0.06153752424460887, max_depth=11, n_estimators=200, reg_alpha=0.5, subsample=0.7 \n",
      "[CV]  colsample_bytree=0.8, gamma=0, learning_rate=0.06153752424460887, max_depth=11, n_estimators=200, reg_alpha=0.5, subsample=0.7, score=-1127322781.924, total=   2.3s\n",
      "[CV] colsample_bytree=0.8, gamma=0, learning_rate=0.06153752424460887, max_depth=11, n_estimators=200, reg_alpha=0.5, subsample=0.7 \n",
      "[CV]  colsample_bytree=0.8, gamma=0, learning_rate=0.06153752424460887, max_depth=11, n_estimators=200, reg_alpha=0.5, subsample=0.7, score=-1594781498.297, total=   2.3s\n",
      "[CV] colsample_bytree=0.8, gamma=0, learning_rate=0.06153752424460887, max_depth=11, n_estimators=200, reg_alpha=0.5, subsample=0.7 \n",
      "[CV]  colsample_bytree=0.8, gamma=0, learning_rate=0.06153752424460887, max_depth=11, n_estimators=200, reg_alpha=0.5, subsample=0.7, score=-810910896.171, total=   2.4s\n",
      "[CV] colsample_bytree=0.8, gamma=0, learning_rate=0.06153752424460887, max_depth=11, n_estimators=200, reg_alpha=0.5, subsample=0.7 \n",
      "[CV]  colsample_bytree=0.8, gamma=0, learning_rate=0.06153752424460887, max_depth=11, n_estimators=200, reg_alpha=0.5, subsample=0.7, score=-501731423.960, total=   2.3s\n",
      "[CV] colsample_bytree=0.8, gamma=0, learning_rate=0.06153752424460887, max_depth=11, n_estimators=200, reg_alpha=0.5, subsample=0.7 \n",
      "[CV]  colsample_bytree=0.8, gamma=0, learning_rate=0.06153752424460887, max_depth=11, n_estimators=200, reg_alpha=0.5, subsample=0.7, score=-437548540.327, total=   2.3s\n",
      "[CV] colsample_bytree=0.8, gamma=0, learning_rate=0.06153752424460887, max_depth=11, n_estimators=200, reg_alpha=0.5, subsample=0.7 \n",
      "[CV]  colsample_bytree=0.8, gamma=0, learning_rate=0.06153752424460887, max_depth=11, n_estimators=200, reg_alpha=0.5, subsample=0.7, score=-480816232.433, total=   2.3s\n",
      "[CV] colsample_bytree=0.8, gamma=0, learning_rate=0.06153752424460887, max_depth=11, n_estimators=200, reg_alpha=0.5, subsample=0.7 \n"
     ]
    },
    {
     "name": "stdout",
     "output_type": "stream",
     "text": [
      "[CV]  colsample_bytree=0.8, gamma=0, learning_rate=0.06153752424460887, max_depth=11, n_estimators=200, reg_alpha=0.5, subsample=0.7, score=-727781788.782, total=   2.2s\n",
      "[CV] colsample_bytree=0.8, gamma=0, learning_rate=0.06153752424460887, max_depth=11, n_estimators=200, reg_alpha=0.5, subsample=0.7 \n",
      "[CV]  colsample_bytree=0.8, gamma=0, learning_rate=0.06153752424460887, max_depth=11, n_estimators=200, reg_alpha=0.5, subsample=0.7, score=-1126730210.962, total=   2.3s\n",
      "[CV] colsample_bytree=0.8, gamma=0, learning_rate=0.06153752424460887, max_depth=11, n_estimators=200, reg_alpha=0.5, subsample=0.7 \n",
      "[CV]  colsample_bytree=0.8, gamma=0, learning_rate=0.06153752424460887, max_depth=11, n_estimators=200, reg_alpha=0.5, subsample=0.7, score=-479446509.259, total=   2.3s\n",
      "[CV] colsample_bytree=0.8, gamma=0, learning_rate=0.06153752424460887, max_depth=11, n_estimators=200, reg_alpha=0.5, subsample=0.7 \n",
      "[CV]  colsample_bytree=0.8, gamma=0, learning_rate=0.06153752424460887, max_depth=11, n_estimators=200, reg_alpha=0.5, subsample=0.7, score=-602251407.119, total=   2.3s\n",
      "[CV] colsample_bytree=0.7, gamma=1, learning_rate=0.07466205438491941, max_depth=7, n_estimators=300, reg_alpha=0.5, subsample=0.7 \n",
      "[CV]  colsample_bytree=0.7, gamma=1, learning_rate=0.07466205438491941, max_depth=7, n_estimators=300, reg_alpha=0.5, subsample=0.7, score=-1031792521.122, total=   2.0s\n",
      "[CV] colsample_bytree=0.7, gamma=1, learning_rate=0.07466205438491941, max_depth=7, n_estimators=300, reg_alpha=0.5, subsample=0.7 \n",
      "[CV]  colsample_bytree=0.7, gamma=1, learning_rate=0.07466205438491941, max_depth=7, n_estimators=300, reg_alpha=0.5, subsample=0.7, score=-1196946146.800, total=   2.0s\n",
      "[CV] colsample_bytree=0.7, gamma=1, learning_rate=0.07466205438491941, max_depth=7, n_estimators=300, reg_alpha=0.5, subsample=0.7 \n",
      "[CV]  colsample_bytree=0.7, gamma=1, learning_rate=0.07466205438491941, max_depth=7, n_estimators=300, reg_alpha=0.5, subsample=0.7, score=-657792104.096, total=   2.0s\n",
      "[CV] colsample_bytree=0.7, gamma=1, learning_rate=0.07466205438491941, max_depth=7, n_estimators=300, reg_alpha=0.5, subsample=0.7 \n",
      "[CV]  colsample_bytree=0.7, gamma=1, learning_rate=0.07466205438491941, max_depth=7, n_estimators=300, reg_alpha=0.5, subsample=0.7, score=-497645053.593, total=   2.1s\n",
      "[CV] colsample_bytree=0.7, gamma=1, learning_rate=0.07466205438491941, max_depth=7, n_estimators=300, reg_alpha=0.5, subsample=0.7 \n",
      "[CV]  colsample_bytree=0.7, gamma=1, learning_rate=0.07466205438491941, max_depth=7, n_estimators=300, reg_alpha=0.5, subsample=0.7, score=-398894277.459, total=   2.0s\n",
      "[CV] colsample_bytree=0.7, gamma=1, learning_rate=0.07466205438491941, max_depth=7, n_estimators=300, reg_alpha=0.5, subsample=0.7 \n",
      "[CV]  colsample_bytree=0.7, gamma=1, learning_rate=0.07466205438491941, max_depth=7, n_estimators=300, reg_alpha=0.5, subsample=0.7, score=-508653751.478, total=   2.0s\n",
      "[CV] colsample_bytree=0.7, gamma=1, learning_rate=0.07466205438491941, max_depth=7, n_estimators=300, reg_alpha=0.5, subsample=0.7 \n",
      "[CV]  colsample_bytree=0.7, gamma=1, learning_rate=0.07466205438491941, max_depth=7, n_estimators=300, reg_alpha=0.5, subsample=0.7, score=-692454007.631, total=   2.1s\n",
      "[CV] colsample_bytree=0.7, gamma=1, learning_rate=0.07466205438491941, max_depth=7, n_estimators=300, reg_alpha=0.5, subsample=0.7 \n",
      "[CV]  colsample_bytree=0.7, gamma=1, learning_rate=0.07466205438491941, max_depth=7, n_estimators=300, reg_alpha=0.5, subsample=0.7, score=-1098169383.303, total=   2.0s\n",
      "[CV] colsample_bytree=0.7, gamma=1, learning_rate=0.07466205438491941, max_depth=7, n_estimators=300, reg_alpha=0.5, subsample=0.7 \n",
      "[CV]  colsample_bytree=0.7, gamma=1, learning_rate=0.07466205438491941, max_depth=7, n_estimators=300, reg_alpha=0.5, subsample=0.7, score=-487104724.251, total=   2.0s\n",
      "[CV] colsample_bytree=0.7, gamma=1, learning_rate=0.07466205438491941, max_depth=7, n_estimators=300, reg_alpha=0.5, subsample=0.7 \n",
      "[CV]  colsample_bytree=0.7, gamma=1, learning_rate=0.07466205438491941, max_depth=7, n_estimators=300, reg_alpha=0.5, subsample=0.7, score=-610787930.761, total=   2.1s\n",
      "[CV] colsample_bytree=0.8, gamma=0, learning_rate=0.06790690909702118, max_depth=3, n_estimators=100, reg_alpha=0.5, subsample=0.9 \n",
      "[CV]  colsample_bytree=0.8, gamma=0, learning_rate=0.06790690909702118, max_depth=3, n_estimators=100, reg_alpha=0.5, subsample=0.9, score=-1025535835.055, total=   0.3s\n",
      "[CV] colsample_bytree=0.8, gamma=0, learning_rate=0.06790690909702118, max_depth=3, n_estimators=100, reg_alpha=0.5, subsample=0.9 \n",
      "[CV]  colsample_bytree=0.8, gamma=0, learning_rate=0.06790690909702118, max_depth=3, n_estimators=100, reg_alpha=0.5, subsample=0.9, score=-1763402839.790, total=   0.3s\n",
      "[CV] colsample_bytree=0.8, gamma=0, learning_rate=0.06790690909702118, max_depth=3, n_estimators=100, reg_alpha=0.5, subsample=0.9 \n",
      "[CV]  colsample_bytree=0.8, gamma=0, learning_rate=0.06790690909702118, max_depth=3, n_estimators=100, reg_alpha=0.5, subsample=0.9, score=-897977153.317, total=   0.3s\n",
      "[CV] colsample_bytree=0.8, gamma=0, learning_rate=0.06790690909702118, max_depth=3, n_estimators=100, reg_alpha=0.5, subsample=0.9 \n",
      "[CV]  colsample_bytree=0.8, gamma=0, learning_rate=0.06790690909702118, max_depth=3, n_estimators=100, reg_alpha=0.5, subsample=0.9, score=-533162028.544, total=   0.3s\n",
      "[CV] colsample_bytree=0.8, gamma=0, learning_rate=0.06790690909702118, max_depth=3, n_estimators=100, reg_alpha=0.5, subsample=0.9 \n",
      "[CV]  colsample_bytree=0.8, gamma=0, learning_rate=0.06790690909702118, max_depth=3, n_estimators=100, reg_alpha=0.5, subsample=0.9, score=-454261123.740, total=   0.3s\n",
      "[CV] colsample_bytree=0.8, gamma=0, learning_rate=0.06790690909702118, max_depth=3, n_estimators=100, reg_alpha=0.5, subsample=0.9 \n",
      "[CV]  colsample_bytree=0.8, gamma=0, learning_rate=0.06790690909702118, max_depth=3, n_estimators=100, reg_alpha=0.5, subsample=0.9, score=-513694116.886, total=   0.3s\n",
      "[CV] colsample_bytree=0.8, gamma=0, learning_rate=0.06790690909702118, max_depth=3, n_estimators=100, reg_alpha=0.5, subsample=0.9 \n",
      "[CV]  colsample_bytree=0.8, gamma=0, learning_rate=0.06790690909702118, max_depth=3, n_estimators=100, reg_alpha=0.5, subsample=0.9, score=-872529940.042, total=   0.3s\n",
      "[CV] colsample_bytree=0.8, gamma=0, learning_rate=0.06790690909702118, max_depth=3, n_estimators=100, reg_alpha=0.5, subsample=0.9 \n",
      "[CV]  colsample_bytree=0.8, gamma=0, learning_rate=0.06790690909702118, max_depth=3, n_estimators=100, reg_alpha=0.5, subsample=0.9, score=-1073392487.402, total=   0.3s\n",
      "[CV] colsample_bytree=0.8, gamma=0, learning_rate=0.06790690909702118, max_depth=3, n_estimators=100, reg_alpha=0.5, subsample=0.9 \n",
      "[CV]  colsample_bytree=0.8, gamma=0, learning_rate=0.06790690909702118, max_depth=3, n_estimators=100, reg_alpha=0.5, subsample=0.9, score=-493923783.569, total=   0.3s\n",
      "[CV] colsample_bytree=0.8, gamma=0, learning_rate=0.06790690909702118, max_depth=3, n_estimators=100, reg_alpha=0.5, subsample=0.9 \n",
      "[CV]  colsample_bytree=0.8, gamma=0, learning_rate=0.06790690909702118, max_depth=3, n_estimators=100, reg_alpha=0.5, subsample=0.9, score=-590608315.302, total=   0.3s\n",
      "[CV] colsample_bytree=0.8, gamma=1, learning_rate=0.10405158651191772, max_depth=11, n_estimators=200, reg_alpha=0.5, subsample=0.7 \n",
      "[CV]  colsample_bytree=0.8, gamma=1, learning_rate=0.10405158651191772, max_depth=11, n_estimators=200, reg_alpha=0.5, subsample=0.7, score=-1148967063.099, total=   2.4s\n",
      "[CV] colsample_bytree=0.8, gamma=1, learning_rate=0.10405158651191772, max_depth=11, n_estimators=200, reg_alpha=0.5, subsample=0.7 \n",
      "[CV]  colsample_bytree=0.8, gamma=1, learning_rate=0.10405158651191772, max_depth=11, n_estimators=200, reg_alpha=0.5, subsample=0.7, score=-1195222698.472, total=   2.4s\n",
      "[CV] colsample_bytree=0.8, gamma=1, learning_rate=0.10405158651191772, max_depth=11, n_estimators=200, reg_alpha=0.5, subsample=0.7 \n",
      "[CV]  colsample_bytree=0.8, gamma=1, learning_rate=0.10405158651191772, max_depth=11, n_estimators=200, reg_alpha=0.5, subsample=0.7, score=-875784534.620, total=   2.3s\n",
      "[CV] colsample_bytree=0.8, gamma=1, learning_rate=0.10405158651191772, max_depth=11, n_estimators=200, reg_alpha=0.5, subsample=0.7 \n",
      "[CV]  colsample_bytree=0.8, gamma=1, learning_rate=0.10405158651191772, max_depth=11, n_estimators=200, reg_alpha=0.5, subsample=0.7, score=-557805408.852, total=   2.4s\n",
      "[CV] colsample_bytree=0.8, gamma=1, learning_rate=0.10405158651191772, max_depth=11, n_estimators=200, reg_alpha=0.5, subsample=0.7 \n"
     ]
    },
    {
     "name": "stdout",
     "output_type": "stream",
     "text": [
      "[CV]  colsample_bytree=0.8, gamma=1, learning_rate=0.10405158651191772, max_depth=11, n_estimators=200, reg_alpha=0.5, subsample=0.7, score=-505548753.806, total=   2.3s\n",
      "[CV] colsample_bytree=0.8, gamma=1, learning_rate=0.10405158651191772, max_depth=11, n_estimators=200, reg_alpha=0.5, subsample=0.7 \n",
      "[CV]  colsample_bytree=0.8, gamma=1, learning_rate=0.10405158651191772, max_depth=11, n_estimators=200, reg_alpha=0.5, subsample=0.7, score=-559764162.839, total=   2.4s\n",
      "[CV] colsample_bytree=0.8, gamma=1, learning_rate=0.10405158651191772, max_depth=11, n_estimators=200, reg_alpha=0.5, subsample=0.7 \n",
      "[CV]  colsample_bytree=0.8, gamma=1, learning_rate=0.10405158651191772, max_depth=11, n_estimators=200, reg_alpha=0.5, subsample=0.7, score=-679217970.292, total=   3.1s\n",
      "[CV] colsample_bytree=0.8, gamma=1, learning_rate=0.10405158651191772, max_depth=11, n_estimators=200, reg_alpha=0.5, subsample=0.7 \n",
      "[CV]  colsample_bytree=0.8, gamma=1, learning_rate=0.10405158651191772, max_depth=11, n_estimators=200, reg_alpha=0.5, subsample=0.7, score=-1290780082.279, total=   2.4s\n",
      "[CV] colsample_bytree=0.8, gamma=1, learning_rate=0.10405158651191772, max_depth=11, n_estimators=200, reg_alpha=0.5, subsample=0.7 \n",
      "[CV]  colsample_bytree=0.8, gamma=1, learning_rate=0.10405158651191772, max_depth=11, n_estimators=200, reg_alpha=0.5, subsample=0.7, score=-598880068.420, total=   2.5s\n",
      "[CV] colsample_bytree=0.8, gamma=1, learning_rate=0.10405158651191772, max_depth=11, n_estimators=200, reg_alpha=0.5, subsample=0.7 \n",
      "[CV]  colsample_bytree=0.8, gamma=1, learning_rate=0.10405158651191772, max_depth=11, n_estimators=200, reg_alpha=0.5, subsample=0.7, score=-588571534.333, total=   2.6s\n",
      "[CV] colsample_bytree=0.9, gamma=1, learning_rate=0.05017433471413558, max_depth=11, n_estimators=300, reg_alpha=0.5, subsample=0.7 \n",
      "[CV]  colsample_bytree=0.9, gamma=1, learning_rate=0.05017433471413558, max_depth=11, n_estimators=300, reg_alpha=0.5, subsample=0.7, score=-1147837986.156, total=   3.9s\n",
      "[CV] colsample_bytree=0.9, gamma=1, learning_rate=0.05017433471413558, max_depth=11, n_estimators=300, reg_alpha=0.5, subsample=0.7 \n",
      "[CV]  colsample_bytree=0.9, gamma=1, learning_rate=0.05017433471413558, max_depth=11, n_estimators=300, reg_alpha=0.5, subsample=0.7, score=-1851922305.946, total=   3.9s\n",
      "[CV] colsample_bytree=0.9, gamma=1, learning_rate=0.05017433471413558, max_depth=11, n_estimators=300, reg_alpha=0.5, subsample=0.7 \n",
      "[CV]  colsample_bytree=0.9, gamma=1, learning_rate=0.05017433471413558, max_depth=11, n_estimators=300, reg_alpha=0.5, subsample=0.7, score=-797104592.213, total=   3.8s\n",
      "[CV] colsample_bytree=0.9, gamma=1, learning_rate=0.05017433471413558, max_depth=11, n_estimators=300, reg_alpha=0.5, subsample=0.7 \n",
      "[CV]  colsample_bytree=0.9, gamma=1, learning_rate=0.05017433471413558, max_depth=11, n_estimators=300, reg_alpha=0.5, subsample=0.7, score=-514080925.419, total=   3.9s\n",
      "[CV] colsample_bytree=0.9, gamma=1, learning_rate=0.05017433471413558, max_depth=11, n_estimators=300, reg_alpha=0.5, subsample=0.7 \n",
      "[CV]  colsample_bytree=0.9, gamma=1, learning_rate=0.05017433471413558, max_depth=11, n_estimators=300, reg_alpha=0.5, subsample=0.7, score=-446608703.831, total=   4.0s\n",
      "[CV] colsample_bytree=0.9, gamma=1, learning_rate=0.05017433471413558, max_depth=11, n_estimators=300, reg_alpha=0.5, subsample=0.7 \n",
      "[CV]  colsample_bytree=0.9, gamma=1, learning_rate=0.05017433471413558, max_depth=11, n_estimators=300, reg_alpha=0.5, subsample=0.7, score=-552352265.165, total=   3.8s\n",
      "[CV] colsample_bytree=0.9, gamma=1, learning_rate=0.05017433471413558, max_depth=11, n_estimators=300, reg_alpha=0.5, subsample=0.7 \n",
      "[CV]  colsample_bytree=0.9, gamma=1, learning_rate=0.05017433471413558, max_depth=11, n_estimators=300, reg_alpha=0.5, subsample=0.7, score=-798809124.750, total=   3.9s\n",
      "[CV] colsample_bytree=0.9, gamma=1, learning_rate=0.05017433471413558, max_depth=11, n_estimators=300, reg_alpha=0.5, subsample=0.7 \n",
      "[CV]  colsample_bytree=0.9, gamma=1, learning_rate=0.05017433471413558, max_depth=11, n_estimators=300, reg_alpha=0.5, subsample=0.7, score=-1151927680.765, total=   3.8s\n",
      "[CV] colsample_bytree=0.9, gamma=1, learning_rate=0.05017433471413558, max_depth=11, n_estimators=300, reg_alpha=0.5, subsample=0.7 \n",
      "[CV]  colsample_bytree=0.9, gamma=1, learning_rate=0.05017433471413558, max_depth=11, n_estimators=300, reg_alpha=0.5, subsample=0.7, score=-484250212.779, total=   3.8s\n",
      "[CV] colsample_bytree=0.9, gamma=1, learning_rate=0.05017433471413558, max_depth=11, n_estimators=300, reg_alpha=0.5, subsample=0.7 \n",
      "[CV]  colsample_bytree=0.9, gamma=1, learning_rate=0.05017433471413558, max_depth=11, n_estimators=300, reg_alpha=0.5, subsample=0.7, score=-637818671.496, total=   3.8s\n",
      "[CV] colsample_bytree=0.9, gamma=0, learning_rate=0.050357902086392486, max_depth=7, n_estimators=300, reg_alpha=1, subsample=0.7 \n",
      "[CV]  colsample_bytree=0.9, gamma=0, learning_rate=0.050357902086392486, max_depth=7, n_estimators=300, reg_alpha=1, subsample=0.7, score=-1111737623.790, total=   2.4s\n",
      "[CV] colsample_bytree=0.9, gamma=0, learning_rate=0.050357902086392486, max_depth=7, n_estimators=300, reg_alpha=1, subsample=0.7 \n",
      "[CV]  colsample_bytree=0.9, gamma=0, learning_rate=0.050357902086392486, max_depth=7, n_estimators=300, reg_alpha=1, subsample=0.7, score=-1735939545.200, total=   2.5s\n",
      "[CV] colsample_bytree=0.9, gamma=0, learning_rate=0.050357902086392486, max_depth=7, n_estimators=300, reg_alpha=1, subsample=0.7 \n",
      "[CV]  colsample_bytree=0.9, gamma=0, learning_rate=0.050357902086392486, max_depth=7, n_estimators=300, reg_alpha=1, subsample=0.7, score=-651523945.202, total=   2.4s\n",
      "[CV] colsample_bytree=0.9, gamma=0, learning_rate=0.050357902086392486, max_depth=7, n_estimators=300, reg_alpha=1, subsample=0.7 \n",
      "[CV]  colsample_bytree=0.9, gamma=0, learning_rate=0.050357902086392486, max_depth=7, n_estimators=300, reg_alpha=1, subsample=0.7, score=-509783196.699, total=   2.4s\n",
      "[CV] colsample_bytree=0.9, gamma=0, learning_rate=0.050357902086392486, max_depth=7, n_estimators=300, reg_alpha=1, subsample=0.7 \n",
      "[CV]  colsample_bytree=0.9, gamma=0, learning_rate=0.050357902086392486, max_depth=7, n_estimators=300, reg_alpha=1, subsample=0.7, score=-392359961.450, total=   2.5s\n",
      "[CV] colsample_bytree=0.9, gamma=0, learning_rate=0.050357902086392486, max_depth=7, n_estimators=300, reg_alpha=1, subsample=0.7 \n",
      "[CV]  colsample_bytree=0.9, gamma=0, learning_rate=0.050357902086392486, max_depth=7, n_estimators=300, reg_alpha=1, subsample=0.7, score=-541314424.071, total=   2.4s\n",
      "[CV] colsample_bytree=0.9, gamma=0, learning_rate=0.050357902086392486, max_depth=7, n_estimators=300, reg_alpha=1, subsample=0.7 \n",
      "[CV]  colsample_bytree=0.9, gamma=0, learning_rate=0.050357902086392486, max_depth=7, n_estimators=300, reg_alpha=1, subsample=0.7, score=-793442748.049, total=   2.7s\n",
      "[CV] colsample_bytree=0.9, gamma=0, learning_rate=0.050357902086392486, max_depth=7, n_estimators=300, reg_alpha=1, subsample=0.7 \n",
      "[CV]  colsample_bytree=0.9, gamma=0, learning_rate=0.050357902086392486, max_depth=7, n_estimators=300, reg_alpha=1, subsample=0.7, score=-1158822672.901, total=   2.5s\n",
      "[CV] colsample_bytree=0.9, gamma=0, learning_rate=0.050357902086392486, max_depth=7, n_estimators=300, reg_alpha=1, subsample=0.7 \n",
      "[CV]  colsample_bytree=0.9, gamma=0, learning_rate=0.050357902086392486, max_depth=7, n_estimators=300, reg_alpha=1, subsample=0.7, score=-539173620.540, total=   2.4s\n",
      "[CV] colsample_bytree=0.9, gamma=0, learning_rate=0.050357902086392486, max_depth=7, n_estimators=300, reg_alpha=1, subsample=0.7 \n",
      "[CV]  colsample_bytree=0.9, gamma=0, learning_rate=0.050357902086392486, max_depth=7, n_estimators=300, reg_alpha=1, subsample=0.7, score=-616014684.602, total=   2.4s\n",
      "[CV] colsample_bytree=0.7, gamma=0, learning_rate=0.07426222599840004, max_depth=3, n_estimators=50, reg_alpha=1, subsample=0.9 \n",
      "[CV]  colsample_bytree=0.7, gamma=0, learning_rate=0.07426222599840004, max_depth=3, n_estimators=50, reg_alpha=1, subsample=0.9, score=-1402441816.490, total=   0.1s\n",
      "[CV] colsample_bytree=0.7, gamma=0, learning_rate=0.07426222599840004, max_depth=3, n_estimators=50, reg_alpha=1, subsample=0.9 \n",
      "[CV]  colsample_bytree=0.7, gamma=0, learning_rate=0.07426222599840004, max_depth=3, n_estimators=50, reg_alpha=1, subsample=0.9, score=-1936971131.011, total=   0.2s\n",
      "[CV] colsample_bytree=0.7, gamma=0, learning_rate=0.07426222599840004, max_depth=3, n_estimators=50, reg_alpha=1, subsample=0.9 \n",
      "[CV]  colsample_bytree=0.7, gamma=0, learning_rate=0.07426222599840004, max_depth=3, n_estimators=50, reg_alpha=1, subsample=0.9, score=-722178254.146, total=   0.2s\n",
      "[CV] colsample_bytree=0.7, gamma=0, learning_rate=0.07426222599840004, max_depth=3, n_estimators=50, reg_alpha=1, subsample=0.9 \n"
     ]
    },
    {
     "name": "stdout",
     "output_type": "stream",
     "text": [
      "[CV]  colsample_bytree=0.7, gamma=0, learning_rate=0.07426222599840004, max_depth=3, n_estimators=50, reg_alpha=1, subsample=0.9, score=-620624817.308, total=   0.1s\n",
      "[CV] colsample_bytree=0.7, gamma=0, learning_rate=0.07426222599840004, max_depth=3, n_estimators=50, reg_alpha=1, subsample=0.9 \n",
      "[CV]  colsample_bytree=0.7, gamma=0, learning_rate=0.07426222599840004, max_depth=3, n_estimators=50, reg_alpha=1, subsample=0.9, score=-502840634.006, total=   0.1s\n",
      "[CV] colsample_bytree=0.7, gamma=0, learning_rate=0.07426222599840004, max_depth=3, n_estimators=50, reg_alpha=1, subsample=0.9 \n",
      "[CV]  colsample_bytree=0.7, gamma=0, learning_rate=0.07426222599840004, max_depth=3, n_estimators=50, reg_alpha=1, subsample=0.9, score=-549837117.574, total=   0.1s\n",
      "[CV] colsample_bytree=0.7, gamma=0, learning_rate=0.07426222599840004, max_depth=3, n_estimators=50, reg_alpha=1, subsample=0.9 \n",
      "[CV]  colsample_bytree=0.7, gamma=0, learning_rate=0.07426222599840004, max_depth=3, n_estimators=50, reg_alpha=1, subsample=0.9, score=-948965139.600, total=   0.2s\n",
      "[CV] colsample_bytree=0.7, gamma=0, learning_rate=0.07426222599840004, max_depth=3, n_estimators=50, reg_alpha=1, subsample=0.9 \n",
      "[CV]  colsample_bytree=0.7, gamma=0, learning_rate=0.07426222599840004, max_depth=3, n_estimators=50, reg_alpha=1, subsample=0.9, score=-1323685177.536, total=   0.2s\n",
      "[CV] colsample_bytree=0.7, gamma=0, learning_rate=0.07426222599840004, max_depth=3, n_estimators=50, reg_alpha=1, subsample=0.9 \n",
      "[CV]  colsample_bytree=0.7, gamma=0, learning_rate=0.07426222599840004, max_depth=3, n_estimators=50, reg_alpha=1, subsample=0.9, score=-614749127.966, total=   0.2s\n",
      "[CV] colsample_bytree=0.7, gamma=0, learning_rate=0.07426222599840004, max_depth=3, n_estimators=50, reg_alpha=1, subsample=0.9 \n",
      "[CV]  colsample_bytree=0.7, gamma=0, learning_rate=0.07426222599840004, max_depth=3, n_estimators=50, reg_alpha=1, subsample=0.9, score=-781322601.743, total=   0.1s\n",
      "[CV] colsample_bytree=0.7, gamma=0, learning_rate=0.029028325578157148, max_depth=11, n_estimators=50, reg_alpha=0, subsample=0.7 \n",
      "[CV]  colsample_bytree=0.7, gamma=0, learning_rate=0.029028325578157148, max_depth=11, n_estimators=50, reg_alpha=0, subsample=0.7, score=-5090529506.096, total=   0.4s\n",
      "[CV] colsample_bytree=0.7, gamma=0, learning_rate=0.029028325578157148, max_depth=11, n_estimators=50, reg_alpha=0, subsample=0.7 \n",
      "[CV]  colsample_bytree=0.7, gamma=0, learning_rate=0.029028325578157148, max_depth=11, n_estimators=50, reg_alpha=0, subsample=0.7, score=-5022564868.680, total=   0.4s\n",
      "[CV] colsample_bytree=0.7, gamma=0, learning_rate=0.029028325578157148, max_depth=11, n_estimators=50, reg_alpha=0, subsample=0.7 \n",
      "[CV]  colsample_bytree=0.7, gamma=0, learning_rate=0.029028325578157148, max_depth=11, n_estimators=50, reg_alpha=0, subsample=0.7, score=-2082341313.792, total=   0.4s\n",
      "[CV] colsample_bytree=0.7, gamma=0, learning_rate=0.029028325578157148, max_depth=11, n_estimators=50, reg_alpha=0, subsample=0.7 \n",
      "[CV]  colsample_bytree=0.7, gamma=0, learning_rate=0.029028325578157148, max_depth=11, n_estimators=50, reg_alpha=0, subsample=0.7, score=-3042038074.578, total=   0.4s\n",
      "[CV] colsample_bytree=0.7, gamma=0, learning_rate=0.029028325578157148, max_depth=11, n_estimators=50, reg_alpha=0, subsample=0.7 \n",
      "[CV]  colsample_bytree=0.7, gamma=0, learning_rate=0.029028325578157148, max_depth=11, n_estimators=50, reg_alpha=0, subsample=0.7, score=-2546833322.485, total=   0.4s\n",
      "[CV] colsample_bytree=0.7, gamma=0, learning_rate=0.029028325578157148, max_depth=11, n_estimators=50, reg_alpha=0, subsample=0.7 \n",
      "[CV]  colsample_bytree=0.7, gamma=0, learning_rate=0.029028325578157148, max_depth=11, n_estimators=50, reg_alpha=0, subsample=0.7, score=-3091754846.801, total=   0.4s\n",
      "[CV] colsample_bytree=0.7, gamma=0, learning_rate=0.029028325578157148, max_depth=11, n_estimators=50, reg_alpha=0, subsample=0.7 \n",
      "[CV]  colsample_bytree=0.7, gamma=0, learning_rate=0.029028325578157148, max_depth=11, n_estimators=50, reg_alpha=0, subsample=0.7, score=-3512809846.504, total=   0.4s\n",
      "[CV] colsample_bytree=0.7, gamma=0, learning_rate=0.029028325578157148, max_depth=11, n_estimators=50, reg_alpha=0, subsample=0.7 \n",
      "[CV]  colsample_bytree=0.7, gamma=0, learning_rate=0.029028325578157148, max_depth=11, n_estimators=50, reg_alpha=0, subsample=0.7, score=-4816838582.842, total=   0.4s\n",
      "[CV] colsample_bytree=0.7, gamma=0, learning_rate=0.029028325578157148, max_depth=11, n_estimators=50, reg_alpha=0, subsample=0.7 \n",
      "[CV]  colsample_bytree=0.7, gamma=0, learning_rate=0.029028325578157148, max_depth=11, n_estimators=50, reg_alpha=0, subsample=0.7, score=-3371479181.094, total=   0.4s\n",
      "[CV] colsample_bytree=0.7, gamma=0, learning_rate=0.029028325578157148, max_depth=11, n_estimators=50, reg_alpha=0, subsample=0.7 \n",
      "[CV]  colsample_bytree=0.7, gamma=0, learning_rate=0.029028325578157148, max_depth=11, n_estimators=50, reg_alpha=0, subsample=0.7, score=-3557371991.654, total=   0.4s\n",
      "[CV] colsample_bytree=0.7, gamma=0, learning_rate=0.04075742157178899, max_depth=11, n_estimators=200, reg_alpha=0, subsample=0.7 \n",
      "[CV]  colsample_bytree=0.7, gamma=0, learning_rate=0.04075742157178899, max_depth=11, n_estimators=200, reg_alpha=0, subsample=0.7, score=-1131765739.698, total=   2.1s\n",
      "[CV] colsample_bytree=0.7, gamma=0, learning_rate=0.04075742157178899, max_depth=11, n_estimators=200, reg_alpha=0, subsample=0.7 \n",
      "[CV]  colsample_bytree=0.7, gamma=0, learning_rate=0.04075742157178899, max_depth=11, n_estimators=200, reg_alpha=0, subsample=0.7, score=-1409566312.264, total=   2.0s\n",
      "[CV] colsample_bytree=0.7, gamma=0, learning_rate=0.04075742157178899, max_depth=11, n_estimators=200, reg_alpha=0, subsample=0.7 \n",
      "[CV]  colsample_bytree=0.7, gamma=0, learning_rate=0.04075742157178899, max_depth=11, n_estimators=200, reg_alpha=0, subsample=0.7, score=-825745120.196, total=   2.0s\n",
      "[CV] colsample_bytree=0.7, gamma=0, learning_rate=0.04075742157178899, max_depth=11, n_estimators=200, reg_alpha=0, subsample=0.7 \n",
      "[CV]  colsample_bytree=0.7, gamma=0, learning_rate=0.04075742157178899, max_depth=11, n_estimators=200, reg_alpha=0, subsample=0.7, score=-497859524.801, total=   2.0s\n",
      "[CV] colsample_bytree=0.7, gamma=0, learning_rate=0.04075742157178899, max_depth=11, n_estimators=200, reg_alpha=0, subsample=0.7 \n",
      "[CV]  colsample_bytree=0.7, gamma=0, learning_rate=0.04075742157178899, max_depth=11, n_estimators=200, reg_alpha=0, subsample=0.7, score=-429075266.344, total=   1.9s\n",
      "[CV] colsample_bytree=0.7, gamma=0, learning_rate=0.04075742157178899, max_depth=11, n_estimators=200, reg_alpha=0, subsample=0.7 \n",
      "[CV]  colsample_bytree=0.7, gamma=0, learning_rate=0.04075742157178899, max_depth=11, n_estimators=200, reg_alpha=0, subsample=0.7, score=-513140291.493, total=   1.9s\n",
      "[CV] colsample_bytree=0.7, gamma=0, learning_rate=0.04075742157178899, max_depth=11, n_estimators=200, reg_alpha=0, subsample=0.7 \n",
      "[CV]  colsample_bytree=0.7, gamma=0, learning_rate=0.04075742157178899, max_depth=11, n_estimators=200, reg_alpha=0, subsample=0.7, score=-744327158.494, total=   1.9s\n",
      "[CV] colsample_bytree=0.7, gamma=0, learning_rate=0.04075742157178899, max_depth=11, n_estimators=200, reg_alpha=0, subsample=0.7 \n",
      "[CV]  colsample_bytree=0.7, gamma=0, learning_rate=0.04075742157178899, max_depth=11, n_estimators=200, reg_alpha=0, subsample=0.7, score=-1118108504.387, total=   2.0s\n",
      "[CV] colsample_bytree=0.7, gamma=0, learning_rate=0.04075742157178899, max_depth=11, n_estimators=200, reg_alpha=0, subsample=0.7 \n",
      "[CV]  colsample_bytree=0.7, gamma=0, learning_rate=0.04075742157178899, max_depth=11, n_estimators=200, reg_alpha=0, subsample=0.7, score=-468283884.770, total=   1.9s\n",
      "[CV] colsample_bytree=0.7, gamma=0, learning_rate=0.04075742157178899, max_depth=11, n_estimators=200, reg_alpha=0, subsample=0.7 \n",
      "[CV]  colsample_bytree=0.7, gamma=0, learning_rate=0.04075742157178899, max_depth=11, n_estimators=200, reg_alpha=0, subsample=0.7, score=-671610452.166, total=   1.9s\n",
      "[CV] colsample_bytree=0.9, gamma=0, learning_rate=0.057359954406717636, max_depth=5, n_estimators=200, reg_alpha=0.5, subsample=0.9 \n"
     ]
    },
    {
     "ename": "KeyboardInterrupt",
     "evalue": "",
     "output_type": "error",
     "traceback": [
      "\u001b[0;31m---------------------------------------------------------------------------\u001b[0m",
      "\u001b[0;31mKeyboardInterrupt\u001b[0m                         Traceback (most recent call last)",
      "\u001b[0;32m<ipython-input-255-356231f20fe4>\u001b[0m in \u001b[0;36m<module>\u001b[0;34m\u001b[0m\n\u001b[0;32m----> 1\u001b[0;31m \u001b[0mrs_cv\u001b[0m\u001b[0;34m.\u001b[0m\u001b[0mfit\u001b[0m\u001b[0;34m(\u001b[0m\u001b[0mX_train\u001b[0m\u001b[0;34m.\u001b[0m\u001b[0mvalues\u001b[0m\u001b[0;34m,\u001b[0m\u001b[0my_train\u001b[0m\u001b[0;34m.\u001b[0m\u001b[0mvalues\u001b[0m\u001b[0;34m)\u001b[0m\u001b[0;34m\u001b[0m\u001b[0;34m\u001b[0m\u001b[0m\n\u001b[0m",
      "\u001b[0;32m~/anaconda3/lib/python3.7/site-packages/sklearn/model_selection/_search.py\u001b[0m in \u001b[0;36mfit\u001b[0;34m(self, X, y, groups, **fit_params)\u001b[0m\n\u001b[1;32m    685\u001b[0m                 \u001b[0;32mreturn\u001b[0m \u001b[0mresults\u001b[0m\u001b[0;34m\u001b[0m\u001b[0;34m\u001b[0m\u001b[0m\n\u001b[1;32m    686\u001b[0m \u001b[0;34m\u001b[0m\u001b[0m\n\u001b[0;32m--> 687\u001b[0;31m             \u001b[0mself\u001b[0m\u001b[0;34m.\u001b[0m\u001b[0m_run_search\u001b[0m\u001b[0;34m(\u001b[0m\u001b[0mevaluate_candidates\u001b[0m\u001b[0;34m)\u001b[0m\u001b[0;34m\u001b[0m\u001b[0;34m\u001b[0m\u001b[0m\n\u001b[0m\u001b[1;32m    688\u001b[0m \u001b[0;34m\u001b[0m\u001b[0m\n\u001b[1;32m    689\u001b[0m         \u001b[0;31m# For multi-metric evaluation, store the best_index_, best_params_ and\u001b[0m\u001b[0;34m\u001b[0m\u001b[0;34m\u001b[0m\u001b[0;34m\u001b[0m\u001b[0m\n",
      "\u001b[0;32m~/anaconda3/lib/python3.7/site-packages/sklearn/model_selection/_search.py\u001b[0m in \u001b[0;36m_run_search\u001b[0;34m(self, evaluate_candidates)\u001b[0m\n\u001b[1;32m   1466\u001b[0m         evaluate_candidates(ParameterSampler(\n\u001b[1;32m   1467\u001b[0m             \u001b[0mself\u001b[0m\u001b[0;34m.\u001b[0m\u001b[0mparam_distributions\u001b[0m\u001b[0;34m,\u001b[0m \u001b[0mself\u001b[0m\u001b[0;34m.\u001b[0m\u001b[0mn_iter\u001b[0m\u001b[0;34m,\u001b[0m\u001b[0;34m\u001b[0m\u001b[0;34m\u001b[0m\u001b[0m\n\u001b[0;32m-> 1468\u001b[0;31m             random_state=self.random_state))\n\u001b[0m",
      "\u001b[0;32m~/anaconda3/lib/python3.7/site-packages/sklearn/model_selection/_search.py\u001b[0m in \u001b[0;36mevaluate_candidates\u001b[0;34m(candidate_params)\u001b[0m\n\u001b[1;32m    664\u001b[0m                                \u001b[0;32mfor\u001b[0m \u001b[0mparameters\u001b[0m\u001b[0;34m,\u001b[0m \u001b[0;34m(\u001b[0m\u001b[0mtrain\u001b[0m\u001b[0;34m,\u001b[0m \u001b[0mtest\u001b[0m\u001b[0;34m)\u001b[0m\u001b[0;34m\u001b[0m\u001b[0;34m\u001b[0m\u001b[0m\n\u001b[1;32m    665\u001b[0m                                in product(candidate_params,\n\u001b[0;32m--> 666\u001b[0;31m                                           cv.split(X, y, groups)))\n\u001b[0m\u001b[1;32m    667\u001b[0m \u001b[0;34m\u001b[0m\u001b[0m\n\u001b[1;32m    668\u001b[0m                 \u001b[0;32mif\u001b[0m \u001b[0mlen\u001b[0m\u001b[0;34m(\u001b[0m\u001b[0mout\u001b[0m\u001b[0;34m)\u001b[0m \u001b[0;34m<\u001b[0m \u001b[0;36m1\u001b[0m\u001b[0;34m:\u001b[0m\u001b[0;34m\u001b[0m\u001b[0;34m\u001b[0m\u001b[0m\n",
      "\u001b[0;32m~/anaconda3/lib/python3.7/site-packages/joblib/parallel.py\u001b[0m in \u001b[0;36m__call__\u001b[0;34m(self, iterable)\u001b[0m\n\u001b[1;32m    922\u001b[0m                 \u001b[0mself\u001b[0m\u001b[0;34m.\u001b[0m\u001b[0m_iterating\u001b[0m \u001b[0;34m=\u001b[0m \u001b[0mself\u001b[0m\u001b[0;34m.\u001b[0m\u001b[0m_original_iterator\u001b[0m \u001b[0;32mis\u001b[0m \u001b[0;32mnot\u001b[0m \u001b[0;32mNone\u001b[0m\u001b[0;34m\u001b[0m\u001b[0;34m\u001b[0m\u001b[0m\n\u001b[1;32m    923\u001b[0m \u001b[0;34m\u001b[0m\u001b[0m\n\u001b[0;32m--> 924\u001b[0;31m             \u001b[0;32mwhile\u001b[0m \u001b[0mself\u001b[0m\u001b[0;34m.\u001b[0m\u001b[0mdispatch_one_batch\u001b[0m\u001b[0;34m(\u001b[0m\u001b[0miterator\u001b[0m\u001b[0;34m)\u001b[0m\u001b[0;34m:\u001b[0m\u001b[0;34m\u001b[0m\u001b[0;34m\u001b[0m\u001b[0m\n\u001b[0m\u001b[1;32m    925\u001b[0m                 \u001b[0;32mpass\u001b[0m\u001b[0;34m\u001b[0m\u001b[0;34m\u001b[0m\u001b[0m\n\u001b[1;32m    926\u001b[0m \u001b[0;34m\u001b[0m\u001b[0m\n",
      "\u001b[0;32m~/anaconda3/lib/python3.7/site-packages/joblib/parallel.py\u001b[0m in \u001b[0;36mdispatch_one_batch\u001b[0;34m(self, iterator)\u001b[0m\n\u001b[1;32m    757\u001b[0m                 \u001b[0;32mreturn\u001b[0m \u001b[0;32mFalse\u001b[0m\u001b[0;34m\u001b[0m\u001b[0;34m\u001b[0m\u001b[0m\n\u001b[1;32m    758\u001b[0m             \u001b[0;32melse\u001b[0m\u001b[0;34m:\u001b[0m\u001b[0;34m\u001b[0m\u001b[0;34m\u001b[0m\u001b[0m\n\u001b[0;32m--> 759\u001b[0;31m                 \u001b[0mself\u001b[0m\u001b[0;34m.\u001b[0m\u001b[0m_dispatch\u001b[0m\u001b[0;34m(\u001b[0m\u001b[0mtasks\u001b[0m\u001b[0;34m)\u001b[0m\u001b[0;34m\u001b[0m\u001b[0;34m\u001b[0m\u001b[0m\n\u001b[0m\u001b[1;32m    760\u001b[0m                 \u001b[0;32mreturn\u001b[0m \u001b[0;32mTrue\u001b[0m\u001b[0;34m\u001b[0m\u001b[0;34m\u001b[0m\u001b[0m\n\u001b[1;32m    761\u001b[0m \u001b[0;34m\u001b[0m\u001b[0m\n",
      "\u001b[0;32m~/anaconda3/lib/python3.7/site-packages/joblib/parallel.py\u001b[0m in \u001b[0;36m_dispatch\u001b[0;34m(self, batch)\u001b[0m\n\u001b[1;32m    714\u001b[0m         \u001b[0;32mwith\u001b[0m \u001b[0mself\u001b[0m\u001b[0;34m.\u001b[0m\u001b[0m_lock\u001b[0m\u001b[0;34m:\u001b[0m\u001b[0;34m\u001b[0m\u001b[0;34m\u001b[0m\u001b[0m\n\u001b[1;32m    715\u001b[0m             \u001b[0mjob_idx\u001b[0m \u001b[0;34m=\u001b[0m \u001b[0mlen\u001b[0m\u001b[0;34m(\u001b[0m\u001b[0mself\u001b[0m\u001b[0;34m.\u001b[0m\u001b[0m_jobs\u001b[0m\u001b[0;34m)\u001b[0m\u001b[0;34m\u001b[0m\u001b[0;34m\u001b[0m\u001b[0m\n\u001b[0;32m--> 716\u001b[0;31m             \u001b[0mjob\u001b[0m \u001b[0;34m=\u001b[0m \u001b[0mself\u001b[0m\u001b[0;34m.\u001b[0m\u001b[0m_backend\u001b[0m\u001b[0;34m.\u001b[0m\u001b[0mapply_async\u001b[0m\u001b[0;34m(\u001b[0m\u001b[0mbatch\u001b[0m\u001b[0;34m,\u001b[0m \u001b[0mcallback\u001b[0m\u001b[0;34m=\u001b[0m\u001b[0mcb\u001b[0m\u001b[0;34m)\u001b[0m\u001b[0;34m\u001b[0m\u001b[0;34m\u001b[0m\u001b[0m\n\u001b[0m\u001b[1;32m    717\u001b[0m             \u001b[0;31m# A job can complete so quickly than its callback is\u001b[0m\u001b[0;34m\u001b[0m\u001b[0;34m\u001b[0m\u001b[0;34m\u001b[0m\u001b[0m\n\u001b[1;32m    718\u001b[0m             \u001b[0;31m# called before we get here, causing self._jobs to\u001b[0m\u001b[0;34m\u001b[0m\u001b[0;34m\u001b[0m\u001b[0;34m\u001b[0m\u001b[0m\n",
      "\u001b[0;32m~/anaconda3/lib/python3.7/site-packages/joblib/_parallel_backends.py\u001b[0m in \u001b[0;36mapply_async\u001b[0;34m(self, func, callback)\u001b[0m\n\u001b[1;32m    180\u001b[0m     \u001b[0;32mdef\u001b[0m \u001b[0mapply_async\u001b[0m\u001b[0;34m(\u001b[0m\u001b[0mself\u001b[0m\u001b[0;34m,\u001b[0m \u001b[0mfunc\u001b[0m\u001b[0;34m,\u001b[0m \u001b[0mcallback\u001b[0m\u001b[0;34m=\u001b[0m\u001b[0;32mNone\u001b[0m\u001b[0;34m)\u001b[0m\u001b[0;34m:\u001b[0m\u001b[0;34m\u001b[0m\u001b[0;34m\u001b[0m\u001b[0m\n\u001b[1;32m    181\u001b[0m         \u001b[0;34m\"\"\"Schedule a func to be run\"\"\"\u001b[0m\u001b[0;34m\u001b[0m\u001b[0;34m\u001b[0m\u001b[0m\n\u001b[0;32m--> 182\u001b[0;31m         \u001b[0mresult\u001b[0m \u001b[0;34m=\u001b[0m \u001b[0mImmediateResult\u001b[0m\u001b[0;34m(\u001b[0m\u001b[0mfunc\u001b[0m\u001b[0;34m)\u001b[0m\u001b[0;34m\u001b[0m\u001b[0;34m\u001b[0m\u001b[0m\n\u001b[0m\u001b[1;32m    183\u001b[0m         \u001b[0;32mif\u001b[0m \u001b[0mcallback\u001b[0m\u001b[0;34m:\u001b[0m\u001b[0;34m\u001b[0m\u001b[0;34m\u001b[0m\u001b[0m\n\u001b[1;32m    184\u001b[0m             \u001b[0mcallback\u001b[0m\u001b[0;34m(\u001b[0m\u001b[0mresult\u001b[0m\u001b[0;34m)\u001b[0m\u001b[0;34m\u001b[0m\u001b[0;34m\u001b[0m\u001b[0m\n",
      "\u001b[0;32m~/anaconda3/lib/python3.7/site-packages/joblib/_parallel_backends.py\u001b[0m in \u001b[0;36m__init__\u001b[0;34m(self, batch)\u001b[0m\n\u001b[1;32m    547\u001b[0m         \u001b[0;31m# Don't delay the application, to avoid keeping the input\u001b[0m\u001b[0;34m\u001b[0m\u001b[0;34m\u001b[0m\u001b[0;34m\u001b[0m\u001b[0m\n\u001b[1;32m    548\u001b[0m         \u001b[0;31m# arguments in memory\u001b[0m\u001b[0;34m\u001b[0m\u001b[0;34m\u001b[0m\u001b[0;34m\u001b[0m\u001b[0m\n\u001b[0;32m--> 549\u001b[0;31m         \u001b[0mself\u001b[0m\u001b[0;34m.\u001b[0m\u001b[0mresults\u001b[0m \u001b[0;34m=\u001b[0m \u001b[0mbatch\u001b[0m\u001b[0;34m(\u001b[0m\u001b[0;34m)\u001b[0m\u001b[0;34m\u001b[0m\u001b[0;34m\u001b[0m\u001b[0m\n\u001b[0m\u001b[1;32m    550\u001b[0m \u001b[0;34m\u001b[0m\u001b[0m\n\u001b[1;32m    551\u001b[0m     \u001b[0;32mdef\u001b[0m \u001b[0mget\u001b[0m\u001b[0;34m(\u001b[0m\u001b[0mself\u001b[0m\u001b[0;34m)\u001b[0m\u001b[0;34m:\u001b[0m\u001b[0;34m\u001b[0m\u001b[0;34m\u001b[0m\u001b[0m\n",
      "\u001b[0;32m~/anaconda3/lib/python3.7/site-packages/joblib/parallel.py\u001b[0m in \u001b[0;36m__call__\u001b[0;34m(self)\u001b[0m\n\u001b[1;32m    223\u001b[0m         \u001b[0;32mwith\u001b[0m \u001b[0mparallel_backend\u001b[0m\u001b[0;34m(\u001b[0m\u001b[0mself\u001b[0m\u001b[0;34m.\u001b[0m\u001b[0m_backend\u001b[0m\u001b[0;34m,\u001b[0m \u001b[0mn_jobs\u001b[0m\u001b[0;34m=\u001b[0m\u001b[0mself\u001b[0m\u001b[0;34m.\u001b[0m\u001b[0m_n_jobs\u001b[0m\u001b[0;34m)\u001b[0m\u001b[0;34m:\u001b[0m\u001b[0;34m\u001b[0m\u001b[0;34m\u001b[0m\u001b[0m\n\u001b[1;32m    224\u001b[0m             return [func(*args, **kwargs)\n\u001b[0;32m--> 225\u001b[0;31m                     for func, args, kwargs in self.items]\n\u001b[0m\u001b[1;32m    226\u001b[0m \u001b[0;34m\u001b[0m\u001b[0m\n\u001b[1;32m    227\u001b[0m     \u001b[0;32mdef\u001b[0m \u001b[0m__len__\u001b[0m\u001b[0;34m(\u001b[0m\u001b[0mself\u001b[0m\u001b[0;34m)\u001b[0m\u001b[0;34m:\u001b[0m\u001b[0;34m\u001b[0m\u001b[0;34m\u001b[0m\u001b[0m\n",
      "\u001b[0;32m~/anaconda3/lib/python3.7/site-packages/joblib/parallel.py\u001b[0m in \u001b[0;36m<listcomp>\u001b[0;34m(.0)\u001b[0m\n\u001b[1;32m    223\u001b[0m         \u001b[0;32mwith\u001b[0m \u001b[0mparallel_backend\u001b[0m\u001b[0;34m(\u001b[0m\u001b[0mself\u001b[0m\u001b[0;34m.\u001b[0m\u001b[0m_backend\u001b[0m\u001b[0;34m,\u001b[0m \u001b[0mn_jobs\u001b[0m\u001b[0;34m=\u001b[0m\u001b[0mself\u001b[0m\u001b[0;34m.\u001b[0m\u001b[0m_n_jobs\u001b[0m\u001b[0;34m)\u001b[0m\u001b[0;34m:\u001b[0m\u001b[0;34m\u001b[0m\u001b[0;34m\u001b[0m\u001b[0m\n\u001b[1;32m    224\u001b[0m             return [func(*args, **kwargs)\n\u001b[0;32m--> 225\u001b[0;31m                     for func, args, kwargs in self.items]\n\u001b[0m\u001b[1;32m    226\u001b[0m \u001b[0;34m\u001b[0m\u001b[0m\n\u001b[1;32m    227\u001b[0m     \u001b[0;32mdef\u001b[0m \u001b[0m__len__\u001b[0m\u001b[0;34m(\u001b[0m\u001b[0mself\u001b[0m\u001b[0;34m)\u001b[0m\u001b[0;34m:\u001b[0m\u001b[0;34m\u001b[0m\u001b[0;34m\u001b[0m\u001b[0m\n",
      "\u001b[0;32m~/anaconda3/lib/python3.7/site-packages/sklearn/model_selection/_validation.py\u001b[0m in \u001b[0;36m_fit_and_score\u001b[0;34m(estimator, X, y, scorer, train, test, verbose, parameters, fit_params, return_train_score, return_parameters, return_n_test_samples, return_times, return_estimator, error_score)\u001b[0m\n\u001b[1;32m    512\u001b[0m             \u001b[0mestimator\u001b[0m\u001b[0;34m.\u001b[0m\u001b[0mfit\u001b[0m\u001b[0;34m(\u001b[0m\u001b[0mX_train\u001b[0m\u001b[0;34m,\u001b[0m \u001b[0;34m**\u001b[0m\u001b[0mfit_params\u001b[0m\u001b[0;34m)\u001b[0m\u001b[0;34m\u001b[0m\u001b[0;34m\u001b[0m\u001b[0m\n\u001b[1;32m    513\u001b[0m         \u001b[0;32melse\u001b[0m\u001b[0;34m:\u001b[0m\u001b[0;34m\u001b[0m\u001b[0;34m\u001b[0m\u001b[0m\n\u001b[0;32m--> 514\u001b[0;31m             \u001b[0mestimator\u001b[0m\u001b[0;34m.\u001b[0m\u001b[0mfit\u001b[0m\u001b[0;34m(\u001b[0m\u001b[0mX_train\u001b[0m\u001b[0;34m,\u001b[0m \u001b[0my_train\u001b[0m\u001b[0;34m,\u001b[0m \u001b[0;34m**\u001b[0m\u001b[0mfit_params\u001b[0m\u001b[0;34m)\u001b[0m\u001b[0;34m\u001b[0m\u001b[0;34m\u001b[0m\u001b[0m\n\u001b[0m\u001b[1;32m    515\u001b[0m \u001b[0;34m\u001b[0m\u001b[0m\n\u001b[1;32m    516\u001b[0m     \u001b[0;32mexcept\u001b[0m \u001b[0mException\u001b[0m \u001b[0;32mas\u001b[0m \u001b[0me\u001b[0m\u001b[0;34m:\u001b[0m\u001b[0;34m\u001b[0m\u001b[0;34m\u001b[0m\u001b[0m\n",
      "\u001b[0;32m~/anaconda3/lib/python3.7/site-packages/xgboost/sklearn.py\u001b[0m in \u001b[0;36mfit\u001b[0;34m(self, X, y, sample_weight, eval_set, eval_metric, early_stopping_rounds, verbose, xgb_model, sample_weight_eval_set, callbacks)\u001b[0m\n\u001b[1;32m    394\u001b[0m                               \u001b[0mevals_result\u001b[0m\u001b[0;34m=\u001b[0m\u001b[0mevals_result\u001b[0m\u001b[0;34m,\u001b[0m \u001b[0mobj\u001b[0m\u001b[0;34m=\u001b[0m\u001b[0mobj\u001b[0m\u001b[0;34m,\u001b[0m \u001b[0mfeval\u001b[0m\u001b[0;34m=\u001b[0m\u001b[0mfeval\u001b[0m\u001b[0;34m,\u001b[0m\u001b[0;34m\u001b[0m\u001b[0;34m\u001b[0m\u001b[0m\n\u001b[1;32m    395\u001b[0m                               \u001b[0mverbose_eval\u001b[0m\u001b[0;34m=\u001b[0m\u001b[0mverbose\u001b[0m\u001b[0;34m,\u001b[0m \u001b[0mxgb_model\u001b[0m\u001b[0;34m=\u001b[0m\u001b[0mxgb_model\u001b[0m\u001b[0;34m,\u001b[0m\u001b[0;34m\u001b[0m\u001b[0;34m\u001b[0m\u001b[0m\n\u001b[0;32m--> 396\u001b[0;31m                               callbacks=callbacks)\n\u001b[0m\u001b[1;32m    397\u001b[0m \u001b[0;34m\u001b[0m\u001b[0m\n\u001b[1;32m    398\u001b[0m         \u001b[0;32mif\u001b[0m \u001b[0mevals_result\u001b[0m\u001b[0;34m:\u001b[0m\u001b[0;34m\u001b[0m\u001b[0;34m\u001b[0m\u001b[0m\n",
      "\u001b[0;32m~/anaconda3/lib/python3.7/site-packages/xgboost/training.py\u001b[0m in \u001b[0;36mtrain\u001b[0;34m(params, dtrain, num_boost_round, evals, obj, feval, maximize, early_stopping_rounds, evals_result, verbose_eval, xgb_model, callbacks, learning_rates)\u001b[0m\n\u001b[1;32m    214\u001b[0m                            \u001b[0mevals\u001b[0m\u001b[0;34m=\u001b[0m\u001b[0mevals\u001b[0m\u001b[0;34m,\u001b[0m\u001b[0;34m\u001b[0m\u001b[0;34m\u001b[0m\u001b[0m\n\u001b[1;32m    215\u001b[0m                            \u001b[0mobj\u001b[0m\u001b[0;34m=\u001b[0m\u001b[0mobj\u001b[0m\u001b[0;34m,\u001b[0m \u001b[0mfeval\u001b[0m\u001b[0;34m=\u001b[0m\u001b[0mfeval\u001b[0m\u001b[0;34m,\u001b[0m\u001b[0;34m\u001b[0m\u001b[0;34m\u001b[0m\u001b[0m\n\u001b[0;32m--> 216\u001b[0;31m                            xgb_model=xgb_model, callbacks=callbacks)\n\u001b[0m\u001b[1;32m    217\u001b[0m \u001b[0;34m\u001b[0m\u001b[0m\n\u001b[1;32m    218\u001b[0m \u001b[0;34m\u001b[0m\u001b[0m\n",
      "\u001b[0;32m~/anaconda3/lib/python3.7/site-packages/xgboost/training.py\u001b[0m in \u001b[0;36m_train_internal\u001b[0;34m(params, dtrain, num_boost_round, evals, obj, feval, xgb_model, callbacks)\u001b[0m\n\u001b[1;32m     72\u001b[0m         \u001b[0;31m# Skip the first update if it is a recovery step.\u001b[0m\u001b[0;34m\u001b[0m\u001b[0;34m\u001b[0m\u001b[0;34m\u001b[0m\u001b[0m\n\u001b[1;32m     73\u001b[0m         \u001b[0;32mif\u001b[0m \u001b[0mversion\u001b[0m \u001b[0;34m%\u001b[0m \u001b[0;36m2\u001b[0m \u001b[0;34m==\u001b[0m \u001b[0;36m0\u001b[0m\u001b[0;34m:\u001b[0m\u001b[0;34m\u001b[0m\u001b[0;34m\u001b[0m\u001b[0m\n\u001b[0;32m---> 74\u001b[0;31m             \u001b[0mbst\u001b[0m\u001b[0;34m.\u001b[0m\u001b[0mupdate\u001b[0m\u001b[0;34m(\u001b[0m\u001b[0mdtrain\u001b[0m\u001b[0;34m,\u001b[0m \u001b[0mi\u001b[0m\u001b[0;34m,\u001b[0m \u001b[0mobj\u001b[0m\u001b[0;34m)\u001b[0m\u001b[0;34m\u001b[0m\u001b[0;34m\u001b[0m\u001b[0m\n\u001b[0m\u001b[1;32m     75\u001b[0m             \u001b[0mbst\u001b[0m\u001b[0;34m.\u001b[0m\u001b[0msave_rabit_checkpoint\u001b[0m\u001b[0;34m(\u001b[0m\u001b[0;34m)\u001b[0m\u001b[0;34m\u001b[0m\u001b[0;34m\u001b[0m\u001b[0m\n\u001b[1;32m     76\u001b[0m             \u001b[0mversion\u001b[0m \u001b[0;34m+=\u001b[0m \u001b[0;36m1\u001b[0m\u001b[0;34m\u001b[0m\u001b[0;34m\u001b[0m\u001b[0m\n",
      "\u001b[0;32m~/anaconda3/lib/python3.7/site-packages/xgboost/core.py\u001b[0m in \u001b[0;36mupdate\u001b[0;34m(self, dtrain, iteration, fobj)\u001b[0m\n\u001b[1;32m   1107\u001b[0m         \u001b[0;32mif\u001b[0m \u001b[0mfobj\u001b[0m \u001b[0;32mis\u001b[0m \u001b[0;32mNone\u001b[0m\u001b[0;34m:\u001b[0m\u001b[0;34m\u001b[0m\u001b[0;34m\u001b[0m\u001b[0m\n\u001b[1;32m   1108\u001b[0m             _check_call(_LIB.XGBoosterUpdateOneIter(self.handle, ctypes.c_int(iteration),\n\u001b[0;32m-> 1109\u001b[0;31m                                                     dtrain.handle))\n\u001b[0m\u001b[1;32m   1110\u001b[0m         \u001b[0;32melse\u001b[0m\u001b[0;34m:\u001b[0m\u001b[0;34m\u001b[0m\u001b[0;34m\u001b[0m\u001b[0m\n\u001b[1;32m   1111\u001b[0m             \u001b[0mpred\u001b[0m \u001b[0;34m=\u001b[0m \u001b[0mself\u001b[0m\u001b[0;34m.\u001b[0m\u001b[0mpredict\u001b[0m\u001b[0;34m(\u001b[0m\u001b[0mdtrain\u001b[0m\u001b[0;34m)\u001b[0m\u001b[0;34m\u001b[0m\u001b[0;34m\u001b[0m\u001b[0m\n",
      "\u001b[0;31mKeyboardInterrupt\u001b[0m: "
     ]
    }
   ],
   "source": [
    "rs_cv.fit(X_train.values,y_train.values)"
   ]
  },
  {
   "cell_type": "code",
   "execution_count": 121,
   "metadata": {
    "collapsed": true
   },
   "outputs": [
    {
     "data": {
      "text/plain": [
       "XGBRegressor(base_score=0.5, booster='gbtree', colsample_bylevel=1,\n",
       "             colsample_bynode=1, colsample_bytree=0.7, gamma=0,\n",
       "             importance_type='gain', learning_rate=0.07579569579042217,\n",
       "             max_delta_step=0, max_depth=7, min_child_weight=1, missing=None,\n",
       "             n_estimators=200, n_jobs=1, nthread=None,\n",
       "             objective='reg:squarederror', random_state=42, reg_alpha=0,\n",
       "             reg_lambda=1, scale_pos_weight=1, seed=None, silent=None,\n",
       "             subsample=0.7, verbosity=1)"
      ]
     },
     "execution_count": 121,
     "metadata": {},
     "output_type": "execute_result"
    }
   ],
   "source": [
    "# random search best estimator\n",
    "rs_cv.best_estimator_"
   ]
  },
  {
   "cell_type": "code",
   "execution_count": 127,
   "metadata": {},
   "outputs": [],
   "source": [
    "# Getting the scores to rank the features\n",
    "importance_score = rs_cv.best_estimator_.feature_importances_"
   ]
  },
  {
   "cell_type": "code",
   "execution_count": 128,
   "metadata": {},
   "outputs": [],
   "source": [
    "important_features = [(feature, score) for feature, score in zip(X_train.columns, importance_score)]"
   ]
  },
  {
   "cell_type": "code",
   "execution_count": 132,
   "metadata": {},
   "outputs": [],
   "source": [
    "selected_features = dict(sorted(important_features, key= lambda x: x[1], reverse=True)[:22])"
   ]
  },
  {
   "cell_type": "code",
   "execution_count": 156,
   "metadata": {},
   "outputs": [],
   "source": [
    "selected_features_series = pd.Series(selected_features)"
   ]
  },
  {
   "cell_type": "code",
   "execution_count": null,
   "metadata": {},
   "outputs": [],
   "source": [
    "# saving selected features for deployment\n",
    "selected_features.to_csv('/home/kolade/repos/house-prediction/dataset/selected_features.csv')"
   ]
  },
  {
   "cell_type": "code",
   "execution_count": 23,
   "metadata": {},
   "outputs": [],
   "source": [
    "selected_features = pd.read_csv('/home/kolade/repos/house-prediction/dataset/selected_features.csv', header=None)"
   ]
  },
  {
   "cell_type": "code",
   "execution_count": 55,
   "metadata": {},
   "outputs": [
    {
     "data": {
      "text/plain": [
       "<BarContainer object of 22 artists>"
      ]
     },
     "execution_count": 55,
     "metadata": {},
     "output_type": "execute_result"
    },
    {
     "data": {
      "image/png": "[encoded data removed]",
      "text/plain": [
       "<Figure size 1080x576 with 1 Axes>"
      ]
     },
     "metadata": {},
     "output_type": "display_data"
    }
   ],
   "source": [
    "plt.style.use('seaborn-whitegrid')\n",
    "fig = plt.figure(figsize=(15,8))\n",
    "plt.barh(selected_features[0], selected_features[1])\n"
   ]
  },
  {
   "cell_type": "markdown",
   "metadata": {},
   "source": [
    "# Model Building "
   ]
  },
  {
   "cell_type": "code",
   "execution_count": 22,
   "metadata": {},
   "outputs": [],
   "source": [
    "# read selected features\n",
    "selected_features_series =  pd.read_csv('/home/kolade/repos/house-prediction/dataset/selected_features.csv', header=None)[0]"
   ]
  },
  {
   "cell_type": "code",
   "execution_count": 62,
   "metadata": {},
   "outputs": [],
   "source": [
    " list_selected_feats=list(selected_features_series.values)"
   ]
  },
  {
   "cell_type": "code",
   "execution_count": 112,
   "metadata": {},
   "outputs": [],
   "source": [
    "list_selected_feats.append('LotFrontage')"
   ]
  },
  {
   "cell_type": "code",
   "execution_count": 64,
   "metadata": {},
   "outputs": [],
   "source": [
    "# pick selected features from the train_data \n",
    "X_train_selected = X_train[list_selected_feats]\n",
    "X_test_selected = X_test[list_selected_feats]"
   ]
  },
  {
   "cell_type": "markdown",
   "metadata": {},
   "source": [
    "For the hyper-parameter optimization carried out on the selected data, a thorough fine optimization was carried out from the coarse result gotten from the Randomsearch for feature selection using grid search cv . This was done on a step by step basis by optimizing complimentary  or similar pair of parameters per step, such as \n",
    "- n_estimators and max depth\n",
    "- subsample and colsample_bytree etc"
   ]
  },
  {
   "cell_type": "code",
   "execution_count": 104,
   "metadata": {},
   "outputs": [],
   "source": [
    "params = {\n",
    "    'colsample_bytree': [0.95],\n",
    "  'gamma':[0.01],\n",
    "  'learning_rate': [0.1],\n",
    "  'max_depth': [5],\n",
    "  'min_child_weight':[3],\n",
    "  'n_estimators': [100],\n",
    "  'reg_alpha': [5],\n",
    "  'reg_lambda': [0.1],\n",
    "  'subsample': [0.85],\n",
    "  'max_delta_step': [0.01,0.5,0,1,3,5]\n",
    "}"
   ]
  },
  {
   "cell_type": "code",
   "execution_count": 66,
   "metadata": {},
   "outputs": [],
   "source": [
    "xgboost  =  xgb.XGBRegressor(seed=42,objective='reg:squarederror')"
   ]
  },
  {
   "cell_type": "code",
   "execution_count": 67,
   "metadata": {},
   "outputs": [],
   "source": [
    "grid_searchcv = GridSearchCV(xgboost,param_grid=params,scoring='neg_mean_squared_error', cv=cv,return_train_score=True, verbose=10 )"
   ]
  },
  {
   "cell_type": "code",
   "execution_count": 68,
   "metadata": {},
   "outputs": [
    {
     "name": "stdout",
     "output_type": "stream",
     "text": [
      "Fitting 10 folds for each of 6 candidates, totalling 60 fits\n",
      "[CV] colsample_bytree=0.95, gamma=0.01, learning_rate=0.1, max_delta_step=0.01, max_depth=5, min_child_weight=3, n_estimators=100, reg_alpha=5, reg_lambda=0.1, subsample=0.85 \n",
      "[CV]  colsample_bytree=0.95, gamma=0.01, learning_rate=0.1, max_delta_step=0.01, max_depth=5, min_child_weight=3, n_estimators=100, reg_alpha=5, reg_lambda=0.1, subsample=0.85, score=(train=-37701711955.402, test=-48151248525.666), total=   0.1s\n",
      "[CV] colsample_bytree=0.95, gamma=0.01, learning_rate=0.1, max_delta_step=0.01, max_depth=5, min_child_weight=3, n_estimators=100, reg_alpha=5, reg_lambda=0.1, subsample=0.85 \n",
      "[CV]  colsample_bytree=0.95, gamma=0.01, learning_rate=0.1, max_delta_step=0.01, max_depth=5, min_child_weight=3, n_estimators=100, reg_alpha=5, reg_lambda=0.1, subsample=0.85, score=(train=-38390428493.618, test=-42002387272.478), total=   0.1s\n",
      "[CV] colsample_bytree=0.95, gamma=0.01, learning_rate=0.1, max_delta_step=0.01, max_depth=5, min_child_weight=3, n_estimators=100, reg_alpha=5, reg_lambda=0.1, subsample=0.85 \n"
     ]
    },
    {
     "name": "stderr",
     "output_type": "stream",
     "text": [
      "[Parallel(n_jobs=1)]: Using backend SequentialBackend with 1 concurrent workers.\n",
      "[Parallel(n_jobs=1)]: Done   1 out of   1 | elapsed:    0.1s remaining:    0.0s\n",
      "[Parallel(n_jobs=1)]: Done   2 out of   2 | elapsed:    0.2s remaining:    0.0s\n"
     ]
    },
    {
     "name": "stdout",
     "output_type": "stream",
     "text": [
      "[CV]  colsample_bytree=0.95, gamma=0.01, learning_rate=0.1, max_delta_step=0.01, max_depth=5, min_child_weight=3, n_estimators=100, reg_alpha=5, reg_lambda=0.1, subsample=0.85, score=(train=-39552063869.796, test=-31631306633.952), total=   0.1s\n",
      "[CV] colsample_bytree=0.95, gamma=0.01, learning_rate=0.1, max_delta_step=0.01, max_depth=5, min_child_weight=3, n_estimators=100, reg_alpha=5, reg_lambda=0.1, subsample=0.85 \n",
      "[CV]  colsample_bytree=0.95, gamma=0.01, learning_rate=0.1, max_delta_step=0.01, max_depth=5, min_child_weight=3, n_estimators=100, reg_alpha=5, reg_lambda=0.1, subsample=0.85, score=(train=-38742177338.484, test=-38861973585.510), total=   0.1s\n",
      "[CV] colsample_bytree=0.95, gamma=0.01, learning_rate=0.1, max_delta_step=0.01, max_depth=5, min_child_weight=3, n_estimators=100, reg_alpha=5, reg_lambda=0.1, subsample=0.85 \n",
      "[CV]  colsample_bytree=0.95, gamma=0.01, learning_rate=0.1, max_delta_step=0.01, max_depth=5, min_child_weight=3, n_estimators=100, reg_alpha=5, reg_lambda=0.1, subsample=0.85, score=(train=-38814160276.461, test=-38219309915.255), total=   0.1s\n",
      "[CV] colsample_bytree=0.95, gamma=0.01, learning_rate=0.1, max_delta_step=0.01, max_depth=5, min_child_weight=3, n_estimators=100, reg_alpha=5, reg_lambda=0.1, subsample=0.85 \n",
      "[CV]  colsample_bytree=0.95, gamma=0.01, learning_rate=0.1, max_delta_step=0.01, max_depth=5, min_child_weight=3, n_estimators=100, reg_alpha=5, reg_lambda=0.1, subsample=0.85, score=(train=-38499254964.059, test=-41030784544.378), total=   0.1s\n",
      "[CV] colsample_bytree=0.95, gamma=0.01, learning_rate=0.1, max_delta_step=0.01, max_depth=5, min_child_weight=3, n_estimators=100, reg_alpha=5, reg_lambda=0.1, subsample=0.85 \n"
     ]
    },
    {
     "name": "stderr",
     "output_type": "stream",
     "text": [
      "[Parallel(n_jobs=1)]: Done   3 out of   3 | elapsed:    0.2s remaining:    0.0s\n",
      "[Parallel(n_jobs=1)]: Done   4 out of   4 | elapsed:    0.3s remaining:    0.0s\n",
      "[Parallel(n_jobs=1)]: Done   5 out of   5 | elapsed:    0.4s remaining:    0.0s\n",
      "[Parallel(n_jobs=1)]: Done   6 out of   6 | elapsed:    0.4s remaining:    0.0s\n"
     ]
    },
    {
     "name": "stdout",
     "output_type": "stream",
     "text": [
      "[CV]  colsample_bytree=0.95, gamma=0.01, learning_rate=0.1, max_delta_step=0.01, max_depth=5, min_child_weight=3, n_estimators=100, reg_alpha=5, reg_lambda=0.1, subsample=0.85, score=(train=-38662316813.455, test=-39574968352.967), total=   0.1s\n",
      "[CV] colsample_bytree=0.95, gamma=0.01, learning_rate=0.1, max_delta_step=0.01, max_depth=5, min_child_weight=3, n_estimators=100, reg_alpha=5, reg_lambda=0.1, subsample=0.85 \n",
      "[CV]  colsample_bytree=0.95, gamma=0.01, learning_rate=0.1, max_delta_step=0.01, max_depth=5, min_child_weight=3, n_estimators=100, reg_alpha=5, reg_lambda=0.1, subsample=0.85, score=(train=-38046051330.139, test=-45076986588.010), total=   0.1s\n",
      "[CV] colsample_bytree=0.95, gamma=0.01, learning_rate=0.1, max_delta_step=0.01, max_depth=5, min_child_weight=3, n_estimators=100, reg_alpha=5, reg_lambda=0.1, subsample=0.85 \n",
      "[CV]  colsample_bytree=0.95, gamma=0.01, learning_rate=0.1, max_delta_step=0.01, max_depth=5, min_child_weight=3, n_estimators=100, reg_alpha=5, reg_lambda=0.1, subsample=0.85, score=(train=-38121734287.365, test=-44401289145.903), total=   0.1s\n",
      "[CV] colsample_bytree=0.95, gamma=0.01, learning_rate=0.1, max_delta_step=0.01, max_depth=5, min_child_weight=3, n_estimators=100, reg_alpha=5, reg_lambda=0.1, subsample=0.85 \n"
     ]
    },
    {
     "name": "stderr",
     "output_type": "stream",
     "text": [
      "[Parallel(n_jobs=1)]: Done   7 out of   7 | elapsed:    0.5s remaining:    0.0s\n",
      "[Parallel(n_jobs=1)]: Done   8 out of   8 | elapsed:    0.6s remaining:    0.0s\n",
      "[Parallel(n_jobs=1)]: Done   9 out of   9 | elapsed:    0.6s remaining:    0.0s\n"
     ]
    },
    {
     "name": "stdout",
     "output_type": "stream",
     "text": [
      "[CV]  colsample_bytree=0.95, gamma=0.01, learning_rate=0.1, max_delta_step=0.01, max_depth=5, min_child_weight=3, n_estimators=100, reg_alpha=5, reg_lambda=0.1, subsample=0.85, score=(train=-38635430793.250, test=-39815006741.358), total=   0.1s\n",
      "[CV] colsample_bytree=0.95, gamma=0.01, learning_rate=0.1, max_delta_step=0.5, max_depth=5, min_child_weight=3, n_estimators=100, reg_alpha=5, reg_lambda=0.1, subsample=0.85 \n",
      "[CV]  colsample_bytree=0.95, gamma=0.01, learning_rate=0.1, max_delta_step=0.5, max_depth=5, min_child_weight=3, n_estimators=100, reg_alpha=5, reg_lambda=0.1, subsample=0.85, score=(train=-37699956417.191, test=-48149310241.569), total=   0.1s\n",
      "[CV] colsample_bytree=0.95, gamma=0.01, learning_rate=0.1, max_delta_step=0.5, max_depth=5, min_child_weight=3, n_estimators=100, reg_alpha=5, reg_lambda=0.1, subsample=0.85 \n",
      "[CV]  colsample_bytree=0.95, gamma=0.01, learning_rate=0.1, max_delta_step=0.5, max_depth=5, min_child_weight=3, n_estimators=100, reg_alpha=5, reg_lambda=0.1, subsample=0.85, score=(train=-38388657297.033, test=-42000588786.348), total=   0.1s\n",
      "[CV] colsample_bytree=0.95, gamma=0.01, learning_rate=0.1, max_delta_step=0.5, max_depth=5, min_child_weight=3, n_estimators=100, reg_alpha=5, reg_lambda=0.1, subsample=0.85 \n",
      "[CV]  colsample_bytree=0.95, gamma=0.01, learning_rate=0.1, max_delta_step=0.5, max_depth=5, min_child_weight=3, n_estimators=100, reg_alpha=5, reg_lambda=0.1, subsample=0.85, score=(train=-39550274761.680, test=-31629668061.979), total=   0.1s\n",
      "[CV] colsample_bytree=0.95, gamma=0.01, learning_rate=0.1, max_delta_step=0.5, max_depth=5, min_child_weight=3, n_estimators=100, reg_alpha=5, reg_lambda=0.1, subsample=0.85 \n",
      "[CV]  colsample_bytree=0.95, gamma=0.01, learning_rate=0.1, max_delta_step=0.5, max_depth=5, min_child_weight=3, n_estimators=100, reg_alpha=5, reg_lambda=0.1, subsample=0.85, score=(train=-38740406723.620, test=-38860169905.771), total=   0.1s\n",
      "[CV] colsample_bytree=0.95, gamma=0.01, learning_rate=0.1, max_delta_step=0.5, max_depth=5, min_child_weight=3, n_estimators=100, reg_alpha=5, reg_lambda=0.1, subsample=0.85 \n",
      "[CV]  colsample_bytree=0.95, gamma=0.01, learning_rate=0.1, max_delta_step=0.5, max_depth=5, min_child_weight=3, n_estimators=100, reg_alpha=5, reg_lambda=0.1, subsample=0.85, score=(train=-38812385735.353, test=-38217541289.026), total=   0.1s\n",
      "[CV] colsample_bytree=0.95, gamma=0.01, learning_rate=0.1, max_delta_step=0.5, max_depth=5, min_child_weight=3, n_estimators=100, reg_alpha=5, reg_lambda=0.1, subsample=0.85 \n",
      "[CV]  colsample_bytree=0.95, gamma=0.01, learning_rate=0.1, max_delta_step=0.5, max_depth=5, min_child_weight=3, n_estimators=100, reg_alpha=5, reg_lambda=0.1, subsample=0.85, score=(train=-38497487469.012, test=-41028953010.918), total=   0.1s\n",
      "[CV] colsample_bytree=0.95, gamma=0.01, learning_rate=0.1, max_delta_step=0.5, max_depth=5, min_child_weight=3, n_estimators=100, reg_alpha=5, reg_lambda=0.1, subsample=0.85 \n",
      "[CV]  colsample_bytree=0.95, gamma=0.01, learning_rate=0.1, max_delta_step=0.5, max_depth=5, min_child_weight=3, n_estimators=100, reg_alpha=5, reg_lambda=0.1, subsample=0.85, score=(train=-38660545268.285, test=-39573172979.005), total=   0.1s\n",
      "[CV] colsample_bytree=0.95, gamma=0.01, learning_rate=0.1, max_delta_step=0.5, max_depth=5, min_child_weight=3, n_estimators=100, reg_alpha=5, reg_lambda=0.1, subsample=0.85 \n",
      "[CV]  colsample_bytree=0.95, gamma=0.01, learning_rate=0.1, max_delta_step=0.5, max_depth=5, min_child_weight=3, n_estimators=100, reg_alpha=5, reg_lambda=0.1, subsample=0.85, score=(train=-38044287390.491, test=-45075123311.951), total=   0.1s\n",
      "[CV] colsample_bytree=0.95, gamma=0.01, learning_rate=0.1, max_delta_step=0.5, max_depth=5, min_child_weight=3, n_estimators=100, reg_alpha=5, reg_lambda=0.1, subsample=0.85 \n",
      "[CV]  colsample_bytree=0.95, gamma=0.01, learning_rate=0.1, max_delta_step=0.5, max_depth=5, min_child_weight=3, n_estimators=100, reg_alpha=5, reg_lambda=0.1, subsample=0.85, score=(train=-38119974207.538, test=-44399391409.353), total=   0.1s\n",
      "[CV] colsample_bytree=0.95, gamma=0.01, learning_rate=0.1, max_delta_step=0.5, max_depth=5, min_child_weight=3, n_estimators=100, reg_alpha=5, reg_lambda=0.1, subsample=0.85 \n",
      "[CV]  colsample_bytree=0.95, gamma=0.01, learning_rate=0.1, max_delta_step=0.5, max_depth=5, min_child_weight=3, n_estimators=100, reg_alpha=5, reg_lambda=0.1, subsample=0.85, score=(train=-38633656202.317, test=-39813238559.970), total=   0.1s\n",
      "[CV] colsample_bytree=0.95, gamma=0.01, learning_rate=0.1, max_delta_step=0, max_depth=5, min_child_weight=3, n_estimators=100, reg_alpha=5, reg_lambda=0.1, subsample=0.85 \n",
      "[CV]  colsample_bytree=0.95, gamma=0.01, learning_rate=0.1, max_delta_step=0, max_depth=5, min_child_weight=3, n_estimators=100, reg_alpha=5, reg_lambda=0.1, subsample=0.85, score=(train=-105404386.642, test=-1042302544.582), total=   0.2s\n",
      "[CV] colsample_bytree=0.95, gamma=0.01, learning_rate=0.1, max_delta_step=0, max_depth=5, min_child_weight=3, n_estimators=100, reg_alpha=5, reg_lambda=0.1, subsample=0.85 \n",
      "[CV]  colsample_bytree=0.95, gamma=0.01, learning_rate=0.1, max_delta_step=0, max_depth=5, min_child_weight=3, n_estimators=100, reg_alpha=5, reg_lambda=0.1, subsample=0.85, score=(train=-109297060.213, test=-892619551.095), total=   0.2s\n",
      "[CV] colsample_bytree=0.95, gamma=0.01, learning_rate=0.1, max_delta_step=0, max_depth=5, min_child_weight=3, n_estimators=100, reg_alpha=5, reg_lambda=0.1, subsample=0.85 \n",
      "[CV]  colsample_bytree=0.95, gamma=0.01, learning_rate=0.1, max_delta_step=0, max_depth=5, min_child_weight=3, n_estimators=100, reg_alpha=5, reg_lambda=0.1, subsample=0.85, score=(train=-109664803.210, test=-731284536.367), total=   0.2s\n",
      "[CV] colsample_bytree=0.95, gamma=0.01, learning_rate=0.1, max_delta_step=0, max_depth=5, min_child_weight=3, n_estimators=100, reg_alpha=5, reg_lambda=0.1, subsample=0.85 \n",
      "[CV]  colsample_bytree=0.95, gamma=0.01, learning_rate=0.1, max_delta_step=0, max_depth=5, min_child_weight=3, n_estimators=100, reg_alpha=5, reg_lambda=0.1, subsample=0.85, score=(train=-108375578.271, test=-573445030.258), total=   0.2s\n",
      "[CV] colsample_bytree=0.95, gamma=0.01, learning_rate=0.1, max_delta_step=0, max_depth=5, min_child_weight=3, n_estimators=100, reg_alpha=5, reg_lambda=0.1, subsample=0.85 \n",
      "[CV]  colsample_bytree=0.95, gamma=0.01, learning_rate=0.1, max_delta_step=0, max_depth=5, min_child_weight=3, n_estimators=100, reg_alpha=5, reg_lambda=0.1, subsample=0.85, score=(train=-109885157.001, test=-525143196.336), total=   0.2s\n",
      "[CV] colsample_bytree=0.95, gamma=0.01, learning_rate=0.1, max_delta_step=0, max_depth=5, min_child_weight=3, n_estimators=100, reg_alpha=5, reg_lambda=0.1, subsample=0.85 \n",
      "[CV]  colsample_bytree=0.95, gamma=0.01, learning_rate=0.1, max_delta_step=0, max_depth=5, min_child_weight=3, n_estimators=100, reg_alpha=5, reg_lambda=0.1, subsample=0.85, score=(train=-110935014.796, test=-606009612.113), total=   0.2s\n",
      "[CV] colsample_bytree=0.95, gamma=0.01, learning_rate=0.1, max_delta_step=0, max_depth=5, min_child_weight=3, n_estimators=100, reg_alpha=5, reg_lambda=0.1, subsample=0.85 \n",
      "[CV]  colsample_bytree=0.95, gamma=0.01, learning_rate=0.1, max_delta_step=0, max_depth=5, min_child_weight=3, n_estimators=100, reg_alpha=5, reg_lambda=0.1, subsample=0.85, score=(train=-107292736.878, test=-719026036.495), total=   0.2s\n",
      "[CV] colsample_bytree=0.95, gamma=0.01, learning_rate=0.1, max_delta_step=0, max_depth=5, min_child_weight=3, n_estimators=100, reg_alpha=5, reg_lambda=0.1, subsample=0.85 \n",
      "[CV]  colsample_bytree=0.95, gamma=0.01, learning_rate=0.1, max_delta_step=0, max_depth=5, min_child_weight=3, n_estimators=100, reg_alpha=5, reg_lambda=0.1, subsample=0.85, score=(train=-119267295.031, test=-1025171435.757), total=   0.2s\n",
      "[CV] colsample_bytree=0.95, gamma=0.01, learning_rate=0.1, max_delta_step=0, max_depth=5, min_child_weight=3, n_estimators=100, reg_alpha=5, reg_lambda=0.1, subsample=0.85 \n",
      "[CV]  colsample_bytree=0.95, gamma=0.01, learning_rate=0.1, max_delta_step=0, max_depth=5, min_child_weight=3, n_estimators=100, reg_alpha=5, reg_lambda=0.1, subsample=0.85, score=(train=-119752908.474, test=-452532676.463), total=   0.2s\n",
      "[CV] colsample_bytree=0.95, gamma=0.01, learning_rate=0.1, max_delta_step=0, max_depth=5, min_child_weight=3, n_estimators=100, reg_alpha=5, reg_lambda=0.1, subsample=0.85 \n"
     ]
    },
    {
     "name": "stdout",
     "output_type": "stream",
     "text": [
      "[CV]  colsample_bytree=0.95, gamma=0.01, learning_rate=0.1, max_delta_step=0, max_depth=5, min_child_weight=3, n_estimators=100, reg_alpha=5, reg_lambda=0.1, subsample=0.85, score=(train=-124636227.676, test=-604287977.273), total=   0.2s\n",
      "[CV] colsample_bytree=0.95, gamma=0.01, learning_rate=0.1, max_delta_step=1, max_depth=5, min_child_weight=3, n_estimators=100, reg_alpha=5, reg_lambda=0.1, subsample=0.85 \n",
      "[CV]  colsample_bytree=0.95, gamma=0.01, learning_rate=0.1, max_delta_step=1, max_depth=5, min_child_weight=3, n_estimators=100, reg_alpha=5, reg_lambda=0.1, subsample=0.85, score=(train=-37698165101.169, test=-48147332450.152), total=   0.1s\n",
      "[CV] colsample_bytree=0.95, gamma=0.01, learning_rate=0.1, max_delta_step=1, max_depth=5, min_child_weight=3, n_estimators=100, reg_alpha=5, reg_lambda=0.1, subsample=0.85 \n",
      "[CV]  colsample_bytree=0.95, gamma=0.01, learning_rate=0.1, max_delta_step=1, max_depth=5, min_child_weight=3, n_estimators=100, reg_alpha=5, reg_lambda=0.1, subsample=0.85, score=(train=-38386850003.077, test=-41998753645.918), total=   0.1s\n",
      "[CV] colsample_bytree=0.95, gamma=0.01, learning_rate=0.1, max_delta_step=1, max_depth=5, min_child_weight=3, n_estimators=100, reg_alpha=5, reg_lambda=0.1, subsample=0.85 \n",
      "[CV]  colsample_bytree=0.95, gamma=0.01, learning_rate=0.1, max_delta_step=1, max_depth=5, min_child_weight=3, n_estimators=100, reg_alpha=5, reg_lambda=0.1, subsample=0.85, score=(train=-39548449190.650, test=-31627996099.260), total=   0.1s\n",
      "[CV] colsample_bytree=0.95, gamma=0.01, learning_rate=0.1, max_delta_step=1, max_depth=5, min_child_weight=3, n_estimators=100, reg_alpha=5, reg_lambda=0.1, subsample=0.85 \n",
      "[CV]  colsample_bytree=0.95, gamma=0.01, learning_rate=0.1, max_delta_step=1, max_depth=5, min_child_weight=3, n_estimators=100, reg_alpha=5, reg_lambda=0.1, subsample=0.85, score=(train=-38738600023.258, test=-38858329465.740), total=   0.1s\n",
      "[CV] colsample_bytree=0.95, gamma=0.01, learning_rate=0.1, max_delta_step=1, max_depth=5, min_child_weight=3, n_estimators=100, reg_alpha=5, reg_lambda=0.1, subsample=0.85 \n",
      "[CV]  colsample_bytree=0.95, gamma=0.01, learning_rate=0.1, max_delta_step=1, max_depth=5, min_child_weight=3, n_estimators=100, reg_alpha=5, reg_lambda=0.1, subsample=0.85, score=(train=-38810575028.618, test=-38215736617.882), total=   0.1s\n",
      "[CV] colsample_bytree=0.95, gamma=0.01, learning_rate=0.1, max_delta_step=1, max_depth=5, min_child_weight=3, n_estimators=100, reg_alpha=5, reg_lambda=0.1, subsample=0.85 \n",
      "[CV]  colsample_bytree=0.95, gamma=0.01, learning_rate=0.1, max_delta_step=1, max_depth=5, min_child_weight=3, n_estimators=100, reg_alpha=5, reg_lambda=0.1, subsample=0.85, score=(train=-38495683952.135, test=-41027084148.721), total=   0.1s\n",
      "[CV] colsample_bytree=0.95, gamma=0.01, learning_rate=0.1, max_delta_step=1, max_depth=5, min_child_weight=3, n_estimators=100, reg_alpha=5, reg_lambda=0.1, subsample=0.85 \n",
      "[CV]  colsample_bytree=0.95, gamma=0.01, learning_rate=0.1, max_delta_step=1, max_depth=5, min_child_weight=3, n_estimators=100, reg_alpha=5, reg_lambda=0.1, subsample=0.85, score=(train=-38658737618.630, test=-39571341014.255), total=   0.1s\n",
      "[CV] colsample_bytree=0.95, gamma=0.01, learning_rate=0.1, max_delta_step=1, max_depth=5, min_child_weight=3, n_estimators=100, reg_alpha=5, reg_lambda=0.1, subsample=0.85 \n",
      "[CV]  colsample_bytree=0.95, gamma=0.01, learning_rate=0.1, max_delta_step=1, max_depth=5, min_child_weight=3, n_estimators=100, reg_alpha=5, reg_lambda=0.1, subsample=0.85, score=(train=-38042487501.572, test=-45073222059.349), total=   0.1s\n",
      "[CV] colsample_bytree=0.95, gamma=0.01, learning_rate=0.1, max_delta_step=1, max_depth=5, min_child_weight=3, n_estimators=100, reg_alpha=5, reg_lambda=0.1, subsample=0.85 \n",
      "[CV]  colsample_bytree=0.95, gamma=0.01, learning_rate=0.1, max_delta_step=1, max_depth=5, min_child_weight=3, n_estimators=100, reg_alpha=5, reg_lambda=0.1, subsample=0.85, score=(train=-38118178257.214, test=-44397454992.983), total=   0.1s\n",
      "[CV] colsample_bytree=0.95, gamma=0.01, learning_rate=0.1, max_delta_step=1, max_depth=5, min_child_weight=3, n_estimators=100, reg_alpha=5, reg_lambda=0.1, subsample=0.85 \n",
      "[CV]  colsample_bytree=0.95, gamma=0.01, learning_rate=0.1, max_delta_step=1, max_depth=5, min_child_weight=3, n_estimators=100, reg_alpha=5, reg_lambda=0.1, subsample=0.85, score=(train=-38631845444.740, test=-39811434342.746), total=   0.1s\n",
      "[CV] colsample_bytree=0.95, gamma=0.01, learning_rate=0.1, max_delta_step=3, max_depth=5, min_child_weight=3, n_estimators=100, reg_alpha=5, reg_lambda=0.1, subsample=0.85 \n",
      "[CV]  colsample_bytree=0.95, gamma=0.01, learning_rate=0.1, max_delta_step=3, max_depth=5, min_child_weight=3, n_estimators=100, reg_alpha=5, reg_lambda=0.1, subsample=0.85, score=(train=-37691000349.377, test=-48139421798.062), total=   0.1s\n",
      "[CV] colsample_bytree=0.95, gamma=0.01, learning_rate=0.1, max_delta_step=3, max_depth=5, min_child_weight=3, n_estimators=100, reg_alpha=5, reg_lambda=0.1, subsample=0.85 \n",
      "[CV]  colsample_bytree=0.95, gamma=0.01, learning_rate=0.1, max_delta_step=3, max_depth=5, min_child_weight=3, n_estimators=100, reg_alpha=5, reg_lambda=0.1, subsample=0.85, score=(train=-38379621339.662, test=-41991413596.797), total=   0.1s\n",
      "[CV] colsample_bytree=0.95, gamma=0.01, learning_rate=0.1, max_delta_step=3, max_depth=5, min_child_weight=3, n_estimators=100, reg_alpha=5, reg_lambda=0.1, subsample=0.85 \n",
      "[CV]  colsample_bytree=0.95, gamma=0.01, learning_rate=0.1, max_delta_step=3, max_depth=5, min_child_weight=3, n_estimators=100, reg_alpha=5, reg_lambda=0.1, subsample=0.85, score=(train=-39541147419.067, test=-31621308759.864), total=   0.1s\n",
      "[CV] colsample_bytree=0.95, gamma=0.01, learning_rate=0.1, max_delta_step=3, max_depth=5, min_child_weight=3, n_estimators=100, reg_alpha=5, reg_lambda=0.1, subsample=0.85 \n",
      "[CV]  colsample_bytree=0.95, gamma=0.01, learning_rate=0.1, max_delta_step=3, max_depth=5, min_child_weight=3, n_estimators=100, reg_alpha=5, reg_lambda=0.1, subsample=0.85, score=(train=-38731373734.212, test=-38850968218.252), total=   0.1s\n",
      "[CV] colsample_bytree=0.95, gamma=0.01, learning_rate=0.1, max_delta_step=3, max_depth=5, min_child_weight=3, n_estimators=100, reg_alpha=5, reg_lambda=0.1, subsample=0.85 \n",
      "[CV]  colsample_bytree=0.95, gamma=0.01, learning_rate=0.1, max_delta_step=3, max_depth=5, min_child_weight=3, n_estimators=100, reg_alpha=5, reg_lambda=0.1, subsample=0.85, score=(train=-38803332714.113, test=-38208518445.695), total=   0.1s\n",
      "[CV] colsample_bytree=0.95, gamma=0.01, learning_rate=0.1, max_delta_step=3, max_depth=5, min_child_weight=3, n_estimators=100, reg_alpha=5, reg_lambda=0.1, subsample=0.85 \n",
      "[CV]  colsample_bytree=0.95, gamma=0.01, learning_rate=0.1, max_delta_step=3, max_depth=5, min_child_weight=3, n_estimators=100, reg_alpha=5, reg_lambda=0.1, subsample=0.85, score=(train=-38488470397.013, test=-41019609212.766), total=   0.1s\n",
      "[CV] colsample_bytree=0.95, gamma=0.01, learning_rate=0.1, max_delta_step=3, max_depth=5, min_child_weight=3, n_estimators=100, reg_alpha=5, reg_lambda=0.1, subsample=0.85 \n",
      "[CV]  colsample_bytree=0.95, gamma=0.01, learning_rate=0.1, max_delta_step=3, max_depth=5, min_child_weight=3, n_estimators=100, reg_alpha=5, reg_lambda=0.1, subsample=0.85, score=(train=-38651507532.422, test=-39564013667.835), total=   0.1s\n",
      "[CV] colsample_bytree=0.95, gamma=0.01, learning_rate=0.1, max_delta_step=3, max_depth=5, min_child_weight=3, n_estimators=100, reg_alpha=5, reg_lambda=0.1, subsample=0.85 \n",
      "[CV]  colsample_bytree=0.95, gamma=0.01, learning_rate=0.1, max_delta_step=3, max_depth=5, min_child_weight=3, n_estimators=100, reg_alpha=5, reg_lambda=0.1, subsample=0.85, score=(train=-38035288458.256, test=-45065617561.992), total=   0.1s\n",
      "[CV] colsample_bytree=0.95, gamma=0.01, learning_rate=0.1, max_delta_step=3, max_depth=5, min_child_weight=3, n_estimators=100, reg_alpha=5, reg_lambda=0.1, subsample=0.85 \n",
      "[CV]  colsample_bytree=0.95, gamma=0.01, learning_rate=0.1, max_delta_step=3, max_depth=5, min_child_weight=3, n_estimators=100, reg_alpha=5, reg_lambda=0.1, subsample=0.85, score=(train=-38110994968.246, test=-44389709840.801), total=   0.1s\n",
      "[CV] colsample_bytree=0.95, gamma=0.01, learning_rate=0.1, max_delta_step=3, max_depth=5, min_child_weight=3, n_estimators=100, reg_alpha=5, reg_lambda=0.1, subsample=0.85 \n",
      "[CV]  colsample_bytree=0.95, gamma=0.01, learning_rate=0.1, max_delta_step=3, max_depth=5, min_child_weight=3, n_estimators=100, reg_alpha=5, reg_lambda=0.1, subsample=0.85, score=(train=-38624602926.866, test=-39804217986.237), total=   0.1s\n",
      "[CV] colsample_bytree=0.95, gamma=0.01, learning_rate=0.1, max_delta_step=5, max_depth=5, min_child_weight=3, n_estimators=100, reg_alpha=5, reg_lambda=0.1, subsample=0.85 \n",
      "[CV]  colsample_bytree=0.95, gamma=0.01, learning_rate=0.1, max_delta_step=5, max_depth=5, min_child_weight=3, n_estimators=100, reg_alpha=5, reg_lambda=0.1, subsample=0.85, score=(train=-37683836376.404, test=-48131511922.586), total=   0.1s\n",
      "[CV] colsample_bytree=0.95, gamma=0.01, learning_rate=0.1, max_delta_step=5, max_depth=5, min_child_weight=3, n_estimators=100, reg_alpha=5, reg_lambda=0.1, subsample=0.85 \n"
     ]
    },
    {
     "name": "stdout",
     "output_type": "stream",
     "text": [
      "[CV]  colsample_bytree=0.95, gamma=0.01, learning_rate=0.1, max_delta_step=5, max_depth=5, min_child_weight=3, n_estimators=100, reg_alpha=5, reg_lambda=0.1, subsample=0.85, score=(train=-38372393454.877, test=-41984074325.978), total=   0.1s\n",
      "[CV] colsample_bytree=0.95, gamma=0.01, learning_rate=0.1, max_delta_step=5, max_depth=5, min_child_weight=3, n_estimators=100, reg_alpha=5, reg_lambda=0.1, subsample=0.85 \n",
      "[CV]  colsample_bytree=0.95, gamma=0.01, learning_rate=0.1, max_delta_step=5, max_depth=5, min_child_weight=3, n_estimators=100, reg_alpha=5, reg_lambda=0.1, subsample=0.85, score=(train=-39533846425.899, test=-31614622200.698), total=   0.1s\n",
      "[CV] colsample_bytree=0.95, gamma=0.01, learning_rate=0.1, max_delta_step=5, max_depth=5, min_child_weight=3, n_estimators=100, reg_alpha=5, reg_lambda=0.1, subsample=0.85 \n",
      "[CV]  colsample_bytree=0.95, gamma=0.01, learning_rate=0.1, max_delta_step=5, max_depth=5, min_child_weight=3, n_estimators=100, reg_alpha=5, reg_lambda=0.1, subsample=0.85, score=(train=-38724148223.804, test=-38843607749.002), total=   0.1s\n",
      "[CV] colsample_bytree=0.95, gamma=0.01, learning_rate=0.1, max_delta_step=5, max_depth=5, min_child_weight=3, n_estimators=100, reg_alpha=5, reg_lambda=0.1, subsample=0.85 \n",
      "[CV]  colsample_bytree=0.95, gamma=0.01, learning_rate=0.1, max_delta_step=5, max_depth=5, min_child_weight=3, n_estimators=100, reg_alpha=5, reg_lambda=0.1, subsample=0.85, score=(train=-38796091178.198, test=-38201301052.170), total=   0.1s\n",
      "[CV] colsample_bytree=0.95, gamma=0.01, learning_rate=0.1, max_delta_step=5, max_depth=5, min_child_weight=3, n_estimators=100, reg_alpha=5, reg_lambda=0.1, subsample=0.85 \n",
      "[CV]  colsample_bytree=0.95, gamma=0.01, learning_rate=0.1, max_delta_step=5, max_depth=5, min_child_weight=3, n_estimators=100, reg_alpha=5, reg_lambda=0.1, subsample=0.85, score=(train=-38481257620.565, test=-41012135054.714), total=   0.1s\n",
      "[CV] colsample_bytree=0.95, gamma=0.01, learning_rate=0.1, max_delta_step=5, max_depth=5, min_child_weight=3, n_estimators=100, reg_alpha=5, reg_lambda=0.1, subsample=0.85 \n",
      "[CV]  colsample_bytree=0.95, gamma=0.01, learning_rate=0.1, max_delta_step=5, max_depth=5, min_child_weight=3, n_estimators=100, reg_alpha=5, reg_lambda=0.1, subsample=0.85, score=(train=-38644278224.840, test=-39556687099.754), total=   0.1s\n",
      "[CV] colsample_bytree=0.95, gamma=0.01, learning_rate=0.1, max_delta_step=5, max_depth=5, min_child_weight=3, n_estimators=100, reg_alpha=5, reg_lambda=0.1, subsample=0.85 \n",
      "[CV]  colsample_bytree=0.95, gamma=0.01, learning_rate=0.1, max_delta_step=5, max_depth=5, min_child_weight=3, n_estimators=100, reg_alpha=5, reg_lambda=0.1, subsample=0.85, score=(train=-38028090193.657, test=-45058013842.154), total=   0.1s\n",
      "[CV] colsample_bytree=0.95, gamma=0.01, learning_rate=0.1, max_delta_step=5, max_depth=5, min_child_weight=3, n_estimators=100, reg_alpha=5, reg_lambda=0.1, subsample=0.85 \n",
      "[CV]  colsample_bytree=0.95, gamma=0.01, learning_rate=0.1, max_delta_step=5, max_depth=5, min_child_weight=3, n_estimators=100, reg_alpha=5, reg_lambda=0.1, subsample=0.85, score=(train=-38103812458.042, test=-44381965465.722), total=   0.1s\n",
      "[CV] colsample_bytree=0.95, gamma=0.01, learning_rate=0.1, max_delta_step=5, max_depth=5, min_child_weight=3, n_estimators=100, reg_alpha=5, reg_lambda=0.1, subsample=0.85 \n",
      "[CV]  colsample_bytree=0.95, gamma=0.01, learning_rate=0.1, max_delta_step=5, max_depth=5, min_child_weight=3, n_estimators=100, reg_alpha=5, reg_lambda=0.1, subsample=0.85, score=(train=-38617361187.582, test=-39797002408.394), total=   0.1s\n"
     ]
    },
    {
     "name": "stderr",
     "output_type": "stream",
     "text": [
      "[Parallel(n_jobs=1)]: Done  60 out of  60 | elapsed:    5.8s finished\n"
     ]
    },
    {
     "data": {
      "text/plain": [
       "GridSearchCV(cv=ShuffleSplit(n_splits=10, random_state=42, test_size=None, train_size=None),\n",
       "             error_score='raise-deprecating',\n",
       "             estimator=XGBRegressor(base_score=0.5, booster='gbtree',\n",
       "                                    colsample_bylevel=1, colsample_bynode=1,\n",
       "                                    colsample_bytree=1, gamma=0,\n",
       "                                    importance_type='gain', learning_rate=0.1,\n",
       "                                    max_delta_step=0, max_depth=3,\n",
       "                                    min_child_weight=1, missing=None,\n",
       "                                    n_esti...\n",
       "             iid='warn', n_jobs=None,\n",
       "             param_grid={'colsample_bytree': [0.95], 'gamma': [0.01],\n",
       "                         'learning_rate': [0.1],\n",
       "                         'max_delta_step': [0.01, 0.5, 0, 1, 3, 5],\n",
       "                         'max_depth': [5], 'min_child_weight': [3],\n",
       "                         'n_estimators': [100], 'reg_alpha': [5],\n",
       "                         'reg_lambda': [0.1], 'subsample': [0.85]},\n",
       "             pre_dispatch='2*n_jobs', refit=True, return_train_score=True,\n",
       "             scoring='neg_mean_squared_error', verbose=10)"
      ]
     },
     "execution_count": 68,
     "metadata": {},
     "output_type": "execute_result"
    }
   ],
   "source": [
    "grid_searchcv.fit(X_train_selected.values, y_train.values)"
   ]
  },
  {
   "cell_type": "code",
   "execution_count": 70,
   "metadata": {},
   "outputs": [],
   "source": [
    "from collections import defaultdict"
   ]
  },
  {
   "cell_type": "code",
   "execution_count": 71,
   "metadata": {
    "collapsed": true
   },
   "outputs": [
    {
     "data": {
      "text/plain": [
       "[(26780.258767866893,\n",
       "  {'colsample_bytree': 0.95,\n",
       "   'gamma': 0.01,\n",
       "   'learning_rate': 0.1,\n",
       "   'max_delta_step': 0,\n",
       "   'max_depth': 5,\n",
       "   'min_child_weight': 3,\n",
       "   'n_estimators': 100,\n",
       "   'reg_alpha': 5,\n",
       "   'reg_lambda': 0.1,\n",
       "   'subsample': 0.85}),\n",
       " (202133.84702250437,\n",
       "  {'colsample_bytree': 0.95,\n",
       "   'gamma': 0.01,\n",
       "   'learning_rate': 0.1,\n",
       "   'max_delta_step': 5,\n",
       "   'max_depth': 5,\n",
       "   'min_child_weight': 3,\n",
       "   'n_estimators': 100,\n",
       "   'reg_alpha': 5,\n",
       "   'reg_lambda': 0.1,\n",
       "   'subsample': 0.85}),\n",
       " (202152.12071316512,\n",
       "  {'colsample_bytree': 0.95,\n",
       "   'gamma': 0.01,\n",
       "   'learning_rate': 0.1,\n",
       "   'max_delta_step': 3,\n",
       "   'max_depth': 5,\n",
       "   'min_child_weight': 3,\n",
       "   'n_estimators': 100,\n",
       "   'reg_alpha': 5,\n",
       "   'reg_lambda': 0.1,\n",
       "   'subsample': 0.85}),\n",
       " (202170.39467662058,\n",
       "  {'colsample_bytree': 0.95,\n",
       "   'gamma': 0.01,\n",
       "   'learning_rate': 0.1,\n",
       "   'max_delta_step': 1,\n",
       "   'max_depth': 5,\n",
       "   'min_child_weight': 3,\n",
       "   'n_estimators': 100,\n",
       "   'reg_alpha': 5,\n",
       "   'reg_lambda': 0.1,\n",
       "   'subsample': 0.85}),\n",
       " (202174.96322638183,\n",
       "  {'colsample_bytree': 0.95,\n",
       "   'gamma': 0.01,\n",
       "   'learning_rate': 0.1,\n",
       "   'max_delta_step': 0.5,\n",
       "   'max_depth': 5,\n",
       "   'min_child_weight': 3,\n",
       "   'n_estimators': 100,\n",
       "   'reg_alpha': 5,\n",
       "   'reg_lambda': 0.1,\n",
       "   'subsample': 0.85}),\n",
       " (202179.44042495434,\n",
       "  {'colsample_bytree': 0.95,\n",
       "   'gamma': 0.01,\n",
       "   'learning_rate': 0.1,\n",
       "   'max_delta_step': 0.01,\n",
       "   'max_depth': 5,\n",
       "   'min_child_weight': 3,\n",
       "   'n_estimators': 100,\n",
       "   'reg_alpha': 5,\n",
       "   'reg_lambda': 0.1,\n",
       "   'subsample': 0.85})]"
      ]
     },
     "execution_count": 71,
     "metadata": {},
     "output_type": "execute_result"
    }
   ],
   "source": [
    "#track gridsearch scores and parameters on test folds\n",
    "test_score = defaultdict(dict)\n",
    "cvres = grid_searchcv.cv_results_\n",
    "test_score_params = []\n",
    "for mean_score, params in zip(cvres[\"mean_test_score\"], cvres[\"params\"]):\n",
    "    test_score[np.sqrt(-mean_score)] = params\n",
    "    test_score_params.append((np.sqrt(-mean_score), params))\n",
    "sorted(test_score_params, key= lambda x: x[0])"
   ]
  },
  {
   "cell_type": "code",
   "execution_count": 72,
   "metadata": {
    "collapsed": true
   },
   "outputs": [
    {
     "data": {
      "text/plain": [
       "[(10604.297092184579,\n",
       "  {'colsample_bytree': 0.95,\n",
       "   'gamma': 0.01,\n",
       "   'learning_rate': 0.1,\n",
       "   'max_delta_step': 0,\n",
       "   'max_depth': 5,\n",
       "   'min_child_weight': 3,\n",
       "   'n_estimators': 100,\n",
       "   'reg_alpha': 5,\n",
       "   'reg_lambda': 0.1,\n",
       "   'subsample': 0.85}),\n",
       " (196210.37570522804,\n",
       "  {'colsample_bytree': 0.95,\n",
       "   'gamma': 0.01,\n",
       "   'learning_rate': 0.1,\n",
       "   'max_delta_step': 5,\n",
       "   'max_depth': 5,\n",
       "   'min_child_weight': 3,\n",
       "   'n_estimators': 100,\n",
       "   'reg_alpha': 5,\n",
       "   'reg_lambda': 0.1,\n",
       "   'subsample': 0.85}),\n",
       " (196228.77970349658,\n",
       "  {'colsample_bytree': 0.95,\n",
       "   'gamma': 0.01,\n",
       "   'learning_rate': 0.1,\n",
       "   'max_delta_step': 3,\n",
       "   'max_depth': 5,\n",
       "   'min_child_weight': 3,\n",
       "   'n_estimators': 100,\n",
       "   'reg_alpha': 5,\n",
       "   'reg_lambda': 0.1,\n",
       "   'subsample': 0.85}),\n",
       " (196247.18395968497,\n",
       "  {'colsample_bytree': 0.95,\n",
       "   'gamma': 0.01,\n",
       "   'learning_rate': 0.1,\n",
       "   'max_delta_step': 1,\n",
       "   'max_depth': 5,\n",
       "   'min_child_weight': 3,\n",
       "   'n_estimators': 100,\n",
       "   'reg_alpha': 5,\n",
       "   'reg_lambda': 0.1,\n",
       "   'subsample': 0.85}),\n",
       " (196251.7850804215,\n",
       "  {'colsample_bytree': 0.95,\n",
       "   'gamma': 0.01,\n",
       "   'learning_rate': 0.1,\n",
       "   'max_delta_step': 0.5,\n",
       "   'max_depth': 5,\n",
       "   'min_child_weight': 3,\n",
       "   'n_estimators': 100,\n",
       "   'reg_alpha': 5,\n",
       "   'reg_lambda': 0.1,\n",
       "   'subsample': 0.85}),\n",
       " (196256.29419767117,\n",
       "  {'colsample_bytree': 0.95,\n",
       "   'gamma': 0.01,\n",
       "   'learning_rate': 0.1,\n",
       "   'max_delta_step': 0.01,\n",
       "   'max_depth': 5,\n",
       "   'min_child_weight': 3,\n",
       "   'n_estimators': 100,\n",
       "   'reg_alpha': 5,\n",
       "   'reg_lambda': 0.1,\n",
       "   'subsample': 0.85})]"
      ]
     },
     "execution_count": 72,
     "metadata": {},
     "output_type": "execute_result"
    }
   ],
   "source": [
    "#track gridsearch scores and parameters on train folds\n",
    "train_score = defaultdict(dict)\n",
    "cvres = grid_searchcv.cv_results_\n",
    "train_score_params = []\n",
    "for mean_score, params in zip(cvres[\"mean_train_score\"], cvres[\"params\"]):\n",
    "    train_score[np.sqrt(-mean_score)] = params\n",
    "    train_score_params.append((np.sqrt(-mean_score), params))\n",
    "sorted(train_score_params, key= lambda x:x[0])"
   ]
  },
  {
   "cell_type": "code",
   "execution_count": 73,
   "metadata": {},
   "outputs": [],
   "source": [
    "test_scores_array = np.array(list(test_score.keys()))\n",
    "train_score_array = np.array(list(train_score.keys()))"
   ]
  },
  {
   "cell_type": "code",
   "execution_count": 106,
   "metadata": {},
   "outputs": [
    {
     "data": {
      "image/png": "[encoded data removed]",
      "text/plain": [
       "<Figure size 720x576 with 1 Axes>"
      ]
     },
     "metadata": {},
     "output_type": "display_data"
    }
   ],
   "source": [
    "# plot mean scores from cross validation of both train and test\n",
    "fig = plt.figure(figsize=(10,8))\n",
    "x = list(range(6))\n",
    "plt.plot(x,test_scores_array, label='Test score')\n",
    "plt.plot(x,train_score_array ,label='Train score')\n",
    "plt.legend()\n",
    "plt.grid(\"on\")\n"
   ]
  },
  {
   "cell_type": "code",
   "execution_count": 92,
   "metadata": {},
   "outputs": [],
   "source": [
    "#assign dictionary of best params to a variable \n",
    "xgb_params =grid_searchcv.best_params_"
   ]
  },
  {
   "cell_type": "code",
   "execution_count": 109,
   "metadata": {},
   "outputs": [],
   "source": [
    "#persist dictionary of params\n",
    "np.save('/home/kolade/repos/house-prediction/persist/xgb_regression_params.npy',xgb_params)"
   ]
  },
  {
   "cell_type": "code",
   "execution_count": 93,
   "metadata": {},
   "outputs": [],
   "source": [
    "xgboost_rgr =  xgb.XGBRegressor(seed=42,objective='reg:squarederror',**xgb_params )"
   ]
  },
  {
   "cell_type": "code",
   "execution_count": 94,
   "metadata": {},
   "outputs": [
    {
     "data": {
      "text/plain": [
       "XGBRegressor(base_score=0.5, booster='gbtree', colsample_bylevel=1,\n",
       "             colsample_bynode=1, colsample_bytree=0.95, gamma=0.01,\n",
       "             importance_type='gain', learning_rate=0.1, max_delta_step=0,\n",
       "             max_depth=5, min_child_weight=3, missing=None, n_estimators=100,\n",
       "             n_jobs=1, nthread=None, objective='reg:squarederror',\n",
       "             random_state=0, reg_alpha=5, reg_lambda=0.1, scale_pos_weight=1,\n",
       "             seed=42, silent=None, subsample=0.85, verbosity=1)"
      ]
     },
     "execution_count": 94,
     "metadata": {},
     "output_type": "execute_result"
    }
   ],
   "source": [
    "xgboost_rgr.fit(X_train_selected.values, y_train.values)"
   ]
  },
  {
   "cell_type": "code",
   "execution_count": 95,
   "metadata": {},
   "outputs": [],
   "source": [
    "# predict on test_set\n",
    "y_pred = xgboost_rgr.predict(X_test_selected.values)"
   ]
  },
  {
   "cell_type": "code",
   "execution_count": 96,
   "metadata": {},
   "outputs": [
    {
     "data": {
      "text/plain": [
       "27135.073718916115"
      ]
     },
     "execution_count": 96,
     "metadata": {},
     "output_type": "execute_result"
    }
   ],
   "source": [
    "# calculate RMSE on predictions for test_set\n",
    "np.sqrt(mean_squared_error(y_test.values, y_pred))"
   ]
  },
  {
   "cell_type": "code",
   "execution_count": 97,
   "metadata": {},
   "outputs": [
    {
     "data": {
      "text/plain": [
       "0.909305146155511"
      ]
     },
     "execution_count": 97,
     "metadata": {},
     "output_type": "execute_result"
    }
   ],
   "source": [
    "# calculate R^2 score on precictions for test\n",
    "r2_score(y_test.values, y_pred)"
   ]
  },
  {
   "cell_type": "code",
   "execution_count": 98,
   "metadata": {},
   "outputs": [],
   "source": [
    "#predict on train set\n",
    "y_pred_train = xgboost_rgr.predict(X_train_selected.values)"
   ]
  },
  {
   "cell_type": "code",
   "execution_count": 99,
   "metadata": {},
   "outputs": [
    {
     "data": {
      "text/plain": [
       "11042.497655752457"
      ]
     },
     "execution_count": 99,
     "metadata": {},
     "output_type": "execute_result"
    }
   ],
   "source": [
    "# calculate RMSE score on precictions for train_set\n",
    "\n",
    "np.sqrt(mean_squared_error(y_train, y_pred_train))"
   ]
  },
  {
   "cell_type": "code",
   "execution_count": 100,
   "metadata": {},
   "outputs": [
    {
     "data": {
      "text/plain": [
       "0.9796330818138674"
      ]
     },
     "execution_count": 100,
     "metadata": {},
     "output_type": "execute_result"
    }
   ],
   "source": [
    "# calculate R^2 score on precictions for train_set\n",
    "r2_score(y_train.values, y_pred_train)"
   ]
  },
  {
   "cell_type": "markdown",
   "metadata": {},
   "source": [
    "The distribution of the errors is fairly normal which shows our model isn't bad"
   ]
  },
  {
   "cell_type": "code",
   "execution_count": 101,
   "metadata": {},
   "outputs": [
    {
     "data": {
      "image/png": "[encoded data removed]",
      "text/plain": [
       "<Figure size 432x288 with 1 Axes>"
      ]
     },
     "metadata": {},
     "output_type": "display_data"
    }
   ],
   "source": [
    "#plot the distribution of the errors\n",
    "plt.hist(y_test.values.flatten()-y_pred)\n",
    "plt.grid()"
   ]
  },
  {
   "cell_type": "code",
   "execution_count": 102,
   "metadata": {},
   "outputs": [
    {
     "data": {
      "text/plain": [
       "<matplotlib.collections.PathCollection at 0x7f3116063c50>"
      ]
     },
     "execution_count": 102,
     "metadata": {},
     "output_type": "execute_result"
    },
    {
     "data": {
      "image/png": "[encoded data removed]",
      "text/plain": [
       "<Figure size 432x288 with 1 Axes>"
      ]
     },
     "metadata": {},
     "output_type": "display_data"
    }
   ],
   "source": [
    "#plot the true target values against predicted ones\n",
    "plt.scatter(y_test.values, y_pred)"
   ]
  },
  {
   "cell_type": "markdown",
   "metadata": {},
   "source": [
    "The residuals are ploted to see the model is unable to capture patterns in the dataset, as it is seen, although not perfect the models are randomly distributed about the zero and no pattern emerges."
   ]
  },
  {
   "cell_type": "code",
   "execution_count": 103,
   "metadata": {},
   "outputs": [
    {
     "data": {
      "image/png": "[encoded data removed]",
      "text/plain": [
       "<Figure size 432x288 with 1 Axes>"
      ]
     },
     "metadata": {},
     "output_type": "display_data"
    }
   ],
   "source": [
    "#plot the residuals\n",
    "plt.scatter(y_pred_train, (y_pred_train - y_train.values.flatten()),c='steelblue', marker='o', edgecolor='white',label='Training data')\n",
    "plt.scatter(y_test.values, (y_pred - y_test.values.flatten()),c='limegreen', marker='s', edgecolor='white',label='Test data')\n",
    "plt.xlabel('Predicted values')\n",
    "plt.ylabel('Residuals')\n",
    "plt.legend(loc='upper left')\n",
    "plt.hlines(y=0, xmin=-10, xmax=50, color='black', lw=2)\n",
    "plt.show()"
   ]
  }
 ],
 "metadata": {
  "kernelspec": {
   "display_name": "Python [conda env:root] *",
   "language": "python",
   "name": "conda-root-py"
  },
  "language_info": {
   "codemirror_mode": {
    "name": "ipython",
    "version": 3
   },
   "file_extension": ".py",
   "mimetype": "text/x-python",
   "name": "python",
   "nbconvert_exporter": "python",
   "pygments_lexer": "ipython3",
   "version": "3.7.3"
  },
  "latex_envs": {
   "LaTeX_envs_menu_present": true,
   "autoclose": false,
   "autocomplete": true,
   "bibliofile": "biblio.bib",
   "cite_by": "apalike",
   "current_citInitial": 1,
   "eqLabelWithNumbers": true,
   "eqNumInitial": 1,
   "hotkeys": {
    "equation": "Ctrl-E",
    "itemize": "Ctrl-I"
   },
   "labels_anchors": false,
   "latex_user_defs": false,
   "report_style_numbering": false,
   "user_envs_cfg": false
  },
  "notify_time": "30",
  "toc": {
   "base_numbering": 1,
   "nav_menu": {},
   "number_sections": true,
   "sideBar": true,
   "skip_h1_title": false,
   "title_cell": "Table of Contents",
   "title_sidebar": "Contents",
   "toc_cell": false,
   "toc_position": {},
   "toc_section_display": true,
   "toc_window_display": true
  }
 },
 "nbformat": 4,
 "nbformat_minor": 2
}
